{
 "cells": [
  {
   "cell_type": "markdown",
   "id": "bdcaf7ad",
   "metadata": {},
   "source": [
    "# Оценка риска ДТП по выбранному маршруту"
   ]
  },
  {
   "cell_type": "markdown",
   "id": "49ace909",
   "metadata": {},
   "source": [
    "**Заказчик исследования:** каршеринговая компания.<br>\n",
    "\n",
    "**Задача:** создать систему, которая могла бы оценить риск ДТП по выбранному маршруту движения. Под риском понимается вероятность ДТП с любым повреждением транспортного средства. Как только водитель забронировал автомобиль, сел за руль и выбрал маршрут, система должна оценить уровень риска. Если уровень риска высок, водитель увидит предупреждение и рекомендации по маршруту.<br>\n",
    "\n",
    "Идея создания такой системы находится в стадии предварительного обсуждения и проработки. Чёткого алгоритма работы и подобных решений на рынке ещё не существует. Текущая задача — понять, возможно ли предсказывать ДТП, опираясь на исторические данные одного из регионов.<br>\n",
    "\n",
    "**Идея решения задачи от заказчика:** \n",
    "- Создать модель предсказания ДТП (целевое значение — at_fault (виновник) в таблице parties)\n",
    "- Для модели выбрать тип виновника — только машина (car).\n",
    "- Выбрать случаи, когда ДТП привело к любым повреждениям транспортного средства, кроме типа SCRATCH (царапина).\n",
    "- Для моделирования ограничиться данными за 2012 год — они самые свежие.\n",
    "- Обязательное условие — учесть фактор возраста автомобиля.\n",
    "- На основе модели исследовать основные факторы ДТП.\n",
    "- Понять, помогут ли результаты моделирования и анализ важности факторов ответить на вопросы:\n",
    "1. Возможно ли создать адекватную системe оценки водительского риска при выдаче авто?\n",
    "2. Какие ещё факторы нужно учесть?\n",
    "3. Нужно ли оборудовать автомобиль какими-либо датчиками или камерой?"
   ]
  },
  {
   "cell_type": "markdown",
   "id": "8b7fba0a",
   "metadata": {},
   "source": [
    "## Загрузка данных"
   ]
  },
  {
   "cell_type": "code",
   "execution_count": 1,
   "id": "b11b5da2",
   "metadata": {},
   "outputs": [
    {
     "name": "stdout",
     "output_type": "stream",
     "text": [
      "Requirement already satisfied: skorch in c:\\users\\dns\\anaconda3\\envs\\practicum\\lib\\site-packages (0.12.1)\n",
      "Requirement already satisfied: numpy>=1.13.3 in c:\\users\\dns\\anaconda3\\envs\\practicum\\lib\\site-packages (from skorch) (1.20.1)\n",
      "Requirement already satisfied: scikit-learn>=0.22.0 in c:\\users\\dns\\anaconda3\\envs\\practicum\\lib\\site-packages (from skorch) (0.24.1)\n",
      "Requirement already satisfied: tqdm>=4.14.0 in c:\\users\\dns\\anaconda3\\envs\\practicum\\lib\\site-packages (from skorch) (4.64.0)\n",
      "Requirement already satisfied: tabulate>=0.7.7 in c:\\users\\dns\\anaconda3\\envs\\practicum\\lib\\site-packages (from skorch) (0.9.0)\n",
      "Requirement already satisfied: scipy>=1.1.0 in c:\\users\\dns\\anaconda3\\envs\\practicum\\lib\\site-packages (from skorch) (1.8.0)\n",
      "Requirement already satisfied: joblib>=0.11 in c:\\users\\dns\\anaconda3\\envs\\practicum\\lib\\site-packages (from scikit-learn>=0.22.0->skorch) (1.1.0)\n",
      "Requirement already satisfied: threadpoolctl>=2.0.0 in c:\\users\\dns\\anaconda3\\envs\\practicum\\lib\\site-packages (from scikit-learn>=0.22.0->skorch) (3.1.0)\n",
      "Requirement already satisfied: colorama in c:\\users\\dns\\anaconda3\\envs\\practicum\\lib\\site-packages (from tqdm>=4.14.0->skorch) (0.4.4)\n"
     ]
    }
   ],
   "source": [
    "!pip install skorch "
   ]
  },
  {
   "cell_type": "code",
   "execution_count": 2,
   "id": "44a979dd",
   "metadata": {},
   "outputs": [],
   "source": [
    "from sqlalchemy import create_engine \n",
    "import pandas as pd \n",
    "import seaborn as sns \n",
    "import numpy as np \n",
    "import torch \n",
    "import torch.nn as nn \n",
    "from math import ceil \n",
    "import matplotlib.pyplot as plt \n",
    "from sklearn.model_selection import train_test_split, GridSearchCV, KFold, RandomizedSearchCV \n",
    "from sklearn.compose import ColumnTransformer \n",
    "from sklearn.preprocessing import OneHotEncoder, StandardScaler \n",
    "from sklearn.metrics import SCORERS, roc_auc_score \n",
    "from catboost import CatBoostClassifier \n",
    "from torch.utils.data import Dataset, DataLoader\n",
    "from skorch.callbacks import EpochScoring, EarlyStopping\n",
    "from skorch import NeuralNetClassifier  \n",
    "from skorch.dataset import ValidSplit\n",
    "pd.options.display.float_format = '{:20,.2f}'.format "
   ]
  },
  {
   "cell_type": "code",
   "execution_count": 3,
   "id": "f9bba1a3",
   "metadata": {},
   "outputs": [],
   "source": [
    "db_config = {\n",
    "    'user': 'praktikum_student', # имя пользователя,\n",
    "    'pwd': 'Sdf4$2;d-d30pp', # пароль,\n",
    "    'host': 'rc1b-wcoijxj3yxfsf3fs.mdb.yandexcloud.net',\n",
    "    'port': 6432, # порт подключения,\n",
    "    'db': 'data-science-vehicle-db' # название базы данных,\n",
    "} \n",
    "\n",
    "connection_string = 'postgresql://{}:{}@{}:{}/{}'.format(\n",
    "    db_config['user'],\n",
    "    db_config['pwd'],\n",
    "    db_config['host'],\n",
    "    db_config['port'],\n",
    "    db_config['db'],\n",
    ")\n",
    "\n",
    "engine = create_engine(connection_string) "
   ]
  },
  {
   "cell_type": "markdown",
   "id": "b75a86d6",
   "metadata": {},
   "source": [
    "## Обзор данных"
   ]
  },
  {
   "cell_type": "markdown",
   "id": "b862fb63",
   "metadata": {},
   "source": [
    "### Collisions"
   ]
  },
  {
   "cell_type": "markdown",
   "id": "75f15714",
   "metadata": {},
   "source": [
    "Имеет уникальный case_id. Эта таблица описывает общую информацию о ДТП. Например, где оно произошло и когда."
   ]
  },
  {
   "cell_type": "code",
   "execution_count": 4,
   "id": "932200db",
   "metadata": {},
   "outputs": [],
   "source": [
    "query = '''\n",
    "SELECT *\n",
    "FROM collisions;\n",
    "'''\n",
    "\n",
    "collisions = pd.read_sql_query(query, con=engine) "
   ]
  },
  {
   "cell_type": "code",
   "execution_count": 5,
   "id": "96bd63e5",
   "metadata": {},
   "outputs": [
    {
     "data": {
      "text/html": [
       "<div>\n",
       "<style scoped>\n",
       "    .dataframe tbody tr th:only-of-type {\n",
       "        vertical-align: middle;\n",
       "    }\n",
       "\n",
       "    .dataframe tbody tr th {\n",
       "        vertical-align: top;\n",
       "    }\n",
       "\n",
       "    .dataframe thead th {\n",
       "        text-align: right;\n",
       "    }\n",
       "</style>\n",
       "<table border=\"1\" class=\"dataframe\">\n",
       "  <thead>\n",
       "    <tr style=\"text-align: right;\">\n",
       "      <th></th>\n",
       "      <th>case_id</th>\n",
       "      <th>county_city_location</th>\n",
       "      <th>county_location</th>\n",
       "      <th>distance</th>\n",
       "      <th>direction</th>\n",
       "      <th>intersection</th>\n",
       "      <th>weather_1</th>\n",
       "      <th>location_type</th>\n",
       "      <th>collision_damage</th>\n",
       "      <th>party_count</th>\n",
       "      <th>primary_collision_factor</th>\n",
       "      <th>pcf_violation_category</th>\n",
       "      <th>type_of_collision</th>\n",
       "      <th>motor_vehicle_involved_with</th>\n",
       "      <th>road_surface</th>\n",
       "      <th>road_condition_1</th>\n",
       "      <th>lighting</th>\n",
       "      <th>control_device</th>\n",
       "      <th>collision_date</th>\n",
       "      <th>collision_time</th>\n",
       "    </tr>\n",
       "  </thead>\n",
       "  <tbody>\n",
       "    <tr>\n",
       "      <th>0</th>\n",
       "      <td>4083072</td>\n",
       "      <td>1942</td>\n",
       "      <td>los angeles</td>\n",
       "      <td>528.00</td>\n",
       "      <td>north</td>\n",
       "      <td>0.00</td>\n",
       "      <td>cloudy</td>\n",
       "      <td>highway</td>\n",
       "      <td>small damage</td>\n",
       "      <td>2</td>\n",
       "      <td>vehicle code violation</td>\n",
       "      <td>unsafe lane change</td>\n",
       "      <td>sideswipe</td>\n",
       "      <td>other motor vehicle</td>\n",
       "      <td>wet</td>\n",
       "      <td>normal</td>\n",
       "      <td>daylight</td>\n",
       "      <td>none</td>\n",
       "      <td>2009-01-22</td>\n",
       "      <td>07:25:00</td>\n",
       "    </tr>\n",
       "    <tr>\n",
       "      <th>1</th>\n",
       "      <td>4083075</td>\n",
       "      <td>4313</td>\n",
       "      <td>santa clara</td>\n",
       "      <td>0.00</td>\n",
       "      <td>None</td>\n",
       "      <td>1.00</td>\n",
       "      <td>clear</td>\n",
       "      <td>None</td>\n",
       "      <td>small damage</td>\n",
       "      <td>1</td>\n",
       "      <td>vehicle code violation</td>\n",
       "      <td>improper passing</td>\n",
       "      <td>hit object</td>\n",
       "      <td>fixed object</td>\n",
       "      <td>dry</td>\n",
       "      <td>normal</td>\n",
       "      <td>dark with street lights</td>\n",
       "      <td>functioning</td>\n",
       "      <td>2009-01-03</td>\n",
       "      <td>02:26:00</td>\n",
       "    </tr>\n",
       "    <tr>\n",
       "      <th>2</th>\n",
       "      <td>4083073</td>\n",
       "      <td>0109</td>\n",
       "      <td>alameda</td>\n",
       "      <td>0.00</td>\n",
       "      <td>None</td>\n",
       "      <td>1.00</td>\n",
       "      <td>clear</td>\n",
       "      <td>None</td>\n",
       "      <td>scratch</td>\n",
       "      <td>2</td>\n",
       "      <td>vehicle code violation</td>\n",
       "      <td>improper turning</td>\n",
       "      <td>broadside</td>\n",
       "      <td>other motor vehicle</td>\n",
       "      <td>dry</td>\n",
       "      <td>normal</td>\n",
       "      <td>dark with street lights</td>\n",
       "      <td>functioning</td>\n",
       "      <td>2009-01-11</td>\n",
       "      <td>03:32:00</td>\n",
       "    </tr>\n",
       "    <tr>\n",
       "      <th>3</th>\n",
       "      <td>4083077</td>\n",
       "      <td>0109</td>\n",
       "      <td>alameda</td>\n",
       "      <td>0.00</td>\n",
       "      <td>None</td>\n",
       "      <td>1.00</td>\n",
       "      <td>clear</td>\n",
       "      <td>None</td>\n",
       "      <td>scratch</td>\n",
       "      <td>2</td>\n",
       "      <td>vehicle code violation</td>\n",
       "      <td>automobile right of way</td>\n",
       "      <td>broadside</td>\n",
       "      <td>other motor vehicle</td>\n",
       "      <td>dry</td>\n",
       "      <td>normal</td>\n",
       "      <td>daylight</td>\n",
       "      <td>functioning</td>\n",
       "      <td>2009-01-11</td>\n",
       "      <td>10:35:00</td>\n",
       "    </tr>\n",
       "    <tr>\n",
       "      <th>4</th>\n",
       "      <td>4083087</td>\n",
       "      <td>4313</td>\n",
       "      <td>santa clara</td>\n",
       "      <td>0.00</td>\n",
       "      <td>None</td>\n",
       "      <td>1.00</td>\n",
       "      <td>clear</td>\n",
       "      <td>None</td>\n",
       "      <td>scratch</td>\n",
       "      <td>2</td>\n",
       "      <td>vehicle code violation</td>\n",
       "      <td>speeding</td>\n",
       "      <td>rear end</td>\n",
       "      <td>other motor vehicle</td>\n",
       "      <td>dry</td>\n",
       "      <td>None</td>\n",
       "      <td>dark with street lights</td>\n",
       "      <td>functioning</td>\n",
       "      <td>2009-01-02</td>\n",
       "      <td>22:43:00</td>\n",
       "    </tr>\n",
       "  </tbody>\n",
       "</table>\n",
       "</div>"
      ],
      "text/plain": [
       "   case_id county_city_location county_location             distance  \\\n",
       "0  4083072                 1942     los angeles               528.00   \n",
       "1  4083075                 4313     santa clara                 0.00   \n",
       "2  4083073                 0109         alameda                 0.00   \n",
       "3  4083077                 0109         alameda                 0.00   \n",
       "4  4083087                 4313     santa clara                 0.00   \n",
       "\n",
       "  direction         intersection weather_1 location_type collision_damage  \\\n",
       "0     north                 0.00    cloudy       highway     small damage   \n",
       "1      None                 1.00     clear          None     small damage   \n",
       "2      None                 1.00     clear          None          scratch   \n",
       "3      None                 1.00     clear          None          scratch   \n",
       "4      None                 1.00     clear          None          scratch   \n",
       "\n",
       "   party_count primary_collision_factor   pcf_violation_category  \\\n",
       "0            2   vehicle code violation       unsafe lane change   \n",
       "1            1   vehicle code violation         improper passing   \n",
       "2            2   vehicle code violation         improper turning   \n",
       "3            2   vehicle code violation  automobile right of way   \n",
       "4            2   vehicle code violation                 speeding   \n",
       "\n",
       "  type_of_collision motor_vehicle_involved_with road_surface road_condition_1  \\\n",
       "0         sideswipe         other motor vehicle          wet           normal   \n",
       "1        hit object                fixed object          dry           normal   \n",
       "2         broadside         other motor vehicle          dry           normal   \n",
       "3         broadside         other motor vehicle          dry           normal   \n",
       "4          rear end         other motor vehicle          dry             None   \n",
       "\n",
       "                  lighting control_device collision_date collision_time  \n",
       "0                 daylight           none     2009-01-22       07:25:00  \n",
       "1  dark with street lights    functioning     2009-01-03       02:26:00  \n",
       "2  dark with street lights    functioning     2009-01-11       03:32:00  \n",
       "3                 daylight    functioning     2009-01-11       10:35:00  \n",
       "4  dark with street lights    functioning     2009-01-02       22:43:00  "
      ]
     },
     "execution_count": 5,
     "metadata": {},
     "output_type": "execute_result"
    }
   ],
   "source": [
    "collisions.head()"
   ]
  },
  {
   "cell_type": "code",
   "execution_count": 6,
   "id": "bf8d43e3",
   "metadata": {},
   "outputs": [
    {
     "name": "stdout",
     "output_type": "stream",
     "text": [
      "<class 'pandas.core.frame.DataFrame'>\n",
      "RangeIndex: 1400000 entries, 0 to 1399999\n",
      "Data columns (total 20 columns):\n",
      " #   Column                       Non-Null Count    Dtype  \n",
      "---  ------                       --------------    -----  \n",
      " 0   case_id                      1400000 non-null  object \n",
      " 1   county_city_location         1400000 non-null  object \n",
      " 2   county_location              1400000 non-null  object \n",
      " 3   distance                     1400000 non-null  float64\n",
      " 4   direction                    1059358 non-null  object \n",
      " 5   intersection                 1387781 non-null  float64\n",
      " 6   weather_1                    1392741 non-null  object \n",
      " 7   location_type                518779 non-null   object \n",
      " 8   collision_damage             1400000 non-null  object \n",
      " 9   party_count                  1400000 non-null  int64  \n",
      " 10  primary_collision_factor     1391834 non-null  object \n",
      " 11  pcf_violation_category       1372046 non-null  object \n",
      " 12  type_of_collision            1388176 non-null  object \n",
      " 13  motor_vehicle_involved_with  1393181 non-null  object \n",
      " 14  road_surface                 1386907 non-null  object \n",
      " 15  road_condition_1             1388012 non-null  object \n",
      " 16  lighting                     1391407 non-null  object \n",
      " 17  control_device               1391593 non-null  object \n",
      " 18  collision_date               1400000 non-null  object \n",
      " 19  collision_time               1387692 non-null  object \n",
      "dtypes: float64(2), int64(1), object(17)\n",
      "memory usage: 213.6+ MB\n"
     ]
    }
   ],
   "source": [
    "collisions.info()"
   ]
  },
  {
   "cell_type": "markdown",
   "id": "ceff41e7",
   "metadata": {},
   "source": [
    "| Обозначение в таблице | Описание | Подробнее |\n",
    "|---------------------|--------|-------------------|\n",
    "| CASE_ID |<p>Индификационный номер в базе данных</p>| <p>Уникальный номер для зарегистрированного происшествия в таблице происшествий. </p>|\n",
    "|COLLISION_DATE|<p>Дата проишествия</p>|<p>Формат год/месяц/день</p>|\n",
    "|COLLISION_TIME|<p>Время проишествия</p>|<p>Формат:24-часовой</p>|\n",
    "|INTERSECTION|<p>Является ли место проишествия перекрестком</p>|<p>Y - Intersection (перекресток) <br> N - Not Intersection (не перекресток) <br> -- - Not stated (не указано)</p>|\n",
    "|WEATHER_1|<p>Погода</p>|<p>A - Clear(Ясно) <br> B - Cloudy(Облачно) <br> C - Rainning(Облачно) <br> D - Snownig(Снегопад) <br> E - Fog(Туман) <br> F - Other (Другое) <br> G - Wind(Ветер) <br> - - Not stated(не указано)</p><br>|\n",
    "|COLLISON_DAMAGE|<p>Серьёзность проишествия</p>|<p>1 - FATAL TC (не подлежить востановлению)<br>2 - SEVERE DAMAGE (Серьёзный ремонт, большая часть подзамену/Серьёзное повреждение капитального стоения <br> 3 - MIDDLE DAMAGE (Средний ремонт, машина в целом на ходу/Строение в целом устояло <br> 4 - SMALL DAMAGE (Отдельный элемент кузова под замену/покраска) <br> 0 -  SCRATCH (царапина)</p>|\n",
    "|PRIMARY_COLL_FACTOR|<p>Основной фактор аварий</p>|<p> A - Code Violation (Нарушение правил ПДД) <br> B - Other Improper Driving (Другое направильное вождение) <br> C - Other Than Driver (Кроме водителя) <br> D - Unknown (Неизвестно) <br> E - Fell Asleep (Заснул) <br> - - Not Stated (Не указано)</p>|\n",
    "|ROAD_SURFACE|<p>Состояние дороги</p>|<p>A - Dry (сухая) <br> B - Wet (Мокрая) <br> C - Snowy or Icy (Заснеженная или обледенелая) <br> D - Slippery (Muddy, Oily, ect.)(Скользкая,грязная,маслянистая и т.д.) <br> - - Not Stated(Не указано)</p>|\n",
    "|LIGHTING|<p>Освещение</p>|<p>A - Daylight(Дневной свет) <br> B - Dusk-Dawn (Сумерки-Рассвет) <br> C - Dark-Street Lights (Темно-Уличные фонари) <br> D - Dark-No Street Lights (Темно-Нет уличных фонарей) <br> E - Dark-Street Lights Not Functioning (Темно-уличные фонари не работают) <br> - - Not State (Не указано)</p>|\n",
    "|COUNTY_CITY_LOCATION|<p>Номер географических районов, где произошло ДТП</p>|<p>Число</p>|\n",
    "|COUNTY_LOCATION|<p>Название географических районов, где произошло ДТП</p>|<p>Список разных названий, категориальный тип данных</p>|\n",
    "|DIRECTION|<p>Направление движения</p>|<p> N - North (Север) <br> E - East (Восток) <br> S - South (Юг) <br> W - West (Запад) - or blank - Not state (не указано) <br> на перекрестке</p>|\n",
    "|DISTANCE|<p>Растояние от главной дороги (метры)</p>|<p>Число</p>|\n",
    "|LOCATION_TYPE|<p>Тип дороги</p>|<p> H - Highway(Шоссе) <br> I - Intersection (Перекресток) <br> R - Ramp (or Collector) (Рампа) <br> - or blank - Not State (не указано) </p>|\n",
    "|PARTY_COUNT|<p>Количестко участников</p>|<p>Число</p>|\n",
    "|PCF_VIOLATION_CATEGORY|<p>Категория нарушения</p>|<p>01 — Driving or Bicycling Under the Influence of Alcohol or Drug (Вождение или езда на велосипеде в состоянии алкогольного или наркотического опьянения)<br>02 — Impeding Traffic (Препятствие движению транспорта)<br>03 — Unsafe Speed (Превышение скорости)<br>04 — Following Too Closely (Опасное сближение)<br>05 — Wrong Side of Road (Неправильная сторона дороги)<br>06 — Improper Passing (Неправильное движение)<br>07 — Unsafe Lane Change (Небезопасная смена полосы движения)<br>08 — Improper Turning (Неправильный поворот)<br>09 — Automobile Right of Way (Автомобильное право проезда)<br>10 — Pedestrian Right of Way (Пешеходное право проезда)<br>11 — Pedestrian Violation (Нарушение пешеходами)<br>12 — Traffic Signals and Signs (Дорожные сигналы и знаки)<br>13 — Hazardous Parking (Неправильная парковка)<br>14 — Lights (Освещение)<br>15 — Brakes (Тормоза)<br>16 — Other Equipment (Другое оборудование)<br>17 — Other Hazardous Violation (Другие нарушения)<br>18 — Other Than Driver (or Pedestrian) (Кроме водителя или пешехода)<br>19 — Speeding (Скорость)<br>20 — Pedestrian dui (Нарушение пешехода)<br>21 — Unsafe Starting or Backing (Опасный старт)<br>22 — Other Improper Driving (Другое неправильное вождение)<br>23 — Pedestrian or “Other” Under the Influence of Alcohol or Drug (Пешеход или «Другой» в состоянии алкогольного или наркотического опьянения)<br>24 — Fell Asleep (Заснул)<br>00 — Unknown (Неизвестно)<br>- — Not Stated (Не указано)</p>|\n",
    "|TYPE_OF_COLLISION|<p>Аварии</p>|<p>A — Head-On (Лоб в лоб)<br>B — Sideswipe (Сторона)<br>C — Rear End (Столкновение задней частью)<br>D — Broadside (Боковой удар)<br>E — Hit Object (Удар объекта)<br>F — Overturned (Опрокинутый)<br>G — Vehicle (транспортное средство/ Пешеход)<br>H — Other (Другое)<br>- — Not Stated (Не указано)</p>|\n",
    "|MOTOR_VEHICLE_INVOLVED_WITH|<p>Дополнительные участники ДТП</p>|<p>Other motor vehicle (Другой автомобиль)<br>Fixed object (Неподвижный объект)<br>Parked motor vehicle (Припаркованный автомобиль)<br>Pedestrian (Пешеход)<br>Bicycle (Велосипедист)<br>Non-collision (Не столкновение)<br>Other object (Другой объект)<br>Motor vehicle on other roadway (Автомобиль на другой проезжей)<br>Animal (Животное)<br>Train (Поезд)</p>|\n",
    "|ROAD_CONDITION_1|<p> Дорожное состояние</p>|<p>A — Holes, Deep Ruts (Ямы, глубокая колея)<br>B — Loose Material on Roadway (Сыпучий материал на проезжей части)<br>C — Obstruction on Roadway (Препятствие на проезжей части)<br>D — Construction or Repair Zone (Зона строительства или ремонта)<br>E — Reduced Roadway Width (Уменьшенная ширина проезжей части)<br>F — Flooded (Затоплено)<br>G — Other (Другое)<br>H — No Unusual Condition (Нет ничего необычного)<br>- — Not Stated (Не указано)</p>|\n",
    "|CONTROL_CONDITION_1|<p> Устройство управления</p>|<p>A — Functioning (Функционирует)<br>B — Not Functioning (Не функционирует)<br>C — Obscured (Затемнённый)<br>D — None (Нет)<br>- — Not Stated (Не указано)</p>|"
   ]
  },
  {
   "cell_type": "markdown",
   "id": "09d67fb2",
   "metadata": {},
   "source": [
    "Все данные на месте и соответствуют описанию.<br> \n",
    "`control_device` (в таблице) = `control_condition_1` (в описании)"
   ]
  },
  {
   "cell_type": "markdown",
   "id": "1d2b055a",
   "metadata": {},
   "source": [
    "### Parties"
   ]
  },
  {
   "cell_type": "markdown",
   "id": "1cda10ac",
   "metadata": {},
   "source": [
    "Имеет неуникальный `case_id`, который сопоставляется с соответствующим ДТП в таблице `collisions`. Каждая строка здесь описывает одну из сторон, участвующих в ДТП. Если столкнулись две машины, в этой таблице должно быть две строки с совпадением `case_id`. Если нужен уникальный идентификатор, это `case_id and party_number`."
   ]
  },
  {
   "cell_type": "code",
   "execution_count": 7,
   "id": "41e56bc2",
   "metadata": {},
   "outputs": [],
   "source": [
    "query = '''\n",
    "SELECT *\n",
    "FROM parties;\n",
    "'''\n",
    "\n",
    "parties = pd.read_sql_query(query, con=engine) "
   ]
  },
  {
   "cell_type": "code",
   "execution_count": 8,
   "id": "bed845ab",
   "metadata": {},
   "outputs": [
    {
     "data": {
      "text/html": [
       "<div>\n",
       "<style scoped>\n",
       "    .dataframe tbody tr th:only-of-type {\n",
       "        vertical-align: middle;\n",
       "    }\n",
       "\n",
       "    .dataframe tbody tr th {\n",
       "        vertical-align: top;\n",
       "    }\n",
       "\n",
       "    .dataframe thead th {\n",
       "        text-align: right;\n",
       "    }\n",
       "</style>\n",
       "<table border=\"1\" class=\"dataframe\">\n",
       "  <thead>\n",
       "    <tr style=\"text-align: right;\">\n",
       "      <th></th>\n",
       "      <th>id</th>\n",
       "      <th>case_id</th>\n",
       "      <th>party_number</th>\n",
       "      <th>party_type</th>\n",
       "      <th>at_fault</th>\n",
       "      <th>insurance_premium</th>\n",
       "      <th>party_sobriety</th>\n",
       "      <th>party_drug_physical</th>\n",
       "      <th>cellphone_in_use</th>\n",
       "    </tr>\n",
       "  </thead>\n",
       "  <tbody>\n",
       "    <tr>\n",
       "      <th>0</th>\n",
       "      <td>22</td>\n",
       "      <td>3899454</td>\n",
       "      <td>1</td>\n",
       "      <td>road signs</td>\n",
       "      <td>1</td>\n",
       "      <td>29.00</td>\n",
       "      <td>had not been drinking</td>\n",
       "      <td>None</td>\n",
       "      <td>0.00</td>\n",
       "    </tr>\n",
       "    <tr>\n",
       "      <th>1</th>\n",
       "      <td>23</td>\n",
       "      <td>3899454</td>\n",
       "      <td>2</td>\n",
       "      <td>road signs</td>\n",
       "      <td>0</td>\n",
       "      <td>7.00</td>\n",
       "      <td>had not been drinking</td>\n",
       "      <td>None</td>\n",
       "      <td>0.00</td>\n",
       "    </tr>\n",
       "    <tr>\n",
       "      <th>2</th>\n",
       "      <td>29</td>\n",
       "      <td>3899462</td>\n",
       "      <td>2</td>\n",
       "      <td>car</td>\n",
       "      <td>0</td>\n",
       "      <td>21.00</td>\n",
       "      <td>had not been drinking</td>\n",
       "      <td>None</td>\n",
       "      <td>0.00</td>\n",
       "    </tr>\n",
       "    <tr>\n",
       "      <th>3</th>\n",
       "      <td>31</td>\n",
       "      <td>3899465</td>\n",
       "      <td>2</td>\n",
       "      <td>road signs</td>\n",
       "      <td>0</td>\n",
       "      <td>24.00</td>\n",
       "      <td>had not been drinking</td>\n",
       "      <td>None</td>\n",
       "      <td>0.00</td>\n",
       "    </tr>\n",
       "    <tr>\n",
       "      <th>4</th>\n",
       "      <td>41</td>\n",
       "      <td>3899478</td>\n",
       "      <td>2</td>\n",
       "      <td>road bumper</td>\n",
       "      <td>0</td>\n",
       "      <td>NaN</td>\n",
       "      <td>not applicable</td>\n",
       "      <td>not applicable</td>\n",
       "      <td>0.00</td>\n",
       "    </tr>\n",
       "  </tbody>\n",
       "</table>\n",
       "</div>"
      ],
      "text/plain": [
       "   id  case_id  party_number   party_type  at_fault    insurance_premium  \\\n",
       "0  22  3899454             1   road signs         1                29.00   \n",
       "1  23  3899454             2   road signs         0                 7.00   \n",
       "2  29  3899462             2          car         0                21.00   \n",
       "3  31  3899465             2   road signs         0                24.00   \n",
       "4  41  3899478             2  road bumper         0                  NaN   \n",
       "\n",
       "          party_sobriety party_drug_physical     cellphone_in_use  \n",
       "0  had not been drinking                None                 0.00  \n",
       "1  had not been drinking                None                 0.00  \n",
       "2  had not been drinking                None                 0.00  \n",
       "3  had not been drinking                None                 0.00  \n",
       "4         not applicable      not applicable                 0.00  "
      ]
     },
     "execution_count": 8,
     "metadata": {},
     "output_type": "execute_result"
    }
   ],
   "source": [
    "parties.head()"
   ]
  },
  {
   "cell_type": "code",
   "execution_count": 9,
   "id": "23f69b4e",
   "metadata": {},
   "outputs": [
    {
     "name": "stdout",
     "output_type": "stream",
     "text": [
      "<class 'pandas.core.frame.DataFrame'>\n",
      "RangeIndex: 2752408 entries, 0 to 2752407\n",
      "Data columns (total 9 columns):\n",
      " #   Column               Dtype  \n",
      "---  ------               -----  \n",
      " 0   id                   int64  \n",
      " 1   case_id              object \n",
      " 2   party_number         int64  \n",
      " 3   party_type           object \n",
      " 4   at_fault             int64  \n",
      " 5   insurance_premium    float64\n",
      " 6   party_sobriety       object \n",
      " 7   party_drug_physical  object \n",
      " 8   cellphone_in_use     float64\n",
      "dtypes: float64(2), int64(3), object(4)\n",
      "memory usage: 189.0+ MB\n"
     ]
    }
   ],
   "source": [
    "parties.info()"
   ]
  },
  {
   "cell_type": "markdown",
   "id": "d221a265",
   "metadata": {},
   "source": [
    "|Обозначение в таблице|Описание|Подробнее|\n",
    "|---------------------|--------|------------------|\n",
    "|CASE_ID|<p>Идентификационный номер в базе данных</p>|<p>Уникальный номер для зарегестрированного проишествия в таблице проишествий</p>|\n",
    "|PARTY_NUMBER|<p>Номер участника проишествия</p>|<p> От 1 до N - по числу участников проишествия </p>|\n",
    "|PARTY_TYPE|<p>Тип участника проишествия</p>|<p>1 — Car (Авто)<br>2 — Road bumper (Дорожные знаки)<br>3 — Building (Строения)<br>4 — Road signs (Отбойник)<br>5 — Other (Другое)<br>6 — Operator (Оператор)<br>- — Not Stated (Не указано)</p>|\n",
    "|AT_FAULT|<p>Виновность участника</p>|<p>0/1</p>|\n",
    "|INSURANCE_PREMIUM|<p>Сумма страховки (тыс.$) </p>|<p>Число</p>|\n",
    "|PARTY_DRUG_PHYSICAL|<p>Состояние участника: физическое или с учетом принятых лекарств</p>|<p>E — Under Drug Influence (Под воздействием лекарств)<br>F — Impairment — Physical (Ухудшение состояния)<br>G — Impairment Unknown (Не известно)<br>H — Not Applicable (Не оценивался)<br>I — Sleepy/Fatigued (Сонный/Усталый)<br>- — Not Stated (Не указано)</p>|\n",
    "|PARTY_SOBRIETY|<p>Трезвость участника</p>|<p>A — Had Not Been Drinking (Не пил)<br>B — Had Been Drinking, Under Influence (Был пьян, под влиянием)<br>C — Had Been Drinking, Not Under Influence (Был пьян, не под влиянием)<br>D — Had Been Drinking, Impairment Unknown (Был пьян, ухудшение неизвестно)<br>G — Impairment Unknown (Неизвестно ухудшение)<br>H — Not Applicable (Не оценивался)<br>- — Not Stated (Не указано)</p>|\n",
    "|CELLPHONE_IN_USE|<p>Наличие телефона в автомобиле (возможность||"
   ]
  },
  {
   "cell_type": "markdown",
   "id": "48c64aaa",
   "metadata": {},
   "source": [
    "Все данные на месте и соответсвуют описанию."
   ]
  },
  {
   "cell_type": "markdown",
   "id": "5bf180bb",
   "metadata": {},
   "source": [
    "### Vehicles"
   ]
  },
  {
   "cell_type": "markdown",
   "id": "09e8976b",
   "metadata": {},
   "source": [
    "Имеет неуникальные `case_id` и неуникальные `party_number`, которые сопоставляются с таблицей `collisions` и таблицей `parties`. Если нужен уникальный идентификатор, это `case_id and party_number`."
   ]
  },
  {
   "cell_type": "code",
   "execution_count": 10,
   "id": "cc73366f",
   "metadata": {},
   "outputs": [],
   "source": [
    "query = '''\n",
    "SELECT *\n",
    "FROM vehicles;\n",
    "'''\n",
    "\n",
    "vehicles = pd.read_sql_query(query, con=engine) "
   ]
  },
  {
   "cell_type": "code",
   "execution_count": 11,
   "id": "75ba5afb",
   "metadata": {},
   "outputs": [
    {
     "data": {
      "text/html": [
       "<div>\n",
       "<style scoped>\n",
       "    .dataframe tbody tr th:only-of-type {\n",
       "        vertical-align: middle;\n",
       "    }\n",
       "\n",
       "    .dataframe tbody tr th {\n",
       "        vertical-align: top;\n",
       "    }\n",
       "\n",
       "    .dataframe thead th {\n",
       "        text-align: right;\n",
       "    }\n",
       "</style>\n",
       "<table border=\"1\" class=\"dataframe\">\n",
       "  <thead>\n",
       "    <tr style=\"text-align: right;\">\n",
       "      <th></th>\n",
       "      <th>id</th>\n",
       "      <th>case_id</th>\n",
       "      <th>party_number</th>\n",
       "      <th>vehicle_type</th>\n",
       "      <th>vehicle_transmission</th>\n",
       "      <th>vehicle_age</th>\n",
       "    </tr>\n",
       "  </thead>\n",
       "  <tbody>\n",
       "    <tr>\n",
       "      <th>0</th>\n",
       "      <td>1175713</td>\n",
       "      <td>5305032</td>\n",
       "      <td>2</td>\n",
       "      <td>sedan</td>\n",
       "      <td>manual</td>\n",
       "      <td>3.00</td>\n",
       "    </tr>\n",
       "    <tr>\n",
       "      <th>1</th>\n",
       "      <td>1</td>\n",
       "      <td>3858022</td>\n",
       "      <td>1</td>\n",
       "      <td>sedan</td>\n",
       "      <td>auto</td>\n",
       "      <td>3.00</td>\n",
       "    </tr>\n",
       "    <tr>\n",
       "      <th>2</th>\n",
       "      <td>1175712</td>\n",
       "      <td>5305030</td>\n",
       "      <td>1</td>\n",
       "      <td>sedan</td>\n",
       "      <td>auto</td>\n",
       "      <td>3.00</td>\n",
       "    </tr>\n",
       "    <tr>\n",
       "      <th>3</th>\n",
       "      <td>1175717</td>\n",
       "      <td>5305033</td>\n",
       "      <td>3</td>\n",
       "      <td>sedan</td>\n",
       "      <td>auto</td>\n",
       "      <td>5.00</td>\n",
       "    </tr>\n",
       "    <tr>\n",
       "      <th>4</th>\n",
       "      <td>1175722</td>\n",
       "      <td>5305034</td>\n",
       "      <td>2</td>\n",
       "      <td>sedan</td>\n",
       "      <td>auto</td>\n",
       "      <td>5.00</td>\n",
       "    </tr>\n",
       "  </tbody>\n",
       "</table>\n",
       "</div>"
      ],
      "text/plain": [
       "        id  case_id  party_number vehicle_type vehicle_transmission  \\\n",
       "0  1175713  5305032             2        sedan               manual   \n",
       "1        1  3858022             1        sedan                 auto   \n",
       "2  1175712  5305030             1        sedan                 auto   \n",
       "3  1175717  5305033             3        sedan                 auto   \n",
       "4  1175722  5305034             2        sedan                 auto   \n",
       "\n",
       "           vehicle_age  \n",
       "0                 3.00  \n",
       "1                 3.00  \n",
       "2                 3.00  \n",
       "3                 5.00  \n",
       "4                 5.00  "
      ]
     },
     "execution_count": 11,
     "metadata": {},
     "output_type": "execute_result"
    }
   ],
   "source": [
    "vehicles.head()"
   ]
  },
  {
   "cell_type": "code",
   "execution_count": 12,
   "id": "1b457ddf",
   "metadata": {},
   "outputs": [
    {
     "name": "stdout",
     "output_type": "stream",
     "text": [
      "<class 'pandas.core.frame.DataFrame'>\n",
      "RangeIndex: 1021234 entries, 0 to 1021233\n",
      "Data columns (total 6 columns):\n",
      " #   Column                Non-Null Count    Dtype  \n",
      "---  ------                --------------    -----  \n",
      " 0   id                    1021234 non-null  int64  \n",
      " 1   case_id               1021234 non-null  object \n",
      " 2   party_number          1021234 non-null  int64  \n",
      " 3   vehicle_type          1021234 non-null  object \n",
      " 4   vehicle_transmission  997575 non-null   object \n",
      " 5   vehicle_age           996652 non-null   float64\n",
      "dtypes: float64(1), int64(2), object(3)\n",
      "memory usage: 46.7+ MB\n"
     ]
    }
   ],
   "source": [
    "vehicles.info() "
   ]
  },
  {
   "cell_type": "markdown",
   "id": "22b49bf2",
   "metadata": {},
   "source": [
    "|Обозначение в таблице|<p>Описание</p>|<p>Подробнее</p>|\n",
    "|---------------------|--------|-------------------|\n",
    "|ID|<p>Индекс текущей таблицы</p>|<p>Номекр в таблице</p>|\n",
    "|CASE_ID|<p>Идентификационный номер в базу данных</p>|<p>Уникальный номер для зарегестрированного проишествия в таблице проишествий</p>|\n",
    "|VEHICLE_TYPE|<p>Тип кузова</p>|<p>MINIVAN<br>COUPE<br>SEDAN<br>HATCHBACK<br>OTHER</p>|\n",
    "|VEHICLE_TRANSMISSION|<p>Тип КПП</p>|<p>auto (Автоматическая)<br>manual (Ручная)<br>- — Not Stated (Не указано)</p>|\n",
    "|VEHICLE_AGE|<p>Возраст автомобиля (в годаз)</p>|<p> число</p>|"
   ]
  },
  {
   "cell_type": "markdown",
   "id": "c06ed8a9",
   "metadata": {},
   "source": [
    "Все данные на месте и соответствуют описанию."
   ]
  },
  {
   "cell_type": "markdown",
   "id": "fb6f5a95",
   "metadata": {},
   "source": [
    "### Вывод"
   ]
  },
  {
   "cell_type": "markdown",
   "id": "3f0a9484",
   "metadata": {},
   "source": [
    "У нас есть 3 таблицы, как и должно быть по условию. Для каждой таблицы имеется описание столбцов. Данных достаточно для исследования.<br>\n",
    "\n",
    "Все таблицы связаны друг с другом общим ключом `case_id` - идентификатором происшествия. А также таблицы `parties` и `vehicles` связаны ключом `party_number` - номером участника происшествия.<br>\n",
    "\n",
    "По сути получается, что в таблице `parties` содержится информация обо всех участниках ДТП: людях, автомобилях и сторонних предметах. А таблица `vehicles` расширяет информацию только обо автомобилях.<br>\n",
    "\n",
    "Таблица `parties` - 2,7 млн. записей<br>\n",
    "Таблица `collisions` - 1,4 млн. записей<br>\n",
    "Таблица `vehicles` - 1 млн. записей"
   ]
  },
  {
   "cell_type": "markdown",
   "id": "a3824fbe",
   "metadata": {},
   "source": [
    "## Статистический анализ факторов ДТП"
   ]
  },
  {
   "cell_type": "markdown",
   "id": "e1a483cf",
   "metadata": {},
   "source": [
    "### Месяцы с наибольшим количеством аварий"
   ]
  },
  {
   "cell_type": "markdown",
   "id": "35e01685",
   "metadata": {},
   "source": [
    "Для начала проверим, за какой период есть данные в таблице вообще."
   ]
  },
  {
   "cell_type": "code",
   "execution_count": 13,
   "id": "48007762",
   "metadata": {},
   "outputs": [
    {
     "data": {
      "text/html": [
       "<div>\n",
       "<style scoped>\n",
       "    .dataframe tbody tr th:only-of-type {\n",
       "        vertical-align: middle;\n",
       "    }\n",
       "\n",
       "    .dataframe tbody tr th {\n",
       "        vertical-align: top;\n",
       "    }\n",
       "\n",
       "    .dataframe thead th {\n",
       "        text-align: right;\n",
       "    }\n",
       "</style>\n",
       "<table border=\"1\" class=\"dataframe\">\n",
       "  <thead>\n",
       "    <tr style=\"text-align: right;\">\n",
       "      <th></th>\n",
       "      <th>date_trunc</th>\n",
       "      <th>count</th>\n",
       "    </tr>\n",
       "  </thead>\n",
       "  <tbody>\n",
       "    <tr>\n",
       "      <th>0</th>\n",
       "      <td>2009-01-01</td>\n",
       "      <td>35062</td>\n",
       "    </tr>\n",
       "    <tr>\n",
       "      <th>1</th>\n",
       "      <td>2009-02-01</td>\n",
       "      <td>34480</td>\n",
       "    </tr>\n",
       "    <tr>\n",
       "      <th>2</th>\n",
       "      <td>2009-03-01</td>\n",
       "      <td>36648</td>\n",
       "    </tr>\n",
       "    <tr>\n",
       "      <th>3</th>\n",
       "      <td>2009-04-01</td>\n",
       "      <td>35239</td>\n",
       "    </tr>\n",
       "    <tr>\n",
       "      <th>4</th>\n",
       "      <td>2009-05-01</td>\n",
       "      <td>36916</td>\n",
       "    </tr>\n",
       "    <tr>\n",
       "      <th>5</th>\n",
       "      <td>2009-06-01</td>\n",
       "      <td>34202</td>\n",
       "    </tr>\n",
       "    <tr>\n",
       "      <th>6</th>\n",
       "      <td>2009-07-01</td>\n",
       "      <td>35161</td>\n",
       "    </tr>\n",
       "    <tr>\n",
       "      <th>7</th>\n",
       "      <td>2009-08-01</td>\n",
       "      <td>34508</td>\n",
       "    </tr>\n",
       "    <tr>\n",
       "      <th>8</th>\n",
       "      <td>2009-09-01</td>\n",
       "      <td>35555</td>\n",
       "    </tr>\n",
       "    <tr>\n",
       "      <th>9</th>\n",
       "      <td>2009-10-01</td>\n",
       "      <td>37835</td>\n",
       "    </tr>\n",
       "    <tr>\n",
       "      <th>10</th>\n",
       "      <td>2009-11-01</td>\n",
       "      <td>34562</td>\n",
       "    </tr>\n",
       "    <tr>\n",
       "      <th>11</th>\n",
       "      <td>2009-12-01</td>\n",
       "      <td>36060</td>\n",
       "    </tr>\n",
       "    <tr>\n",
       "      <th>12</th>\n",
       "      <td>2010-01-01</td>\n",
       "      <td>32892</td>\n",
       "    </tr>\n",
       "    <tr>\n",
       "      <th>13</th>\n",
       "      <td>2010-02-01</td>\n",
       "      <td>31918</td>\n",
       "    </tr>\n",
       "    <tr>\n",
       "      <th>14</th>\n",
       "      <td>2010-03-01</td>\n",
       "      <td>35803</td>\n",
       "    </tr>\n",
       "    <tr>\n",
       "      <th>15</th>\n",
       "      <td>2010-04-01</td>\n",
       "      <td>34416</td>\n",
       "    </tr>\n",
       "    <tr>\n",
       "      <th>16</th>\n",
       "      <td>2010-05-01</td>\n",
       "      <td>34862</td>\n",
       "    </tr>\n",
       "    <tr>\n",
       "      <th>17</th>\n",
       "      <td>2010-06-01</td>\n",
       "      <td>33367</td>\n",
       "    </tr>\n",
       "    <tr>\n",
       "      <th>18</th>\n",
       "      <td>2010-07-01</td>\n",
       "      <td>33645</td>\n",
       "    </tr>\n",
       "    <tr>\n",
       "      <th>19</th>\n",
       "      <td>2010-08-01</td>\n",
       "      <td>34620</td>\n",
       "    </tr>\n",
       "    <tr>\n",
       "      <th>20</th>\n",
       "      <td>2010-09-01</td>\n",
       "      <td>34957</td>\n",
       "    </tr>\n",
       "    <tr>\n",
       "      <th>21</th>\n",
       "      <td>2010-10-01</td>\n",
       "      <td>37480</td>\n",
       "    </tr>\n",
       "    <tr>\n",
       "      <th>22</th>\n",
       "      <td>2010-11-01</td>\n",
       "      <td>35460</td>\n",
       "    </tr>\n",
       "    <tr>\n",
       "      <th>23</th>\n",
       "      <td>2010-12-01</td>\n",
       "      <td>37070</td>\n",
       "    </tr>\n",
       "    <tr>\n",
       "      <th>24</th>\n",
       "      <td>2011-01-01</td>\n",
       "      <td>31926</td>\n",
       "    </tr>\n",
       "    <tr>\n",
       "      <th>25</th>\n",
       "      <td>2011-02-01</td>\n",
       "      <td>31975</td>\n",
       "    </tr>\n",
       "    <tr>\n",
       "      <th>26</th>\n",
       "      <td>2011-03-01</td>\n",
       "      <td>34585</td>\n",
       "    </tr>\n",
       "    <tr>\n",
       "      <th>27</th>\n",
       "      <td>2011-04-01</td>\n",
       "      <td>31377</td>\n",
       "    </tr>\n",
       "    <tr>\n",
       "      <th>28</th>\n",
       "      <td>2011-05-01</td>\n",
       "      <td>33370</td>\n",
       "    </tr>\n",
       "    <tr>\n",
       "      <th>29</th>\n",
       "      <td>2011-06-01</td>\n",
       "      <td>31962</td>\n",
       "    </tr>\n",
       "    <tr>\n",
       "      <th>30</th>\n",
       "      <td>2011-07-01</td>\n",
       "      <td>33029</td>\n",
       "    </tr>\n",
       "    <tr>\n",
       "      <th>31</th>\n",
       "      <td>2011-08-01</td>\n",
       "      <td>34339</td>\n",
       "    </tr>\n",
       "    <tr>\n",
       "      <th>32</th>\n",
       "      <td>2011-09-01</td>\n",
       "      <td>34137</td>\n",
       "    </tr>\n",
       "    <tr>\n",
       "      <th>33</th>\n",
       "      <td>2011-10-01</td>\n",
       "      <td>36618</td>\n",
       "    </tr>\n",
       "    <tr>\n",
       "      <th>34</th>\n",
       "      <td>2011-11-01</td>\n",
       "      <td>34495</td>\n",
       "    </tr>\n",
       "    <tr>\n",
       "      <th>35</th>\n",
       "      <td>2011-12-01</td>\n",
       "      <td>34615</td>\n",
       "    </tr>\n",
       "    <tr>\n",
       "      <th>36</th>\n",
       "      <td>2012-01-01</td>\n",
       "      <td>32020</td>\n",
       "    </tr>\n",
       "    <tr>\n",
       "      <th>37</th>\n",
       "      <td>2012-02-01</td>\n",
       "      <td>30377</td>\n",
       "    </tr>\n",
       "    <tr>\n",
       "      <th>38</th>\n",
       "      <td>2012-03-01</td>\n",
       "      <td>32498</td>\n",
       "    </tr>\n",
       "    <tr>\n",
       "      <th>39</th>\n",
       "      <td>2012-04-01</td>\n",
       "      <td>29143</td>\n",
       "    </tr>\n",
       "    <tr>\n",
       "      <th>40</th>\n",
       "      <td>2012-05-01</td>\n",
       "      <td>25168</td>\n",
       "    </tr>\n",
       "    <tr>\n",
       "      <th>41</th>\n",
       "      <td>2012-06-01</td>\n",
       "      <td>3062</td>\n",
       "    </tr>\n",
       "    <tr>\n",
       "      <th>42</th>\n",
       "      <td>2012-07-01</td>\n",
       "      <td>390</td>\n",
       "    </tr>\n",
       "    <tr>\n",
       "      <th>43</th>\n",
       "      <td>2012-08-01</td>\n",
       "      <td>622</td>\n",
       "    </tr>\n",
       "    <tr>\n",
       "      <th>44</th>\n",
       "      <td>2012-09-01</td>\n",
       "      <td>510</td>\n",
       "    </tr>\n",
       "    <tr>\n",
       "      <th>45</th>\n",
       "      <td>2012-10-01</td>\n",
       "      <td>304</td>\n",
       "    </tr>\n",
       "    <tr>\n",
       "      <th>46</th>\n",
       "      <td>2012-11-01</td>\n",
       "      <td>253</td>\n",
       "    </tr>\n",
       "    <tr>\n",
       "      <th>47</th>\n",
       "      <td>2012-12-01</td>\n",
       "      <td>200</td>\n",
       "    </tr>\n",
       "    <tr>\n",
       "      <th>48</th>\n",
       "      <td>2013-01-01</td>\n",
       "      <td>144</td>\n",
       "    </tr>\n",
       "    <tr>\n",
       "      <th>49</th>\n",
       "      <td>2013-02-01</td>\n",
       "      <td>108</td>\n",
       "    </tr>\n",
       "    <tr>\n",
       "      <th>50</th>\n",
       "      <td>2013-03-01</td>\n",
       "      <td>46</td>\n",
       "    </tr>\n",
       "    <tr>\n",
       "      <th>51</th>\n",
       "      <td>2013-04-01</td>\n",
       "      <td>5</td>\n",
       "    </tr>\n",
       "    <tr>\n",
       "      <th>52</th>\n",
       "      <td>2013-06-01</td>\n",
       "      <td>1</td>\n",
       "    </tr>\n",
       "    <tr>\n",
       "      <th>53</th>\n",
       "      <td>2013-07-01</td>\n",
       "      <td>1</td>\n",
       "    </tr>\n",
       "    <tr>\n",
       "      <th>54</th>\n",
       "      <td>2020-03-01</td>\n",
       "      <td>1</td>\n",
       "    </tr>\n",
       "    <tr>\n",
       "      <th>55</th>\n",
       "      <td>2020-07-01</td>\n",
       "      <td>1</td>\n",
       "    </tr>\n",
       "  </tbody>\n",
       "</table>\n",
       "</div>"
      ],
      "text/plain": [
       "    date_trunc  count\n",
       "0   2009-01-01  35062\n",
       "1   2009-02-01  34480\n",
       "2   2009-03-01  36648\n",
       "3   2009-04-01  35239\n",
       "4   2009-05-01  36916\n",
       "5   2009-06-01  34202\n",
       "6   2009-07-01  35161\n",
       "7   2009-08-01  34508\n",
       "8   2009-09-01  35555\n",
       "9   2009-10-01  37835\n",
       "10  2009-11-01  34562\n",
       "11  2009-12-01  36060\n",
       "12  2010-01-01  32892\n",
       "13  2010-02-01  31918\n",
       "14  2010-03-01  35803\n",
       "15  2010-04-01  34416\n",
       "16  2010-05-01  34862\n",
       "17  2010-06-01  33367\n",
       "18  2010-07-01  33645\n",
       "19  2010-08-01  34620\n",
       "20  2010-09-01  34957\n",
       "21  2010-10-01  37480\n",
       "22  2010-11-01  35460\n",
       "23  2010-12-01  37070\n",
       "24  2011-01-01  31926\n",
       "25  2011-02-01  31975\n",
       "26  2011-03-01  34585\n",
       "27  2011-04-01  31377\n",
       "28  2011-05-01  33370\n",
       "29  2011-06-01  31962\n",
       "30  2011-07-01  33029\n",
       "31  2011-08-01  34339\n",
       "32  2011-09-01  34137\n",
       "33  2011-10-01  36618\n",
       "34  2011-11-01  34495\n",
       "35  2011-12-01  34615\n",
       "36  2012-01-01  32020\n",
       "37  2012-02-01  30377\n",
       "38  2012-03-01  32498\n",
       "39  2012-04-01  29143\n",
       "40  2012-05-01  25168\n",
       "41  2012-06-01   3062\n",
       "42  2012-07-01    390\n",
       "43  2012-08-01    622\n",
       "44  2012-09-01    510\n",
       "45  2012-10-01    304\n",
       "46  2012-11-01    253\n",
       "47  2012-12-01    200\n",
       "48  2013-01-01    144\n",
       "49  2013-02-01    108\n",
       "50  2013-03-01     46\n",
       "51  2013-04-01      5\n",
       "52  2013-06-01      1\n",
       "53  2013-07-01      1\n",
       "54  2020-03-01      1\n",
       "55  2020-07-01      1"
      ]
     },
     "execution_count": 13,
     "metadata": {},
     "output_type": "execute_result"
    }
   ],
   "source": [
    "query = '''\n",
    "SELECT DATE_TRUNC('month', collision_date)::date,\n",
    "    COUNT(*)\n",
    "FROM collisions\n",
    "GROUP BY DATE_TRUNC('month', collision_date)::date;\n",
    "'''\n",
    "\n",
    "pd.read_sql_query(query, con=engine) "
   ]
  },
  {
   "cell_type": "markdown",
   "id": "c1d5d2da",
   "metadata": {},
   "source": [
    "Данные за весь год есть только за период 2009-2012, несколько записей за 2013 и 2020 (их можно вообще не учитывать, на статистику не повлияют). С июня 2012 резко сократилось число ДТП - это может быть связано либо с каким-то нововведением, которое могло способствовать уменьшению аварий, либо с неполнотой данных."
   ]
  },
  {
   "cell_type": "markdown",
   "id": "f57c2350",
   "metadata": {},
   "source": [
    "Теперь подсчитаем статистику с количеством аварий по месяцам суммарно. Данные за 2013 и 2020 лучше не использовать, чтобы не создавали перевес."
   ]
  },
  {
   "cell_type": "code",
   "execution_count": 14,
   "id": "d1365d8a",
   "metadata": {},
   "outputs": [],
   "source": [
    "query = '''\n",
    "SELECT EXTRACT(MONTH FROM collision_date)::int,\n",
    "    COUNT(*)\n",
    "FROM collisions\n",
    "WHERE EXTRACT(YEAR FROM collision_date) BETWEEN 2009 AND 2012\n",
    "GROUP BY EXTRACT(MONTH FROM collision_date)\n",
    "ORDER BY COUNT(*) DESC;\n",
    "'''\n",
    "\n",
    "collisions_per_month = pd.read_sql_query(query, con=engine) "
   ]
  },
  {
   "cell_type": "code",
   "execution_count": 15,
   "id": "20bb7167",
   "metadata": {},
   "outputs": [
    {
     "data": {
      "text/html": [
       "<div>\n",
       "<style scoped>\n",
       "    .dataframe tbody tr th:only-of-type {\n",
       "        vertical-align: middle;\n",
       "    }\n",
       "\n",
       "    .dataframe tbody tr th {\n",
       "        vertical-align: top;\n",
       "    }\n",
       "\n",
       "    .dataframe thead th {\n",
       "        text-align: right;\n",
       "    }\n",
       "</style>\n",
       "<table border=\"1\" class=\"dataframe\">\n",
       "  <thead>\n",
       "    <tr style=\"text-align: right;\">\n",
       "      <th></th>\n",
       "      <th>date_part</th>\n",
       "      <th>count</th>\n",
       "    </tr>\n",
       "  </thead>\n",
       "  <tbody>\n",
       "    <tr>\n",
       "      <th>0</th>\n",
       "      <td>3</td>\n",
       "      <td>139534</td>\n",
       "    </tr>\n",
       "    <tr>\n",
       "      <th>1</th>\n",
       "      <td>1</td>\n",
       "      <td>131900</td>\n",
       "    </tr>\n",
       "    <tr>\n",
       "      <th>2</th>\n",
       "      <td>5</td>\n",
       "      <td>130316</td>\n",
       "    </tr>\n",
       "    <tr>\n",
       "      <th>3</th>\n",
       "      <td>4</td>\n",
       "      <td>130175</td>\n",
       "    </tr>\n",
       "    <tr>\n",
       "      <th>4</th>\n",
       "      <td>2</td>\n",
       "      <td>128750</td>\n",
       "    </tr>\n",
       "    <tr>\n",
       "      <th>5</th>\n",
       "      <td>10</td>\n",
       "      <td>112237</td>\n",
       "    </tr>\n",
       "    <tr>\n",
       "      <th>6</th>\n",
       "      <td>12</td>\n",
       "      <td>107945</td>\n",
       "    </tr>\n",
       "    <tr>\n",
       "      <th>7</th>\n",
       "      <td>9</td>\n",
       "      <td>105159</td>\n",
       "    </tr>\n",
       "    <tr>\n",
       "      <th>8</th>\n",
       "      <td>11</td>\n",
       "      <td>104770</td>\n",
       "    </tr>\n",
       "    <tr>\n",
       "      <th>9</th>\n",
       "      <td>8</td>\n",
       "      <td>104089</td>\n",
       "    </tr>\n",
       "    <tr>\n",
       "      <th>10</th>\n",
       "      <td>6</td>\n",
       "      <td>102593</td>\n",
       "    </tr>\n",
       "    <tr>\n",
       "      <th>11</th>\n",
       "      <td>7</td>\n",
       "      <td>102225</td>\n",
       "    </tr>\n",
       "  </tbody>\n",
       "</table>\n",
       "</div>"
      ],
      "text/plain": [
       "    date_part   count\n",
       "0           3  139534\n",
       "1           1  131900\n",
       "2           5  130316\n",
       "3           4  130175\n",
       "4           2  128750\n",
       "5          10  112237\n",
       "6          12  107945\n",
       "7           9  105159\n",
       "8          11  104770\n",
       "9           8  104089\n",
       "10          6  102593\n",
       "11          7  102225"
      ]
     },
     "execution_count": 15,
     "metadata": {},
     "output_type": "execute_result"
    }
   ],
   "source": [
    "collisions_per_month"
   ]
  },
  {
   "cell_type": "code",
   "execution_count": 16,
   "id": "1d906d6a",
   "metadata": {},
   "outputs": [
    {
     "data": {
      "image/png": "[encoded data removed]",
      "text/plain": [
       "<Figure size 576x360 with 1 Axes>"
      ]
     },
     "metadata": {
      "needs_background": "light"
     },
     "output_type": "display_data"
    }
   ],
   "source": [
    "fig, ax = plt.subplots(figsize=(8,5))\n",
    "ax = sns.barplot(x=collisions_per_month['date_part'], y=collisions_per_month['count'])\n",
    "plt.title('Количество ДТП по месяцам суммарно 2009-2012')\n",
    "plt.xlabel('Месяц')\n",
    "plt.ylabel('Количество')\n",
    "plt.show()"
   ]
  },
  {
   "cell_type": "markdown",
   "id": "c6520a24",
   "metadata": {},
   "source": [
    "А теперь вычислим средние значения по каждому месяцу."
   ]
  },
  {
   "cell_type": "code",
   "execution_count": 17,
   "id": "ae9e994d",
   "metadata": {},
   "outputs": [],
   "source": [
    "query = '''\n",
    "WITH t AS (SELECT DATE_TRUNC('month', collision_date)::date AS date_month,\n",
    "                COUNT(*) AS cnt\n",
    "           FROM collisions\n",
    "           GROUP BY DATE_TRUNC('month', collision_date)::date)\n",
    "           \n",
    "SELECT EXTRACT(MONTH FROM date_month)::int AS month,\n",
    "    AVG(cnt)::int\n",
    "FROM t\n",
    "WHERE EXTRACT(YEAR FROM date_month) BETWEEN 2009 AND 2012\n",
    "GROUP BY EXTRACT(MONTH FROM date_month)\n",
    "ORDER BY avg DESC;\n",
    "'''\n",
    "\n",
    "collisions_per_month = pd.read_sql_query(query, con=engine) "
   ]
  },
  {
   "cell_type": "code",
   "execution_count": 18,
   "id": "c167eb45",
   "metadata": {},
   "outputs": [
    {
     "data": {
      "text/html": [
       "<div>\n",
       "<style scoped>\n",
       "    .dataframe tbody tr th:only-of-type {\n",
       "        vertical-align: middle;\n",
       "    }\n",
       "\n",
       "    .dataframe tbody tr th {\n",
       "        vertical-align: top;\n",
       "    }\n",
       "\n",
       "    .dataframe thead th {\n",
       "        text-align: right;\n",
       "    }\n",
       "</style>\n",
       "<table border=\"1\" class=\"dataframe\">\n",
       "  <thead>\n",
       "    <tr style=\"text-align: right;\">\n",
       "      <th></th>\n",
       "      <th>month</th>\n",
       "      <th>avg</th>\n",
       "    </tr>\n",
       "  </thead>\n",
       "  <tbody>\n",
       "    <tr>\n",
       "      <th>0</th>\n",
       "      <td>3</td>\n",
       "      <td>34884</td>\n",
       "    </tr>\n",
       "    <tr>\n",
       "      <th>1</th>\n",
       "      <td>1</td>\n",
       "      <td>32975</td>\n",
       "    </tr>\n",
       "    <tr>\n",
       "      <th>2</th>\n",
       "      <td>5</td>\n",
       "      <td>32579</td>\n",
       "    </tr>\n",
       "    <tr>\n",
       "      <th>3</th>\n",
       "      <td>4</td>\n",
       "      <td>32544</td>\n",
       "    </tr>\n",
       "    <tr>\n",
       "      <th>4</th>\n",
       "      <td>2</td>\n",
       "      <td>32188</td>\n",
       "    </tr>\n",
       "    <tr>\n",
       "      <th>5</th>\n",
       "      <td>10</td>\n",
       "      <td>28059</td>\n",
       "    </tr>\n",
       "    <tr>\n",
       "      <th>6</th>\n",
       "      <td>12</td>\n",
       "      <td>26986</td>\n",
       "    </tr>\n",
       "    <tr>\n",
       "      <th>7</th>\n",
       "      <td>9</td>\n",
       "      <td>26290</td>\n",
       "    </tr>\n",
       "    <tr>\n",
       "      <th>8</th>\n",
       "      <td>11</td>\n",
       "      <td>26193</td>\n",
       "    </tr>\n",
       "    <tr>\n",
       "      <th>9</th>\n",
       "      <td>8</td>\n",
       "      <td>26022</td>\n",
       "    </tr>\n",
       "    <tr>\n",
       "      <th>10</th>\n",
       "      <td>6</td>\n",
       "      <td>25648</td>\n",
       "    </tr>\n",
       "    <tr>\n",
       "      <th>11</th>\n",
       "      <td>7</td>\n",
       "      <td>25556</td>\n",
       "    </tr>\n",
       "  </tbody>\n",
       "</table>\n",
       "</div>"
      ],
      "text/plain": [
       "    month    avg\n",
       "0       3  34884\n",
       "1       1  32975\n",
       "2       5  32579\n",
       "3       4  32544\n",
       "4       2  32188\n",
       "5      10  28059\n",
       "6      12  26986\n",
       "7       9  26290\n",
       "8      11  26193\n",
       "9       8  26022\n",
       "10      6  25648\n",
       "11      7  25556"
      ]
     },
     "execution_count": 18,
     "metadata": {},
     "output_type": "execute_result"
    }
   ],
   "source": [
    "collisions_per_month"
   ]
  },
  {
   "cell_type": "code",
   "execution_count": 19,
   "id": "8c89b665",
   "metadata": {},
   "outputs": [
    {
     "data": {
      "image/png": "[encoded data removed]",
      "text/plain": [
       "<Figure size 576x360 with 1 Axes>"
      ]
     },
     "metadata": {
      "needs_background": "light"
     },
     "output_type": "display_data"
    }
   ],
   "source": [
    "fig, ax = plt.subplots(figsize=(8,5))\n",
    "ax = sns.barplot(x=collisions_per_month['month'], y=collisions_per_month['avg'])\n",
    "plt.title('Количество ДТП по месяцам в среднем 2009-2012')\n",
    "plt.xlabel('Месяц')\n",
    "plt.ylabel('Среднее количество')\n",
    "plt.show()"
   ]
  },
  {
   "cell_type": "markdown",
   "id": "13cc244d",
   "metadata": {},
   "source": [
    "#### Вывод"
   ]
  },
  {
   "cell_type": "markdown",
   "id": "89a3fb63",
   "metadata": {},
   "source": [
    "Оба графика показывают одинаковую тенденцию - в марте обычно случается больше аварий, чем в другие месяцы. Это может быть связано с нестабильной погодой в марте: если днём была плюсовая температура, а ночью минусовая, то на дорогах будет гололёд."
   ]
  },
  {
   "cell_type": "markdown",
   "id": "efc97436",
   "metadata": {},
   "source": [
    "### Задачи для коллег"
   ]
  },
  {
   "cell_type": "markdown",
   "id": "7541397c",
   "metadata": {},
   "source": [
    "1) Выясните причину резкого сокращения количества ДТП с июня 2012. Было ли какое-то нововведение в то время, которое привело к сокращению случаев? Сколько машин было в автопарке до и после события? Поищите другие базы данных, где может ещё храниться информация за этот период, а также за период 2013-2020, если такие есть.<br>\n",
    "\n",
    "2) Проведите анализ количества аварий в зависимости от города происшествия.<br>\n",
    "\n",
    "3) Проанализируйте зависимость тяжести повреждения от того, находился ли виновник под влиянием лекарств или алкогольного опьенения:<br>\n",
    "\n",
    "- Создайте sql-запрос;\n",
    "- Постройте график;\n",
    "- Сделайте вывод.<br>\n",
    "\n",
    "4) Соберите статистику по частоте аварий в зависимости от возраста автомобиля.<br>\n",
    "\n",
    "5) Выясните, в какое время суток чаще случаются ДТП из-за нетрезвости водителя:<br>\n",
    "\n",
    "- Создайте sql-запрос;\n",
    "- Постройте график;\n",
    "- Сделайте вывод.<br>\n",
    "\n",
    "6) Посчитайте статистику типов ДТП."
   ]
  },
  {
   "cell_type": "markdown",
   "id": "56b8b9d5",
   "metadata": {},
   "source": [
    "## Модель для оценки водительского риска"
   ]
  },
  {
   "cell_type": "code",
   "execution_count": 20,
   "id": "e37c9d6c",
   "metadata": {},
   "outputs": [],
   "source": [
    "# подготовка исходной таблицы, первичный отбор факторов\n",
    "query = '''\n",
    "SELECT c.case_id,\n",
    "       p.party_number,\n",
    "       at_fault,\n",
    "       insurance_premium,\n",
    "       party_sobriety,\n",
    "       party_drug_physical,\n",
    "       cellphone_in_use,\n",
    "       county_city_location,\n",
    "       county_location,\n",
    "       distance,\n",
    "       direction,\n",
    "       intersection,\n",
    "       weather_1,\n",
    "       location_type,\n",
    "       collision_damage,\n",
    "       party_count,\n",
    "       primary_collision_factor,\n",
    "       pcf_violation_category,\n",
    "       type_of_collision,\n",
    "       motor_vehicle_involved_with,\n",
    "       road_surface,\n",
    "       road_condition_1,\n",
    "       lighting,\n",
    "       control_device,\n",
    "       collision_date,\n",
    "       collision_time,\n",
    "       vehicle_type,\n",
    "       vehicle_transmission,\n",
    "       vehicle_age\n",
    "FROM parties AS p\n",
    "JOIN collisions AS c ON p.case_id=c.case_id\n",
    "JOIN vehicles AS v ON c.case_id=v.case_id\n",
    "WHERE party_type = 'car'\n",
    "    AND collision_damage != 'scratch'\n",
    "    AND EXTRACT(YEAR FROM collision_date) = 2012;\n",
    "'''\n",
    "\n",
    "df = pd.read_sql_query(query, con=engine) "
   ]
  },
  {
   "cell_type": "code",
   "execution_count": 21,
   "id": "d0e92f37",
   "metadata": {},
   "outputs": [
    {
     "data": {
      "text/html": [
       "<div>\n",
       "<style scoped>\n",
       "    .dataframe tbody tr th:only-of-type {\n",
       "        vertical-align: middle;\n",
       "    }\n",
       "\n",
       "    .dataframe tbody tr th {\n",
       "        vertical-align: top;\n",
       "    }\n",
       "\n",
       "    .dataframe thead th {\n",
       "        text-align: right;\n",
       "    }\n",
       "</style>\n",
       "<table border=\"1\" class=\"dataframe\">\n",
       "  <thead>\n",
       "    <tr style=\"text-align: right;\">\n",
       "      <th></th>\n",
       "      <th>case_id</th>\n",
       "      <th>party_number</th>\n",
       "      <th>at_fault</th>\n",
       "      <th>insurance_premium</th>\n",
       "      <th>party_sobriety</th>\n",
       "      <th>party_drug_physical</th>\n",
       "      <th>cellphone_in_use</th>\n",
       "      <th>county_city_location</th>\n",
       "      <th>county_location</th>\n",
       "      <th>distance</th>\n",
       "      <th>...</th>\n",
       "      <th>motor_vehicle_involved_with</th>\n",
       "      <th>road_surface</th>\n",
       "      <th>road_condition_1</th>\n",
       "      <th>lighting</th>\n",
       "      <th>control_device</th>\n",
       "      <th>collision_date</th>\n",
       "      <th>collision_time</th>\n",
       "      <th>vehicle_type</th>\n",
       "      <th>vehicle_transmission</th>\n",
       "      <th>vehicle_age</th>\n",
       "    </tr>\n",
       "  </thead>\n",
       "  <tbody>\n",
       "    <tr>\n",
       "      <th>0</th>\n",
       "      <td>5403037</td>\n",
       "      <td>1</td>\n",
       "      <td>1</td>\n",
       "      <td>19.00</td>\n",
       "      <td>had been drinking, under influence</td>\n",
       "      <td>under drug influence</td>\n",
       "      <td>0.00</td>\n",
       "      <td>3500</td>\n",
       "      <td>san benito</td>\n",
       "      <td>0.00</td>\n",
       "      <td>...</td>\n",
       "      <td>fixed object</td>\n",
       "      <td>dry</td>\n",
       "      <td>loose material</td>\n",
       "      <td>dark with street lights</td>\n",
       "      <td>functioning</td>\n",
       "      <td>2012-01-13</td>\n",
       "      <td>02:55:00</td>\n",
       "      <td>sedan</td>\n",
       "      <td>manual</td>\n",
       "      <td>3.00</td>\n",
       "    </tr>\n",
       "    <tr>\n",
       "      <th>1</th>\n",
       "      <td>5454272</td>\n",
       "      <td>1</td>\n",
       "      <td>1</td>\n",
       "      <td>19.00</td>\n",
       "      <td>had not been drinking</td>\n",
       "      <td>None</td>\n",
       "      <td>0.00</td>\n",
       "      <td>3010</td>\n",
       "      <td>orange</td>\n",
       "      <td>36.00</td>\n",
       "      <td>...</td>\n",
       "      <td>other motor vehicle</td>\n",
       "      <td>wet</td>\n",
       "      <td>normal</td>\n",
       "      <td>daylight</td>\n",
       "      <td>functioning</td>\n",
       "      <td>2012-01-23</td>\n",
       "      <td>11:07:00</td>\n",
       "      <td>sedan</td>\n",
       "      <td>manual</td>\n",
       "      <td>0.00</td>\n",
       "    </tr>\n",
       "    <tr>\n",
       "      <th>2</th>\n",
       "      <td>5454272</td>\n",
       "      <td>2</td>\n",
       "      <td>0</td>\n",
       "      <td>26.00</td>\n",
       "      <td>had not been drinking</td>\n",
       "      <td>None</td>\n",
       "      <td>0.00</td>\n",
       "      <td>3010</td>\n",
       "      <td>orange</td>\n",
       "      <td>36.00</td>\n",
       "      <td>...</td>\n",
       "      <td>other motor vehicle</td>\n",
       "      <td>wet</td>\n",
       "      <td>normal</td>\n",
       "      <td>daylight</td>\n",
       "      <td>functioning</td>\n",
       "      <td>2012-01-23</td>\n",
       "      <td>11:07:00</td>\n",
       "      <td>sedan</td>\n",
       "      <td>manual</td>\n",
       "      <td>0.00</td>\n",
       "    </tr>\n",
       "    <tr>\n",
       "      <th>3</th>\n",
       "      <td>5455652</td>\n",
       "      <td>2</td>\n",
       "      <td>0</td>\n",
       "      <td>33.00</td>\n",
       "      <td>had not been drinking</td>\n",
       "      <td>None</td>\n",
       "      <td>0.00</td>\n",
       "      <td>4806</td>\n",
       "      <td>solano</td>\n",
       "      <td>0.00</td>\n",
       "      <td>...</td>\n",
       "      <td>other object</td>\n",
       "      <td>dry</td>\n",
       "      <td>normal</td>\n",
       "      <td>dark with street lights</td>\n",
       "      <td>functioning</td>\n",
       "      <td>2012-01-01</td>\n",
       "      <td>17:53:00</td>\n",
       "      <td>hatchback</td>\n",
       "      <td>manual</td>\n",
       "      <td>11.00</td>\n",
       "    </tr>\n",
       "    <tr>\n",
       "      <th>4</th>\n",
       "      <td>5456212</td>\n",
       "      <td>1</td>\n",
       "      <td>1</td>\n",
       "      <td>51.00</td>\n",
       "      <td>had not been drinking</td>\n",
       "      <td>None</td>\n",
       "      <td>1.00</td>\n",
       "      <td>3400</td>\n",
       "      <td>sacramento</td>\n",
       "      <td>300.00</td>\n",
       "      <td>...</td>\n",
       "      <td>other motor vehicle</td>\n",
       "      <td>dry</td>\n",
       "      <td>normal</td>\n",
       "      <td>daylight</td>\n",
       "      <td>none</td>\n",
       "      <td>2012-01-13</td>\n",
       "      <td>15:40:00</td>\n",
       "      <td>sedan</td>\n",
       "      <td>manual</td>\n",
       "      <td>3.00</td>\n",
       "    </tr>\n",
       "  </tbody>\n",
       "</table>\n",
       "<p>5 rows × 29 columns</p>\n",
       "</div>"
      ],
      "text/plain": [
       "   case_id  party_number  at_fault    insurance_premium  \\\n",
       "0  5403037             1         1                19.00   \n",
       "1  5454272             1         1                19.00   \n",
       "2  5454272             2         0                26.00   \n",
       "3  5455652             2         0                33.00   \n",
       "4  5456212             1         1                51.00   \n",
       "\n",
       "                       party_sobriety   party_drug_physical  \\\n",
       "0  had been drinking, under influence  under drug influence   \n",
       "1               had not been drinking                  None   \n",
       "2               had not been drinking                  None   \n",
       "3               had not been drinking                  None   \n",
       "4               had not been drinking                  None   \n",
       "\n",
       "      cellphone_in_use county_city_location county_location  \\\n",
       "0                 0.00                 3500      san benito   \n",
       "1                 0.00                 3010          orange   \n",
       "2                 0.00                 3010          orange   \n",
       "3                 0.00                 4806          solano   \n",
       "4                 1.00                 3400      sacramento   \n",
       "\n",
       "              distance  ... motor_vehicle_involved_with  road_surface  \\\n",
       "0                 0.00  ...                fixed object           dry   \n",
       "1                36.00  ...         other motor vehicle           wet   \n",
       "2                36.00  ...         other motor vehicle           wet   \n",
       "3                 0.00  ...                other object           dry   \n",
       "4               300.00  ...         other motor vehicle           dry   \n",
       "\n",
       "  road_condition_1                 lighting control_device  collision_date  \\\n",
       "0   loose material  dark with street lights    functioning      2012-01-13   \n",
       "1           normal                 daylight    functioning      2012-01-23   \n",
       "2           normal                 daylight    functioning      2012-01-23   \n",
       "3           normal  dark with street lights    functioning      2012-01-01   \n",
       "4           normal                 daylight           none      2012-01-13   \n",
       "\n",
       "  collision_time vehicle_type vehicle_transmission          vehicle_age  \n",
       "0       02:55:00        sedan               manual                 3.00  \n",
       "1       11:07:00        sedan               manual                 0.00  \n",
       "2       11:07:00        sedan               manual                 0.00  \n",
       "3       17:53:00    hatchback               manual                11.00  \n",
       "4       15:40:00        sedan               manual                 3.00  \n",
       "\n",
       "[5 rows x 29 columns]"
      ]
     },
     "execution_count": 21,
     "metadata": {},
     "output_type": "execute_result"
    }
   ],
   "source": [
    "df.head()"
   ]
  },
  {
   "cell_type": "code",
   "execution_count": 22,
   "id": "93043473",
   "metadata": {},
   "outputs": [
    {
     "data": {
      "text/plain": [
       "Index(['case_id', 'party_number', 'at_fault', 'insurance_premium',\n",
       "       'party_sobriety', 'party_drug_physical', 'cellphone_in_use',\n",
       "       'county_city_location', 'county_location', 'distance', 'direction',\n",
       "       'intersection', 'weather_1', 'location_type', 'collision_damage',\n",
       "       'party_count', 'primary_collision_factor', 'pcf_violation_category',\n",
       "       'type_of_collision', 'motor_vehicle_involved_with', 'road_surface',\n",
       "       'road_condition_1', 'lighting', 'control_device', 'collision_date',\n",
       "       'collision_time', 'vehicle_type', 'vehicle_transmission',\n",
       "       'vehicle_age'],\n",
       "      dtype='object')"
      ]
     },
     "execution_count": 22,
     "metadata": {},
     "output_type": "execute_result"
    }
   ],
   "source": [
    "df.columns "
   ]
  },
  {
   "cell_type": "markdown",
   "id": "07e0aeb9",
   "metadata": {},
   "source": [
    "Отберём только те факторы, которые с наибольшей вероятностью влияют на аварийность. Т.о., от некоторых факторов можно избавиться:\n",
    "- `insurance_premium` - сумма страховки в данном случае не нужна, т.к. относится к последствиям аварии, а не факторам риска\n",
    "- `cellphone_in_use`\n",
    "- `county_city_location` - дублирует колонку `county_location`\n",
    "- `intersection` - возможно, придётся удалить, т.к. есть ещё колонка `location_type`, в которой дублируется информация о перекрёстке. Но пока оставим для дальнейшего изучения\n",
    "- `primary_collision_factor` - дублирует колонку `pcf_violation_category`, но в `pcf_violation_category` даётся больше информации, поэтому лучше оставить её\n",
    "- `control_device` - вряд ли устройство слежения может предотвратить аварию"
   ]
  },
  {
   "cell_type": "code",
   "execution_count": 23,
   "id": "ec027f5f",
   "metadata": {},
   "outputs": [],
   "source": [
    "df = df.drop(columns=[\n",
    "        'insurance_premium',\n",
    "        'cellphone_in_use',\n",
    "        'county_city_location',\n",
    "        'primary_collision_factor',\n",
    "        'control_device'\n",
    "        ])"
   ]
  },
  {
   "cell_type": "code",
   "execution_count": 24,
   "id": "c1a2c966",
   "metadata": {},
   "outputs": [
    {
     "data": {
      "text/html": [
       "<div>\n",
       "<style scoped>\n",
       "    .dataframe tbody tr th:only-of-type {\n",
       "        vertical-align: middle;\n",
       "    }\n",
       "\n",
       "    .dataframe tbody tr th {\n",
       "        vertical-align: top;\n",
       "    }\n",
       "\n",
       "    .dataframe thead th {\n",
       "        text-align: right;\n",
       "    }\n",
       "</style>\n",
       "<table border=\"1\" class=\"dataframe\">\n",
       "  <thead>\n",
       "    <tr style=\"text-align: right;\">\n",
       "      <th></th>\n",
       "      <th>case_id</th>\n",
       "      <th>party_number</th>\n",
       "      <th>at_fault</th>\n",
       "      <th>party_sobriety</th>\n",
       "      <th>party_drug_physical</th>\n",
       "      <th>county_location</th>\n",
       "      <th>distance</th>\n",
       "      <th>direction</th>\n",
       "      <th>intersection</th>\n",
       "      <th>weather_1</th>\n",
       "      <th>...</th>\n",
       "      <th>type_of_collision</th>\n",
       "      <th>motor_vehicle_involved_with</th>\n",
       "      <th>road_surface</th>\n",
       "      <th>road_condition_1</th>\n",
       "      <th>lighting</th>\n",
       "      <th>collision_date</th>\n",
       "      <th>collision_time</th>\n",
       "      <th>vehicle_type</th>\n",
       "      <th>vehicle_transmission</th>\n",
       "      <th>vehicle_age</th>\n",
       "    </tr>\n",
       "  </thead>\n",
       "  <tbody>\n",
       "    <tr>\n",
       "      <th>0</th>\n",
       "      <td>5403037</td>\n",
       "      <td>1</td>\n",
       "      <td>1</td>\n",
       "      <td>had been drinking, under influence</td>\n",
       "      <td>under drug influence</td>\n",
       "      <td>san benito</td>\n",
       "      <td>0.00</td>\n",
       "      <td>None</td>\n",
       "      <td>1.00</td>\n",
       "      <td>clear</td>\n",
       "      <td>...</td>\n",
       "      <td>hit object</td>\n",
       "      <td>fixed object</td>\n",
       "      <td>dry</td>\n",
       "      <td>loose material</td>\n",
       "      <td>dark with street lights</td>\n",
       "      <td>2012-01-13</td>\n",
       "      <td>02:55:00</td>\n",
       "      <td>sedan</td>\n",
       "      <td>manual</td>\n",
       "      <td>3.00</td>\n",
       "    </tr>\n",
       "    <tr>\n",
       "      <th>1</th>\n",
       "      <td>5454272</td>\n",
       "      <td>1</td>\n",
       "      <td>1</td>\n",
       "      <td>had not been drinking</td>\n",
       "      <td>None</td>\n",
       "      <td>orange</td>\n",
       "      <td>36.00</td>\n",
       "      <td>north</td>\n",
       "      <td>0.00</td>\n",
       "      <td>raining</td>\n",
       "      <td>...</td>\n",
       "      <td>rear end</td>\n",
       "      <td>other motor vehicle</td>\n",
       "      <td>wet</td>\n",
       "      <td>normal</td>\n",
       "      <td>daylight</td>\n",
       "      <td>2012-01-23</td>\n",
       "      <td>11:07:00</td>\n",
       "      <td>sedan</td>\n",
       "      <td>manual</td>\n",
       "      <td>0.00</td>\n",
       "    </tr>\n",
       "    <tr>\n",
       "      <th>2</th>\n",
       "      <td>5454272</td>\n",
       "      <td>2</td>\n",
       "      <td>0</td>\n",
       "      <td>had not been drinking</td>\n",
       "      <td>None</td>\n",
       "      <td>orange</td>\n",
       "      <td>36.00</td>\n",
       "      <td>north</td>\n",
       "      <td>0.00</td>\n",
       "      <td>raining</td>\n",
       "      <td>...</td>\n",
       "      <td>rear end</td>\n",
       "      <td>other motor vehicle</td>\n",
       "      <td>wet</td>\n",
       "      <td>normal</td>\n",
       "      <td>daylight</td>\n",
       "      <td>2012-01-23</td>\n",
       "      <td>11:07:00</td>\n",
       "      <td>sedan</td>\n",
       "      <td>manual</td>\n",
       "      <td>0.00</td>\n",
       "    </tr>\n",
       "    <tr>\n",
       "      <th>3</th>\n",
       "      <td>5455652</td>\n",
       "      <td>2</td>\n",
       "      <td>0</td>\n",
       "      <td>had not been drinking</td>\n",
       "      <td>None</td>\n",
       "      <td>solano</td>\n",
       "      <td>0.00</td>\n",
       "      <td>None</td>\n",
       "      <td>1.00</td>\n",
       "      <td>clear</td>\n",
       "      <td>...</td>\n",
       "      <td>other</td>\n",
       "      <td>other object</td>\n",
       "      <td>dry</td>\n",
       "      <td>normal</td>\n",
       "      <td>dark with street lights</td>\n",
       "      <td>2012-01-01</td>\n",
       "      <td>17:53:00</td>\n",
       "      <td>hatchback</td>\n",
       "      <td>manual</td>\n",
       "      <td>11.00</td>\n",
       "    </tr>\n",
       "    <tr>\n",
       "      <th>4</th>\n",
       "      <td>5456212</td>\n",
       "      <td>1</td>\n",
       "      <td>1</td>\n",
       "      <td>had not been drinking</td>\n",
       "      <td>None</td>\n",
       "      <td>sacramento</td>\n",
       "      <td>300.00</td>\n",
       "      <td>south</td>\n",
       "      <td>0.00</td>\n",
       "      <td>clear</td>\n",
       "      <td>...</td>\n",
       "      <td>rear end</td>\n",
       "      <td>other motor vehicle</td>\n",
       "      <td>dry</td>\n",
       "      <td>normal</td>\n",
       "      <td>daylight</td>\n",
       "      <td>2012-01-13</td>\n",
       "      <td>15:40:00</td>\n",
       "      <td>sedan</td>\n",
       "      <td>manual</td>\n",
       "      <td>3.00</td>\n",
       "    </tr>\n",
       "  </tbody>\n",
       "</table>\n",
       "<p>5 rows × 24 columns</p>\n",
       "</div>"
      ],
      "text/plain": [
       "   case_id  party_number  at_fault                      party_sobriety  \\\n",
       "0  5403037             1         1  had been drinking, under influence   \n",
       "1  5454272             1         1               had not been drinking   \n",
       "2  5454272             2         0               had not been drinking   \n",
       "3  5455652             2         0               had not been drinking   \n",
       "4  5456212             1         1               had not been drinking   \n",
       "\n",
       "    party_drug_physical county_location             distance direction  \\\n",
       "0  under drug influence      san benito                 0.00      None   \n",
       "1                  None          orange                36.00     north   \n",
       "2                  None          orange                36.00     north   \n",
       "3                  None          solano                 0.00      None   \n",
       "4                  None      sacramento               300.00     south   \n",
       "\n",
       "          intersection weather_1  ... type_of_collision  \\\n",
       "0                 1.00     clear  ...        hit object   \n",
       "1                 0.00   raining  ...          rear end   \n",
       "2                 0.00   raining  ...          rear end   \n",
       "3                 1.00     clear  ...             other   \n",
       "4                 0.00     clear  ...          rear end   \n",
       "\n",
       "  motor_vehicle_involved_with  road_surface road_condition_1  \\\n",
       "0                fixed object           dry   loose material   \n",
       "1         other motor vehicle           wet           normal   \n",
       "2         other motor vehicle           wet           normal   \n",
       "3                other object           dry           normal   \n",
       "4         other motor vehicle           dry           normal   \n",
       "\n",
       "                  lighting collision_date collision_time vehicle_type  \\\n",
       "0  dark with street lights     2012-01-13       02:55:00        sedan   \n",
       "1                 daylight     2012-01-23       11:07:00        sedan   \n",
       "2                 daylight     2012-01-23       11:07:00        sedan   \n",
       "3  dark with street lights     2012-01-01       17:53:00    hatchback   \n",
       "4                 daylight     2012-01-13       15:40:00        sedan   \n",
       "\n",
       "  vehicle_transmission          vehicle_age  \n",
       "0               manual                 3.00  \n",
       "1               manual                 0.00  \n",
       "2               manual                 0.00  \n",
       "3               manual                11.00  \n",
       "4               manual                 3.00  \n",
       "\n",
       "[5 rows x 24 columns]"
      ]
     },
     "execution_count": 24,
     "metadata": {},
     "output_type": "execute_result"
    }
   ],
   "source": [
    "df.head()"
   ]
  },
  {
   "cell_type": "code",
   "execution_count": 25,
   "id": "9ddd5114",
   "metadata": {},
   "outputs": [
    {
     "name": "stdout",
     "output_type": "stream",
     "text": [
      "<class 'pandas.core.frame.DataFrame'>\n",
      "RangeIndex: 118411 entries, 0 to 118410\n",
      "Data columns (total 24 columns):\n",
      " #   Column                       Non-Null Count   Dtype  \n",
      "---  ------                       --------------   -----  \n",
      " 0   case_id                      118411 non-null  object \n",
      " 1   party_number                 118411 non-null  int64  \n",
      " 2   at_fault                     118411 non-null  int64  \n",
      " 3   party_sobriety               116682 non-null  object \n",
      " 4   party_drug_physical          8695 non-null    object \n",
      " 5   county_location              118411 non-null  object \n",
      " 6   distance                     118411 non-null  float64\n",
      " 7   direction                    89466 non-null   object \n",
      " 8   intersection                 118043 non-null  float64\n",
      " 9   weather_1                    118022 non-null  object \n",
      " 10  location_type                55137 non-null   object \n",
      " 11  collision_damage             118411 non-null  object \n",
      " 12  party_count                  118411 non-null  int64  \n",
      " 13  pcf_violation_category       116686 non-null  object \n",
      " 14  type_of_collision            117771 non-null  object \n",
      " 15  motor_vehicle_involved_with  118079 non-null  object \n",
      " 16  road_surface                 117645 non-null  object \n",
      " 17  road_condition_1             117843 non-null  object \n",
      " 18  lighting                     118080 non-null  object \n",
      " 19  collision_date               118411 non-null  object \n",
      " 20  collision_time               118283 non-null  object \n",
      " 21  vehicle_type                 118411 non-null  object \n",
      " 22  vehicle_transmission         116545 non-null  object \n",
      " 23  vehicle_age                  115046 non-null  float64\n",
      "dtypes: float64(3), int64(3), object(18)\n",
      "memory usage: 21.7+ MB\n"
     ]
    }
   ],
   "source": [
    "df.info()"
   ]
  },
  {
   "cell_type": "markdown",
   "id": "a302b32f",
   "metadata": {},
   "source": [
    "### Числовые признаки"
   ]
  },
  {
   "cell_type": "markdown",
   "id": "eeb9f7fd",
   "metadata": {},
   "source": [
    "- `distance`\n",
    "- `party_count`\n",
    "- `vehicle_age`"
   ]
  },
  {
   "cell_type": "code",
   "execution_count": 26,
   "id": "b89aee69",
   "metadata": {},
   "outputs": [],
   "source": [
    "def num_info(column):\n",
    "    \n",
    "    print(column, '\\n')\n",
    "    print(df[column].describe())\n",
    "    print('\\nКоличество пропусков:', df[column].isna().sum())\n",
    "    print('\\nДоля пропусков:', df[column].isna().sum()/len(df[column])) "
   ]
  },
  {
   "cell_type": "code",
   "execution_count": 27,
   "id": "e5ae76a8",
   "metadata": {},
   "outputs": [],
   "source": [
    "def visualize_num(column):\n",
    "    \n",
    "    fig, ax = plt.subplots(2,1, figsize=(10,10)) \n",
    "    fig.suptitle(column)\n",
    "    \n",
    "    ax[0].hist(df[column]) \n",
    "    ax[0].set_title('График распределения значений')\n",
    "    \n",
    "    ax[1].boxplot(df[column], vert=False)\n",
    "    ax[1].set_title('График размаха значений')\n",
    "    \n",
    "    plt.show() "
   ]
  },
  {
   "cell_type": "markdown",
   "id": "5efef9b8",
   "metadata": {},
   "source": [
    "#### distance"
   ]
  },
  {
   "cell_type": "markdown",
   "id": "6cc02a93",
   "metadata": {},
   "source": [
    " - расстояние от главной дороги в метрах"
   ]
  },
  {
   "cell_type": "code",
   "execution_count": 28,
   "id": "e24adbda",
   "metadata": {},
   "outputs": [
    {
     "name": "stdout",
     "output_type": "stream",
     "text": [
      "distance \n",
      "\n",
      "count             118,411.00\n",
      "mean                  732.07\n",
      "std                 6,902.70\n",
      "min                     0.00\n",
      "25%                     2.00\n",
      "50%                   118.00\n",
      "75%                   528.00\n",
      "max             1,584,000.00\n",
      "Name: distance, dtype: float64\n",
      "\n",
      "Количество пропусков: 0\n",
      "\n",
      "Доля пропусков: 0.0\n"
     ]
    }
   ],
   "source": [
    "num_info('distance')"
   ]
  },
  {
   "cell_type": "markdown",
   "id": "327bfdf9",
   "metadata": {},
   "source": [
    "Здесь налицо наличие больших выбросов."
   ]
  },
  {
   "cell_type": "markdown",
   "id": "57f2027b",
   "metadata": {},
   "source": [
    "Найдём границу, в которую входят 99% значений, посчитаем долю выбросов и удалим их."
   ]
  },
  {
   "cell_type": "code",
   "execution_count": 29,
   "id": "ba8be194",
   "metadata": {
    "scrolled": true
   },
   "outputs": [
    {
     "data": {
      "text/plain": [
       "9504.0"
      ]
     },
     "execution_count": 29,
     "metadata": {},
     "output_type": "execute_result"
    }
   ],
   "source": [
    "df['distance'].quantile(.99) "
   ]
  },
  {
   "cell_type": "code",
   "execution_count": 30,
   "id": "d2f4b127",
   "metadata": {},
   "outputs": [
    {
     "data": {
      "text/plain": [
       "0.009593703287701311"
      ]
     },
     "execution_count": 30,
     "metadata": {},
     "output_type": "execute_result"
    }
   ],
   "source": [
    "df[df['distance'] > df['distance'].quantile(.99)]['distance'].count()/len(df['distance']) "
   ]
  },
  {
   "cell_type": "code",
   "execution_count": 31,
   "id": "3bf18adc",
   "metadata": {},
   "outputs": [],
   "source": [
    "df = df[df['distance'] <= df['distance'].quantile(.99)] "
   ]
  },
  {
   "cell_type": "code",
   "execution_count": 32,
   "id": "ae1b879c",
   "metadata": {},
   "outputs": [
    {
     "data": {
      "image/png": "[encoded data removed]",
      "text/plain": [
       "<Figure size 720x720 with 2 Axes>"
      ]
     },
     "metadata": {
      "needs_background": "light"
     },
     "output_type": "display_data"
    }
   ],
   "source": [
    "visualize_num('distance')"
   ]
  },
  {
   "cell_type": "markdown",
   "id": "d73a5399",
   "metadata": {},
   "source": [
    "В колонке всё ещё остались выбросы, сначала попробуем оставить так и обучить модель. Потом вернёмся к экспериментам с выбросами."
   ]
  },
  {
   "cell_type": "markdown",
   "id": "f1a6889e",
   "metadata": {},
   "source": [
    "#### party_count"
   ]
  },
  {
   "cell_type": "markdown",
   "id": "aeab7189",
   "metadata": {},
   "source": [
    "- количество участников ДТП"
   ]
  },
  {
   "cell_type": "code",
   "execution_count": 33,
   "id": "ee94cb9d",
   "metadata": {},
   "outputs": [
    {
     "name": "stdout",
     "output_type": "stream",
     "text": [
      "party_count \n",
      "\n",
      "count             117,275.00\n",
      "mean                    2.36\n",
      "std                     0.95\n",
      "min                     1.00\n",
      "25%                     2.00\n",
      "50%                     2.00\n",
      "75%                     3.00\n",
      "max                    10.00\n",
      "Name: party_count, dtype: float64\n",
      "\n",
      "Количество пропусков: 0\n",
      "\n",
      "Доля пропусков: 0.0\n"
     ]
    }
   ],
   "source": [
    "num_info('party_count')"
   ]
  },
  {
   "cell_type": "code",
   "execution_count": 34,
   "id": "f9ba2367",
   "metadata": {},
   "outputs": [
    {
     "data": {
      "image/png": "[encoded data removed]",
      "text/plain": [
       "<Figure size 720x720 with 2 Axes>"
      ]
     },
     "metadata": {
      "needs_background": "light"
     },
     "output_type": "display_data"
    }
   ],
   "source": [
    "visualize_num('party_count')"
   ]
  },
  {
   "cell_type": "markdown",
   "id": "3d5be71c",
   "metadata": {},
   "source": [
    "Большинство аварий имеют двух участников. Выбросы есть, но, в целом, распределение значений выглядит вполне адекватным."
   ]
  },
  {
   "cell_type": "markdown",
   "id": "eb956067",
   "metadata": {},
   "source": [
    "Интересно посмотреть на аварии, где только один участник."
   ]
  },
  {
   "cell_type": "code",
   "execution_count": 35,
   "id": "36b49671",
   "metadata": {},
   "outputs": [
    {
     "data": {
      "text/html": [
       "<div>\n",
       "<style scoped>\n",
       "    .dataframe tbody tr th:only-of-type {\n",
       "        vertical-align: middle;\n",
       "    }\n",
       "\n",
       "    .dataframe tbody tr th {\n",
       "        vertical-align: top;\n",
       "    }\n",
       "\n",
       "    .dataframe thead th {\n",
       "        text-align: right;\n",
       "    }\n",
       "</style>\n",
       "<table border=\"1\" class=\"dataframe\">\n",
       "  <thead>\n",
       "    <tr style=\"text-align: right;\">\n",
       "      <th></th>\n",
       "      <th>case_id</th>\n",
       "      <th>party_number</th>\n",
       "      <th>at_fault</th>\n",
       "      <th>party_sobriety</th>\n",
       "      <th>party_drug_physical</th>\n",
       "      <th>county_location</th>\n",
       "      <th>distance</th>\n",
       "      <th>direction</th>\n",
       "      <th>intersection</th>\n",
       "      <th>weather_1</th>\n",
       "      <th>...</th>\n",
       "      <th>type_of_collision</th>\n",
       "      <th>motor_vehicle_involved_with</th>\n",
       "      <th>road_surface</th>\n",
       "      <th>road_condition_1</th>\n",
       "      <th>lighting</th>\n",
       "      <th>collision_date</th>\n",
       "      <th>collision_time</th>\n",
       "      <th>vehicle_type</th>\n",
       "      <th>vehicle_transmission</th>\n",
       "      <th>vehicle_age</th>\n",
       "    </tr>\n",
       "  </thead>\n",
       "  <tbody>\n",
       "    <tr>\n",
       "      <th>0</th>\n",
       "      <td>5403037</td>\n",
       "      <td>1</td>\n",
       "      <td>1</td>\n",
       "      <td>had been drinking, under influence</td>\n",
       "      <td>under drug influence</td>\n",
       "      <td>san benito</td>\n",
       "      <td>0.00</td>\n",
       "      <td>None</td>\n",
       "      <td>1.00</td>\n",
       "      <td>clear</td>\n",
       "      <td>...</td>\n",
       "      <td>hit object</td>\n",
       "      <td>fixed object</td>\n",
       "      <td>dry</td>\n",
       "      <td>loose material</td>\n",
       "      <td>dark with street lights</td>\n",
       "      <td>2012-01-13</td>\n",
       "      <td>02:55:00</td>\n",
       "      <td>sedan</td>\n",
       "      <td>manual</td>\n",
       "      <td>3.00</td>\n",
       "    </tr>\n",
       "    <tr>\n",
       "      <th>15</th>\n",
       "      <td>5507756</td>\n",
       "      <td>1</td>\n",
       "      <td>1</td>\n",
       "      <td>had not been drinking</td>\n",
       "      <td>None</td>\n",
       "      <td>orange</td>\n",
       "      <td>35.00</td>\n",
       "      <td>east</td>\n",
       "      <td>0.00</td>\n",
       "      <td>clear</td>\n",
       "      <td>...</td>\n",
       "      <td>None</td>\n",
       "      <td>other motor vehicle</td>\n",
       "      <td>dry</td>\n",
       "      <td>normal</td>\n",
       "      <td>daylight</td>\n",
       "      <td>2012-02-02</td>\n",
       "      <td>16:15:00</td>\n",
       "      <td>sedan</td>\n",
       "      <td>auto</td>\n",
       "      <td>0.00</td>\n",
       "    </tr>\n",
       "    <tr>\n",
       "      <th>23</th>\n",
       "      <td>5514472</td>\n",
       "      <td>1</td>\n",
       "      <td>1</td>\n",
       "      <td>had not been drinking</td>\n",
       "      <td>None</td>\n",
       "      <td>marin</td>\n",
       "      <td>3,168.00</td>\n",
       "      <td>west</td>\n",
       "      <td>0.00</td>\n",
       "      <td>clear</td>\n",
       "      <td>...</td>\n",
       "      <td>hit object</td>\n",
       "      <td>fixed object</td>\n",
       "      <td>dry</td>\n",
       "      <td>normal</td>\n",
       "      <td>dark with no street lights</td>\n",
       "      <td>2012-01-14</td>\n",
       "      <td>21:30:00</td>\n",
       "      <td>sedan</td>\n",
       "      <td>auto</td>\n",
       "      <td>3.00</td>\n",
       "    </tr>\n",
       "    <tr>\n",
       "      <th>33</th>\n",
       "      <td>5536151</td>\n",
       "      <td>1</td>\n",
       "      <td>1</td>\n",
       "      <td>had not been drinking</td>\n",
       "      <td>None</td>\n",
       "      <td>san diego</td>\n",
       "      <td>150.00</td>\n",
       "      <td>east</td>\n",
       "      <td>0.00</td>\n",
       "      <td>cloudy</td>\n",
       "      <td>...</td>\n",
       "      <td>overturned</td>\n",
       "      <td>non-collision</td>\n",
       "      <td>dry</td>\n",
       "      <td>normal</td>\n",
       "      <td>dark with street lights</td>\n",
       "      <td>2012-02-12</td>\n",
       "      <td>20:52:00</td>\n",
       "      <td>coupe</td>\n",
       "      <td>manual</td>\n",
       "      <td>3.00</td>\n",
       "    </tr>\n",
       "    <tr>\n",
       "      <th>43</th>\n",
       "      <td>5576053</td>\n",
       "      <td>1</td>\n",
       "      <td>1</td>\n",
       "      <td>had been drinking, under influence</td>\n",
       "      <td>None</td>\n",
       "      <td>kern</td>\n",
       "      <td>50.00</td>\n",
       "      <td>south</td>\n",
       "      <td>0.00</td>\n",
       "      <td>clear</td>\n",
       "      <td>...</td>\n",
       "      <td>hit object</td>\n",
       "      <td>fixed object</td>\n",
       "      <td>dry</td>\n",
       "      <td>normal</td>\n",
       "      <td>dark with street lights</td>\n",
       "      <td>2012-04-04</td>\n",
       "      <td>00:02:00</td>\n",
       "      <td>sedan</td>\n",
       "      <td>auto</td>\n",
       "      <td>3.00</td>\n",
       "    </tr>\n",
       "    <tr>\n",
       "      <th>49</th>\n",
       "      <td>5585866</td>\n",
       "      <td>1</td>\n",
       "      <td>1</td>\n",
       "      <td>None</td>\n",
       "      <td>sleepy/fatigued</td>\n",
       "      <td>contra costa</td>\n",
       "      <td>781.00</td>\n",
       "      <td>north</td>\n",
       "      <td>0.00</td>\n",
       "      <td>clear</td>\n",
       "      <td>...</td>\n",
       "      <td>hit object</td>\n",
       "      <td>fixed object</td>\n",
       "      <td>dry</td>\n",
       "      <td>normal</td>\n",
       "      <td>daylight</td>\n",
       "      <td>2012-04-24</td>\n",
       "      <td>08:51:00</td>\n",
       "      <td>coupe</td>\n",
       "      <td>auto</td>\n",
       "      <td>5.00</td>\n",
       "    </tr>\n",
       "    <tr>\n",
       "      <th>51</th>\n",
       "      <td>5588046</td>\n",
       "      <td>1</td>\n",
       "      <td>0</td>\n",
       "      <td>had not been drinking</td>\n",
       "      <td>None</td>\n",
       "      <td>sacramento</td>\n",
       "      <td>20.00</td>\n",
       "      <td>south</td>\n",
       "      <td>0.00</td>\n",
       "      <td>clear</td>\n",
       "      <td>...</td>\n",
       "      <td>other</td>\n",
       "      <td>animal</td>\n",
       "      <td>dry</td>\n",
       "      <td>normal</td>\n",
       "      <td>daylight</td>\n",
       "      <td>2012-04-07</td>\n",
       "      <td>12:22:00</td>\n",
       "      <td>coupe</td>\n",
       "      <td>manual</td>\n",
       "      <td>12.00</td>\n",
       "    </tr>\n",
       "    <tr>\n",
       "      <th>57</th>\n",
       "      <td>5609803</td>\n",
       "      <td>1</td>\n",
       "      <td>1</td>\n",
       "      <td>had not been drinking</td>\n",
       "      <td>None</td>\n",
       "      <td>calaveras</td>\n",
       "      <td>1,000.00</td>\n",
       "      <td>south</td>\n",
       "      <td>0.00</td>\n",
       "      <td>clear</td>\n",
       "      <td>...</td>\n",
       "      <td>hit object</td>\n",
       "      <td>fixed object</td>\n",
       "      <td>dry</td>\n",
       "      <td>normal</td>\n",
       "      <td>daylight</td>\n",
       "      <td>2012-05-07</td>\n",
       "      <td>10:31:00</td>\n",
       "      <td>coupe</td>\n",
       "      <td>auto</td>\n",
       "      <td>10.00</td>\n",
       "    </tr>\n",
       "    <tr>\n",
       "      <th>64</th>\n",
       "      <td>5456769</td>\n",
       "      <td>1</td>\n",
       "      <td>1</td>\n",
       "      <td>had been drinking, under influence</td>\n",
       "      <td>None</td>\n",
       "      <td>santa clara</td>\n",
       "      <td>627.00</td>\n",
       "      <td>north</td>\n",
       "      <td>0.00</td>\n",
       "      <td>clear</td>\n",
       "      <td>...</td>\n",
       "      <td>broadside</td>\n",
       "      <td>fixed object</td>\n",
       "      <td>dry</td>\n",
       "      <td>normal</td>\n",
       "      <td>dark with no street lights</td>\n",
       "      <td>2012-01-12</td>\n",
       "      <td>23:10:00</td>\n",
       "      <td>coupe</td>\n",
       "      <td>manual</td>\n",
       "      <td>6.00</td>\n",
       "    </tr>\n",
       "    <tr>\n",
       "      <th>65</th>\n",
       "      <td>5456851</td>\n",
       "      <td>1</td>\n",
       "      <td>1</td>\n",
       "      <td>had not been drinking</td>\n",
       "      <td>None</td>\n",
       "      <td>orange</td>\n",
       "      <td>68.00</td>\n",
       "      <td>south</td>\n",
       "      <td>0.00</td>\n",
       "      <td>cloudy</td>\n",
       "      <td>...</td>\n",
       "      <td>hit object</td>\n",
       "      <td>fixed object</td>\n",
       "      <td>dry</td>\n",
       "      <td>normal</td>\n",
       "      <td>daylight</td>\n",
       "      <td>2012-01-11</td>\n",
       "      <td>10:03:00</td>\n",
       "      <td>coupe</td>\n",
       "      <td>manual</td>\n",
       "      <td>4.00</td>\n",
       "    </tr>\n",
       "  </tbody>\n",
       "</table>\n",
       "<p>10 rows × 24 columns</p>\n",
       "</div>"
      ],
      "text/plain": [
       "    case_id  party_number  at_fault                      party_sobriety  \\\n",
       "0   5403037             1         1  had been drinking, under influence   \n",
       "15  5507756             1         1               had not been drinking   \n",
       "23  5514472             1         1               had not been drinking   \n",
       "33  5536151             1         1               had not been drinking   \n",
       "43  5576053             1         1  had been drinking, under influence   \n",
       "49  5585866             1         1                                None   \n",
       "51  5588046             1         0               had not been drinking   \n",
       "57  5609803             1         1               had not been drinking   \n",
       "64  5456769             1         1  had been drinking, under influence   \n",
       "65  5456851             1         1               had not been drinking   \n",
       "\n",
       "     party_drug_physical county_location             distance direction  \\\n",
       "0   under drug influence      san benito                 0.00      None   \n",
       "15                  None          orange                35.00      east   \n",
       "23                  None           marin             3,168.00      west   \n",
       "33                  None       san diego               150.00      east   \n",
       "43                  None            kern                50.00     south   \n",
       "49       sleepy/fatigued    contra costa               781.00     north   \n",
       "51                  None      sacramento                20.00     south   \n",
       "57                  None       calaveras             1,000.00     south   \n",
       "64                  None     santa clara               627.00     north   \n",
       "65                  None          orange                68.00     south   \n",
       "\n",
       "           intersection weather_1  ... type_of_collision  \\\n",
       "0                  1.00     clear  ...        hit object   \n",
       "15                 0.00     clear  ...              None   \n",
       "23                 0.00     clear  ...        hit object   \n",
       "33                 0.00    cloudy  ...        overturned   \n",
       "43                 0.00     clear  ...        hit object   \n",
       "49                 0.00     clear  ...        hit object   \n",
       "51                 0.00     clear  ...             other   \n",
       "57                 0.00     clear  ...        hit object   \n",
       "64                 0.00     clear  ...         broadside   \n",
       "65                 0.00    cloudy  ...        hit object   \n",
       "\n",
       "   motor_vehicle_involved_with  road_surface road_condition_1  \\\n",
       "0                 fixed object           dry   loose material   \n",
       "15         other motor vehicle           dry           normal   \n",
       "23                fixed object           dry           normal   \n",
       "33               non-collision           dry           normal   \n",
       "43                fixed object           dry           normal   \n",
       "49                fixed object           dry           normal   \n",
       "51                      animal           dry           normal   \n",
       "57                fixed object           dry           normal   \n",
       "64                fixed object           dry           normal   \n",
       "65                fixed object           dry           normal   \n",
       "\n",
       "                      lighting collision_date collision_time vehicle_type  \\\n",
       "0      dark with street lights     2012-01-13       02:55:00        sedan   \n",
       "15                    daylight     2012-02-02       16:15:00        sedan   \n",
       "23  dark with no street lights     2012-01-14       21:30:00        sedan   \n",
       "33     dark with street lights     2012-02-12       20:52:00        coupe   \n",
       "43     dark with street lights     2012-04-04       00:02:00        sedan   \n",
       "49                    daylight     2012-04-24       08:51:00        coupe   \n",
       "51                    daylight     2012-04-07       12:22:00        coupe   \n",
       "57                    daylight     2012-05-07       10:31:00        coupe   \n",
       "64  dark with no street lights     2012-01-12       23:10:00        coupe   \n",
       "65                    daylight     2012-01-11       10:03:00        coupe   \n",
       "\n",
       "   vehicle_transmission          vehicle_age  \n",
       "0                manual                 3.00  \n",
       "15                 auto                 0.00  \n",
       "23                 auto                 3.00  \n",
       "33               manual                 3.00  \n",
       "43                 auto                 3.00  \n",
       "49                 auto                 5.00  \n",
       "51               manual                12.00  \n",
       "57                 auto                10.00  \n",
       "64               manual                 6.00  \n",
       "65               manual                 4.00  \n",
       "\n",
       "[10 rows x 24 columns]"
      ]
     },
     "execution_count": 35,
     "metadata": {},
     "output_type": "execute_result"
    }
   ],
   "source": [
    "df.query('party_count == 1').head(10)"
   ]
  },
  {
   "cell_type": "markdown",
   "id": "e6cccf81",
   "metadata": {},
   "source": [
    "К таким записям относятся столкновения с недвижимым объектом или опрокидывание автомобиля."
   ]
  },
  {
   "cell_type": "markdown",
   "id": "9249c4d3",
   "metadata": {},
   "source": [
    "#### vehicle_age"
   ]
  },
  {
   "cell_type": "code",
   "execution_count": 36,
   "id": "ead62753",
   "metadata": {},
   "outputs": [
    {
     "name": "stdout",
     "output_type": "stream",
     "text": [
      "vehicle_age \n",
      "\n",
      "count             113,917.00\n",
      "mean                    4.90\n",
      "std                     3.27\n",
      "min                     0.00\n",
      "25%                     3.00\n",
      "50%                     4.00\n",
      "75%                     7.00\n",
      "max                   161.00\n",
      "Name: vehicle_age, dtype: float64\n",
      "\n",
      "Количество пропусков: 3358\n",
      "\n",
      "Доля пропусков: 0.028633553613302068\n"
     ]
    }
   ],
   "source": [
    "num_info('vehicle_age')"
   ]
  },
  {
   "cell_type": "markdown",
   "id": "f8004b69",
   "metadata": {},
   "source": [
    "Сначала изучим пропуски."
   ]
  },
  {
   "cell_type": "code",
   "execution_count": 37,
   "id": "8b954ff8",
   "metadata": {},
   "outputs": [
    {
     "data": {
      "text/html": [
       "<div>\n",
       "<style scoped>\n",
       "    .dataframe tbody tr th:only-of-type {\n",
       "        vertical-align: middle;\n",
       "    }\n",
       "\n",
       "    .dataframe tbody tr th {\n",
       "        vertical-align: top;\n",
       "    }\n",
       "\n",
       "    .dataframe thead th {\n",
       "        text-align: right;\n",
       "    }\n",
       "</style>\n",
       "<table border=\"1\" class=\"dataframe\">\n",
       "  <thead>\n",
       "    <tr style=\"text-align: right;\">\n",
       "      <th></th>\n",
       "      <th>case_id</th>\n",
       "      <th>party_number</th>\n",
       "      <th>at_fault</th>\n",
       "      <th>party_sobriety</th>\n",
       "      <th>party_drug_physical</th>\n",
       "      <th>county_location</th>\n",
       "      <th>distance</th>\n",
       "      <th>direction</th>\n",
       "      <th>intersection</th>\n",
       "      <th>weather_1</th>\n",
       "      <th>...</th>\n",
       "      <th>type_of_collision</th>\n",
       "      <th>motor_vehicle_involved_with</th>\n",
       "      <th>road_surface</th>\n",
       "      <th>road_condition_1</th>\n",
       "      <th>lighting</th>\n",
       "      <th>collision_date</th>\n",
       "      <th>collision_time</th>\n",
       "      <th>vehicle_type</th>\n",
       "      <th>vehicle_transmission</th>\n",
       "      <th>vehicle_age</th>\n",
       "    </tr>\n",
       "  </thead>\n",
       "  <tbody>\n",
       "    <tr>\n",
       "      <th>72</th>\n",
       "      <td>5457107</td>\n",
       "      <td>1</td>\n",
       "      <td>1</td>\n",
       "      <td>impairment unknown</td>\n",
       "      <td>G</td>\n",
       "      <td>los angeles</td>\n",
       "      <td>150.00</td>\n",
       "      <td>north</td>\n",
       "      <td>0.00</td>\n",
       "      <td>clear</td>\n",
       "      <td>...</td>\n",
       "      <td>rear end</td>\n",
       "      <td>other motor vehicle</td>\n",
       "      <td>dry</td>\n",
       "      <td>normal</td>\n",
       "      <td>daylight</td>\n",
       "      <td>2012-01-29</td>\n",
       "      <td>07:20:00</td>\n",
       "      <td>sedan</td>\n",
       "      <td>auto</td>\n",
       "      <td>NaN</td>\n",
       "    </tr>\n",
       "    <tr>\n",
       "      <th>73</th>\n",
       "      <td>5457107</td>\n",
       "      <td>2</td>\n",
       "      <td>0</td>\n",
       "      <td>had not been drinking</td>\n",
       "      <td>None</td>\n",
       "      <td>los angeles</td>\n",
       "      <td>150.00</td>\n",
       "      <td>north</td>\n",
       "      <td>0.00</td>\n",
       "      <td>clear</td>\n",
       "      <td>...</td>\n",
       "      <td>rear end</td>\n",
       "      <td>other motor vehicle</td>\n",
       "      <td>dry</td>\n",
       "      <td>normal</td>\n",
       "      <td>daylight</td>\n",
       "      <td>2012-01-29</td>\n",
       "      <td>07:20:00</td>\n",
       "      <td>sedan</td>\n",
       "      <td>auto</td>\n",
       "      <td>NaN</td>\n",
       "    </tr>\n",
       "    <tr>\n",
       "      <th>77</th>\n",
       "      <td>5457330</td>\n",
       "      <td>1</td>\n",
       "      <td>1</td>\n",
       "      <td>had not been drinking</td>\n",
       "      <td>None</td>\n",
       "      <td>los angeles</td>\n",
       "      <td>0.00</td>\n",
       "      <td>None</td>\n",
       "      <td>1.00</td>\n",
       "      <td>clear</td>\n",
       "      <td>...</td>\n",
       "      <td>broadside</td>\n",
       "      <td>bicycle</td>\n",
       "      <td>dry</td>\n",
       "      <td>normal</td>\n",
       "      <td>daylight</td>\n",
       "      <td>2012-01-13</td>\n",
       "      <td>15:05:00</td>\n",
       "      <td>sedan</td>\n",
       "      <td>auto</td>\n",
       "      <td>NaN</td>\n",
       "    </tr>\n",
       "    <tr>\n",
       "      <th>194</th>\n",
       "      <td>5460713</td>\n",
       "      <td>1</td>\n",
       "      <td>1</td>\n",
       "      <td>had not been drinking</td>\n",
       "      <td>None</td>\n",
       "      <td>orange</td>\n",
       "      <td>0.00</td>\n",
       "      <td>None</td>\n",
       "      <td>1.00</td>\n",
       "      <td>clear</td>\n",
       "      <td>...</td>\n",
       "      <td>broadside</td>\n",
       "      <td>other motor vehicle</td>\n",
       "      <td>dry</td>\n",
       "      <td>normal</td>\n",
       "      <td>daylight</td>\n",
       "      <td>2012-01-15</td>\n",
       "      <td>12:34:00</td>\n",
       "      <td>sedan</td>\n",
       "      <td>None</td>\n",
       "      <td>NaN</td>\n",
       "    </tr>\n",
       "    <tr>\n",
       "      <th>196</th>\n",
       "      <td>5460713</td>\n",
       "      <td>2</td>\n",
       "      <td>0</td>\n",
       "      <td>had not been drinking</td>\n",
       "      <td>None</td>\n",
       "      <td>orange</td>\n",
       "      <td>0.00</td>\n",
       "      <td>None</td>\n",
       "      <td>1.00</td>\n",
       "      <td>clear</td>\n",
       "      <td>...</td>\n",
       "      <td>broadside</td>\n",
       "      <td>other motor vehicle</td>\n",
       "      <td>dry</td>\n",
       "      <td>normal</td>\n",
       "      <td>daylight</td>\n",
       "      <td>2012-01-15</td>\n",
       "      <td>12:34:00</td>\n",
       "      <td>sedan</td>\n",
       "      <td>None</td>\n",
       "      <td>NaN</td>\n",
       "    </tr>\n",
       "    <tr>\n",
       "      <th>251</th>\n",
       "      <td>5465055</td>\n",
       "      <td>1</td>\n",
       "      <td>1</td>\n",
       "      <td>impairment unknown</td>\n",
       "      <td>G</td>\n",
       "      <td>butte</td>\n",
       "      <td>24.00</td>\n",
       "      <td>west</td>\n",
       "      <td>0.00</td>\n",
       "      <td>clear</td>\n",
       "      <td>...</td>\n",
       "      <td>broadside</td>\n",
       "      <td>other motor vehicle</td>\n",
       "      <td>dry</td>\n",
       "      <td>normal</td>\n",
       "      <td>daylight</td>\n",
       "      <td>2012-01-14</td>\n",
       "      <td>16:00:00</td>\n",
       "      <td>sedan</td>\n",
       "      <td>auto</td>\n",
       "      <td>NaN</td>\n",
       "    </tr>\n",
       "    <tr>\n",
       "      <th>252</th>\n",
       "      <td>5465055</td>\n",
       "      <td>2</td>\n",
       "      <td>0</td>\n",
       "      <td>had not been drinking</td>\n",
       "      <td>None</td>\n",
       "      <td>butte</td>\n",
       "      <td>24.00</td>\n",
       "      <td>west</td>\n",
       "      <td>0.00</td>\n",
       "      <td>clear</td>\n",
       "      <td>...</td>\n",
       "      <td>broadside</td>\n",
       "      <td>other motor vehicle</td>\n",
       "      <td>dry</td>\n",
       "      <td>normal</td>\n",
       "      <td>daylight</td>\n",
       "      <td>2012-01-14</td>\n",
       "      <td>16:00:00</td>\n",
       "      <td>sedan</td>\n",
       "      <td>auto</td>\n",
       "      <td>NaN</td>\n",
       "    </tr>\n",
       "    <tr>\n",
       "      <th>265</th>\n",
       "      <td>5466959</td>\n",
       "      <td>1</td>\n",
       "      <td>1</td>\n",
       "      <td>impairment unknown</td>\n",
       "      <td>G</td>\n",
       "      <td>riverside</td>\n",
       "      <td>500.00</td>\n",
       "      <td>east</td>\n",
       "      <td>0.00</td>\n",
       "      <td>clear</td>\n",
       "      <td>...</td>\n",
       "      <td>sideswipe</td>\n",
       "      <td>other motor vehicle</td>\n",
       "      <td>dry</td>\n",
       "      <td>normal</td>\n",
       "      <td>daylight</td>\n",
       "      <td>2012-01-19</td>\n",
       "      <td>10:00:00</td>\n",
       "      <td>sedan</td>\n",
       "      <td>auto</td>\n",
       "      <td>NaN</td>\n",
       "    </tr>\n",
       "    <tr>\n",
       "      <th>266</th>\n",
       "      <td>5466959</td>\n",
       "      <td>2</td>\n",
       "      <td>0</td>\n",
       "      <td>had not been drinking</td>\n",
       "      <td>None</td>\n",
       "      <td>riverside</td>\n",
       "      <td>500.00</td>\n",
       "      <td>east</td>\n",
       "      <td>0.00</td>\n",
       "      <td>clear</td>\n",
       "      <td>...</td>\n",
       "      <td>sideswipe</td>\n",
       "      <td>other motor vehicle</td>\n",
       "      <td>dry</td>\n",
       "      <td>normal</td>\n",
       "      <td>daylight</td>\n",
       "      <td>2012-01-19</td>\n",
       "      <td>10:00:00</td>\n",
       "      <td>sedan</td>\n",
       "      <td>auto</td>\n",
       "      <td>NaN</td>\n",
       "    </tr>\n",
       "    <tr>\n",
       "      <th>339</th>\n",
       "      <td>5475626</td>\n",
       "      <td>1</td>\n",
       "      <td>1</td>\n",
       "      <td>had been drinking, impairment unknown</td>\n",
       "      <td>None</td>\n",
       "      <td>los angeles</td>\n",
       "      <td>0.00</td>\n",
       "      <td>None</td>\n",
       "      <td>1.00</td>\n",
       "      <td>clear</td>\n",
       "      <td>...</td>\n",
       "      <td>hit object</td>\n",
       "      <td>fixed object</td>\n",
       "      <td>dry</td>\n",
       "      <td>normal</td>\n",
       "      <td>dark with street lights</td>\n",
       "      <td>2012-01-11</td>\n",
       "      <td>22:45:00</td>\n",
       "      <td>sedan</td>\n",
       "      <td>auto</td>\n",
       "      <td>NaN</td>\n",
       "    </tr>\n",
       "  </tbody>\n",
       "</table>\n",
       "<p>10 rows × 24 columns</p>\n",
       "</div>"
      ],
      "text/plain": [
       "     case_id  party_number  at_fault                         party_sobriety  \\\n",
       "72   5457107             1         1                     impairment unknown   \n",
       "73   5457107             2         0                  had not been drinking   \n",
       "77   5457330             1         1                  had not been drinking   \n",
       "194  5460713             1         1                  had not been drinking   \n",
       "196  5460713             2         0                  had not been drinking   \n",
       "251  5465055             1         1                     impairment unknown   \n",
       "252  5465055             2         0                  had not been drinking   \n",
       "265  5466959             1         1                     impairment unknown   \n",
       "266  5466959             2         0                  had not been drinking   \n",
       "339  5475626             1         1  had been drinking, impairment unknown   \n",
       "\n",
       "    party_drug_physical county_location             distance direction  \\\n",
       "72                    G     los angeles               150.00     north   \n",
       "73                 None     los angeles               150.00     north   \n",
       "77                 None     los angeles                 0.00      None   \n",
       "194                None          orange                 0.00      None   \n",
       "196                None          orange                 0.00      None   \n",
       "251                   G           butte                24.00      west   \n",
       "252                None           butte                24.00      west   \n",
       "265                   G       riverside               500.00      east   \n",
       "266                None       riverside               500.00      east   \n",
       "339                None     los angeles                 0.00      None   \n",
       "\n",
       "            intersection weather_1  ... type_of_collision  \\\n",
       "72                  0.00     clear  ...          rear end   \n",
       "73                  0.00     clear  ...          rear end   \n",
       "77                  1.00     clear  ...         broadside   \n",
       "194                 1.00     clear  ...         broadside   \n",
       "196                 1.00     clear  ...         broadside   \n",
       "251                 0.00     clear  ...         broadside   \n",
       "252                 0.00     clear  ...         broadside   \n",
       "265                 0.00     clear  ...         sideswipe   \n",
       "266                 0.00     clear  ...         sideswipe   \n",
       "339                 1.00     clear  ...        hit object   \n",
       "\n",
       "    motor_vehicle_involved_with  road_surface road_condition_1  \\\n",
       "72          other motor vehicle           dry           normal   \n",
       "73          other motor vehicle           dry           normal   \n",
       "77                      bicycle           dry           normal   \n",
       "194         other motor vehicle           dry           normal   \n",
       "196         other motor vehicle           dry           normal   \n",
       "251         other motor vehicle           dry           normal   \n",
       "252         other motor vehicle           dry           normal   \n",
       "265         other motor vehicle           dry           normal   \n",
       "266         other motor vehicle           dry           normal   \n",
       "339                fixed object           dry           normal   \n",
       "\n",
       "                    lighting collision_date collision_time vehicle_type  \\\n",
       "72                  daylight     2012-01-29       07:20:00        sedan   \n",
       "73                  daylight     2012-01-29       07:20:00        sedan   \n",
       "77                  daylight     2012-01-13       15:05:00        sedan   \n",
       "194                 daylight     2012-01-15       12:34:00        sedan   \n",
       "196                 daylight     2012-01-15       12:34:00        sedan   \n",
       "251                 daylight     2012-01-14       16:00:00        sedan   \n",
       "252                 daylight     2012-01-14       16:00:00        sedan   \n",
       "265                 daylight     2012-01-19       10:00:00        sedan   \n",
       "266                 daylight     2012-01-19       10:00:00        sedan   \n",
       "339  dark with street lights     2012-01-11       22:45:00        sedan   \n",
       "\n",
       "    vehicle_transmission vehicle_age  \n",
       "72                  auto         NaN  \n",
       "73                  auto         NaN  \n",
       "77                  auto         NaN  \n",
       "194                 None         NaN  \n",
       "196                 None         NaN  \n",
       "251                 auto         NaN  \n",
       "252                 auto         NaN  \n",
       "265                 auto         NaN  \n",
       "266                 auto         NaN  \n",
       "339                 auto         NaN  \n",
       "\n",
       "[10 rows x 24 columns]"
      ]
     },
     "execution_count": 37,
     "metadata": {},
     "output_type": "execute_result"
    }
   ],
   "source": [
    "df[df['vehicle_age'].isna()].head(10)"
   ]
  },
  {
   "cell_type": "markdown",
   "id": "121f6cc6",
   "metadata": {},
   "source": [
    "Эти данные могут быть полезными, пропуски можно заменить медианным значением."
   ]
  },
  {
   "cell_type": "code",
   "execution_count": 38,
   "id": "c1b404de",
   "metadata": {},
   "outputs": [],
   "source": [
    "df['vehicle_age'] = df['vehicle_age'].fillna(df['vehicle_age'].median()) "
   ]
  },
  {
   "cell_type": "markdown",
   "id": "4226da92",
   "metadata": {},
   "source": [
    "Теперь посмотрим на выбросные данные."
   ]
  },
  {
   "cell_type": "code",
   "execution_count": 39,
   "id": "a44896d8",
   "metadata": {},
   "outputs": [
    {
     "data": {
      "text/html": [
       "<div>\n",
       "<style scoped>\n",
       "    .dataframe tbody tr th:only-of-type {\n",
       "        vertical-align: middle;\n",
       "    }\n",
       "\n",
       "    .dataframe tbody tr th {\n",
       "        vertical-align: top;\n",
       "    }\n",
       "\n",
       "    .dataframe thead th {\n",
       "        text-align: right;\n",
       "    }\n",
       "</style>\n",
       "<table border=\"1\" class=\"dataframe\">\n",
       "  <thead>\n",
       "    <tr style=\"text-align: right;\">\n",
       "      <th></th>\n",
       "      <th>case_id</th>\n",
       "      <th>party_number</th>\n",
       "      <th>at_fault</th>\n",
       "      <th>party_sobriety</th>\n",
       "      <th>party_drug_physical</th>\n",
       "      <th>county_location</th>\n",
       "      <th>distance</th>\n",
       "      <th>direction</th>\n",
       "      <th>intersection</th>\n",
       "      <th>weather_1</th>\n",
       "      <th>...</th>\n",
       "      <th>type_of_collision</th>\n",
       "      <th>motor_vehicle_involved_with</th>\n",
       "      <th>road_surface</th>\n",
       "      <th>road_condition_1</th>\n",
       "      <th>lighting</th>\n",
       "      <th>collision_date</th>\n",
       "      <th>collision_time</th>\n",
       "      <th>vehicle_type</th>\n",
       "      <th>vehicle_transmission</th>\n",
       "      <th>vehicle_age</th>\n",
       "    </tr>\n",
       "  </thead>\n",
       "  <tbody>\n",
       "    <tr>\n",
       "      <th>78595</th>\n",
       "      <td>5639033</td>\n",
       "      <td>1</td>\n",
       "      <td>1</td>\n",
       "      <td>had not been drinking</td>\n",
       "      <td>None</td>\n",
       "      <td>los angeles</td>\n",
       "      <td>0.00</td>\n",
       "      <td>None</td>\n",
       "      <td>1.00</td>\n",
       "      <td>clear</td>\n",
       "      <td>...</td>\n",
       "      <td>head-on</td>\n",
       "      <td>other motor vehicle</td>\n",
       "      <td>dry</td>\n",
       "      <td>normal</td>\n",
       "      <td>dusk or dawn</td>\n",
       "      <td>2012-12-05</td>\n",
       "      <td>05:55:00</td>\n",
       "      <td>sedan</td>\n",
       "      <td>manual</td>\n",
       "      <td>161.00</td>\n",
       "    </tr>\n",
       "    <tr>\n",
       "      <th>78597</th>\n",
       "      <td>5639033</td>\n",
       "      <td>2</td>\n",
       "      <td>0</td>\n",
       "      <td>had not been drinking</td>\n",
       "      <td>None</td>\n",
       "      <td>los angeles</td>\n",
       "      <td>0.00</td>\n",
       "      <td>None</td>\n",
       "      <td>1.00</td>\n",
       "      <td>clear</td>\n",
       "      <td>...</td>\n",
       "      <td>head-on</td>\n",
       "      <td>other motor vehicle</td>\n",
       "      <td>dry</td>\n",
       "      <td>normal</td>\n",
       "      <td>dusk or dawn</td>\n",
       "      <td>2012-12-05</td>\n",
       "      <td>05:55:00</td>\n",
       "      <td>sedan</td>\n",
       "      <td>manual</td>\n",
       "      <td>161.00</td>\n",
       "    </tr>\n",
       "    <tr>\n",
       "      <th>96046</th>\n",
       "      <td>5542342</td>\n",
       "      <td>1</td>\n",
       "      <td>1</td>\n",
       "      <td>had not been drinking</td>\n",
       "      <td>None</td>\n",
       "      <td>los angeles</td>\n",
       "      <td>449.00</td>\n",
       "      <td>north</td>\n",
       "      <td>0.00</td>\n",
       "      <td>clear</td>\n",
       "      <td>...</td>\n",
       "      <td>head-on</td>\n",
       "      <td>other motor vehicle</td>\n",
       "      <td>dry</td>\n",
       "      <td>normal</td>\n",
       "      <td>daylight</td>\n",
       "      <td>2012-06-20</td>\n",
       "      <td>11:45:00</td>\n",
       "      <td>sedan</td>\n",
       "      <td>manual</td>\n",
       "      <td>161.00</td>\n",
       "    </tr>\n",
       "    <tr>\n",
       "      <th>96048</th>\n",
       "      <td>5542342</td>\n",
       "      <td>2</td>\n",
       "      <td>0</td>\n",
       "      <td>had not been drinking</td>\n",
       "      <td>None</td>\n",
       "      <td>los angeles</td>\n",
       "      <td>449.00</td>\n",
       "      <td>north</td>\n",
       "      <td>0.00</td>\n",
       "      <td>clear</td>\n",
       "      <td>...</td>\n",
       "      <td>head-on</td>\n",
       "      <td>other motor vehicle</td>\n",
       "      <td>dry</td>\n",
       "      <td>normal</td>\n",
       "      <td>daylight</td>\n",
       "      <td>2012-06-20</td>\n",
       "      <td>11:45:00</td>\n",
       "      <td>sedan</td>\n",
       "      <td>manual</td>\n",
       "      <td>161.00</td>\n",
       "    </tr>\n",
       "  </tbody>\n",
       "</table>\n",
       "<p>4 rows × 24 columns</p>\n",
       "</div>"
      ],
      "text/plain": [
       "       case_id  party_number  at_fault         party_sobriety  \\\n",
       "78595  5639033             1         1  had not been drinking   \n",
       "78597  5639033             2         0  had not been drinking   \n",
       "96046  5542342             1         1  had not been drinking   \n",
       "96048  5542342             2         0  had not been drinking   \n",
       "\n",
       "      party_drug_physical county_location             distance direction  \\\n",
       "78595                None     los angeles                 0.00      None   \n",
       "78597                None     los angeles                 0.00      None   \n",
       "96046                None     los angeles               449.00     north   \n",
       "96048                None     los angeles               449.00     north   \n",
       "\n",
       "              intersection weather_1  ... type_of_collision  \\\n",
       "78595                 1.00     clear  ...           head-on   \n",
       "78597                 1.00     clear  ...           head-on   \n",
       "96046                 0.00     clear  ...           head-on   \n",
       "96048                 0.00     clear  ...           head-on   \n",
       "\n",
       "      motor_vehicle_involved_with  road_surface road_condition_1  \\\n",
       "78595         other motor vehicle           dry           normal   \n",
       "78597         other motor vehicle           dry           normal   \n",
       "96046         other motor vehicle           dry           normal   \n",
       "96048         other motor vehicle           dry           normal   \n",
       "\n",
       "           lighting collision_date collision_time vehicle_type  \\\n",
       "78595  dusk or dawn     2012-12-05       05:55:00        sedan   \n",
       "78597  dusk or dawn     2012-12-05       05:55:00        sedan   \n",
       "96046      daylight     2012-06-20       11:45:00        sedan   \n",
       "96048      daylight     2012-06-20       11:45:00        sedan   \n",
       "\n",
       "      vehicle_transmission          vehicle_age  \n",
       "78595               manual               161.00  \n",
       "78597               manual               161.00  \n",
       "96046               manual               161.00  \n",
       "96048               manual               161.00  \n",
       "\n",
       "[4 rows x 24 columns]"
      ]
     },
     "execution_count": 39,
     "metadata": {},
     "output_type": "execute_result"
    }
   ],
   "source": [
    "df.query('vehicle_age > 20')"
   ]
  },
  {
   "cell_type": "markdown",
   "id": "40870820",
   "metadata": {},
   "source": [
    "Значение возраста 161 да ещё и одинаковое для нескольких записей не внушает доверия - т.к. таких записей всего 4, можно безболезненно удалить сомнительные данные."
   ]
  },
  {
   "cell_type": "code",
   "execution_count": 40,
   "id": "beb03781",
   "metadata": {},
   "outputs": [],
   "source": [
    "df = df.query('vehicle_age < 161')"
   ]
  },
  {
   "cell_type": "code",
   "execution_count": 41,
   "id": "17fc05e8",
   "metadata": {},
   "outputs": [
    {
     "data": {
      "image/png": "[encoded data removed]",
      "text/plain": [
       "<Figure size 720x720 with 2 Axes>"
      ]
     },
     "metadata": {
      "needs_background": "light"
     },
     "output_type": "display_data"
    }
   ],
   "source": [
    "visualize_num('vehicle_age')"
   ]
  },
  {
   "cell_type": "markdown",
   "id": "86ef2e86",
   "metadata": {},
   "source": [
    "Автомобили возрастом больше 13 лет встречаются очень редко, но такое теоретически может быть, поэтому оставим данные на месте. В основном, автомобили возрастом 2-5 лет."
   ]
  },
  {
   "cell_type": "markdown",
   "id": "08ff1f16",
   "metadata": {},
   "source": [
    "### Категориальные признаки"
   ]
  },
  {
   "cell_type": "markdown",
   "id": "a27d05dd",
   "metadata": {},
   "source": [
    "- `party_sobriety`\n",
    "- `party_drug_physical`\n",
    "- `county_location`\n",
    "- `direction`\n",
    "- `intersection`\n",
    "- `weather_1`\n",
    "- `location_type`\n",
    "- `collision_damage`\n",
    "- `pcf_violation_category`\n",
    "- `type_of_collision`\n",
    "- `motor_vehicle_involved_with`\n",
    "- `road_surface`\n",
    "- `road_condition_1`\n",
    "- `lighting`\n",
    "- `collision_date`\n",
    "- `collision_time`\n",
    "- `vehicle_type`\n",
    "- `vehicle_transmission`"
   ]
  },
  {
   "cell_type": "code",
   "execution_count": 42,
   "id": "61f6349a",
   "metadata": {},
   "outputs": [],
   "source": [
    "def cat_info(column):\n",
    "    print('Количество пропусков:', df[column].isna().sum())\n",
    "    print('\\nДоля пропусков:', df[column].isna().sum()/len(df[column]), '\\n')  \n",
    "    print(df[column].value_counts())"
   ]
  },
  {
   "cell_type": "code",
   "execution_count": 43,
   "id": "f04591e7",
   "metadata": {},
   "outputs": [],
   "source": [
    "def visualize_cat(column, figsize=(8,5)):\n",
    "    \n",
    "    fig, ax = plt.subplots(figsize=figsize)\n",
    "    ax.barh(y=df[column].value_counts().index, width=df[column].value_counts().values)\n",
    "    ax.set_title(f'Статистика по {column}')\n",
    "    plt.show() "
   ]
  },
  {
   "cell_type": "markdown",
   "id": "0ad19703",
   "metadata": {},
   "source": [
    "#### party_sobriety"
   ]
  },
  {
   "cell_type": "markdown",
   "id": "660bb702",
   "metadata": {},
   "source": [
    "- трезвость участника"
   ]
  },
  {
   "cell_type": "code",
   "execution_count": 44,
   "id": "a32718eb",
   "metadata": {},
   "outputs": [
    {
     "data": {
      "text/plain": [
       "array(['had been drinking, under influence', 'had not been drinking',\n",
       "       'impairment unknown', None,\n",
       "       'had been drinking, not under influence',\n",
       "       'had been drinking, impairment unknown', 'not applicable'],\n",
       "      dtype=object)"
      ]
     },
     "execution_count": 44,
     "metadata": {},
     "output_type": "execute_result"
    }
   ],
   "source": [
    "df['party_sobriety'].unique() "
   ]
  },
  {
   "cell_type": "markdown",
   "id": "a31f3a8e",
   "metadata": {},
   "source": [
    "Для начала интересно посмотреть на значения `impairment unknown`."
   ]
  },
  {
   "cell_type": "markdown",
   "id": "150647f9",
   "metadata": {},
   "source": [
    "Логично будет объединить все категории `had been drinking` в одну."
   ]
  },
  {
   "cell_type": "code",
   "execution_count": 45,
   "id": "33640501",
   "metadata": {},
   "outputs": [],
   "source": [
    "df['party_sobriety'] = df['party_sobriety'].replace({'had been drinking, under influence': 'had been drinking',\n",
    "                                                    'had been drinking, impairment unknown': 'had been drinking',\n",
    "                                                    'had been drinking, not under influence': 'had been drinking'})"
   ]
  },
  {
   "cell_type": "code",
   "execution_count": 46,
   "id": "37924850",
   "metadata": {},
   "outputs": [
    {
     "name": "stdout",
     "output_type": "stream",
     "text": [
      "Количество пропусков: 1712\n",
      "\n",
      "Доля пропусков: 0.014598664631494573 \n",
      "\n",
      "had not been drinking    100986\n",
      "had been drinking          7935\n",
      "impairment unknown         6058\n",
      "not applicable              580\n",
      "Name: party_sobriety, dtype: int64\n"
     ]
    }
   ],
   "source": [
    "cat_info('party_sobriety')"
   ]
  },
  {
   "cell_type": "markdown",
   "id": "f99683e9",
   "metadata": {},
   "source": [
    "Далее изучим пропуски."
   ]
  },
  {
   "cell_type": "code",
   "execution_count": 47,
   "id": "7e6afcd3",
   "metadata": {},
   "outputs": [
    {
     "data": {
      "text/html": [
       "<div>\n",
       "<style scoped>\n",
       "    .dataframe tbody tr th:only-of-type {\n",
       "        vertical-align: middle;\n",
       "    }\n",
       "\n",
       "    .dataframe tbody tr th {\n",
       "        vertical-align: top;\n",
       "    }\n",
       "\n",
       "    .dataframe thead th {\n",
       "        text-align: right;\n",
       "    }\n",
       "</style>\n",
       "<table border=\"1\" class=\"dataframe\">\n",
       "  <thead>\n",
       "    <tr style=\"text-align: right;\">\n",
       "      <th></th>\n",
       "      <th>case_id</th>\n",
       "      <th>party_number</th>\n",
       "      <th>at_fault</th>\n",
       "      <th>party_sobriety</th>\n",
       "      <th>party_drug_physical</th>\n",
       "      <th>county_location</th>\n",
       "      <th>distance</th>\n",
       "      <th>direction</th>\n",
       "      <th>intersection</th>\n",
       "      <th>weather_1</th>\n",
       "      <th>...</th>\n",
       "      <th>type_of_collision</th>\n",
       "      <th>motor_vehicle_involved_with</th>\n",
       "      <th>road_surface</th>\n",
       "      <th>road_condition_1</th>\n",
       "      <th>lighting</th>\n",
       "      <th>collision_date</th>\n",
       "      <th>collision_time</th>\n",
       "      <th>vehicle_type</th>\n",
       "      <th>vehicle_transmission</th>\n",
       "      <th>vehicle_age</th>\n",
       "    </tr>\n",
       "  </thead>\n",
       "  <tbody>\n",
       "    <tr>\n",
       "      <th>74587</th>\n",
       "      <td>5486976</td>\n",
       "      <td>1</td>\n",
       "      <td>1</td>\n",
       "      <td>None</td>\n",
       "      <td>under drug influence</td>\n",
       "      <td>placer</td>\n",
       "      <td>175.00</td>\n",
       "      <td>north</td>\n",
       "      <td>0.00</td>\n",
       "      <td>clear</td>\n",
       "      <td>...</td>\n",
       "      <td>hit object</td>\n",
       "      <td>fixed object</td>\n",
       "      <td>dry</td>\n",
       "      <td>normal</td>\n",
       "      <td>dark with street lights</td>\n",
       "      <td>2012-01-15</td>\n",
       "      <td>01:54:00</td>\n",
       "      <td>coupe</td>\n",
       "      <td>None</td>\n",
       "      <td>5.00</td>\n",
       "    </tr>\n",
       "    <tr>\n",
       "      <th>58413</th>\n",
       "      <td>5638286</td>\n",
       "      <td>1</td>\n",
       "      <td>1</td>\n",
       "      <td>None</td>\n",
       "      <td>under drug influence</td>\n",
       "      <td>merced</td>\n",
       "      <td>3,168.00</td>\n",
       "      <td>west</td>\n",
       "      <td>0.00</td>\n",
       "      <td>clear</td>\n",
       "      <td>...</td>\n",
       "      <td>sideswipe</td>\n",
       "      <td>other motor vehicle</td>\n",
       "      <td>dry</td>\n",
       "      <td>normal</td>\n",
       "      <td>daylight</td>\n",
       "      <td>2012-07-22</td>\n",
       "      <td>12:16:00</td>\n",
       "      <td>sedan</td>\n",
       "      <td>auto</td>\n",
       "      <td>9.00</td>\n",
       "    </tr>\n",
       "    <tr>\n",
       "      <th>80966</th>\n",
       "      <td>5529944</td>\n",
       "      <td>2</td>\n",
       "      <td>0</td>\n",
       "      <td>None</td>\n",
       "      <td>None</td>\n",
       "      <td>santa clara</td>\n",
       "      <td>100.00</td>\n",
       "      <td>west</td>\n",
       "      <td>0.00</td>\n",
       "      <td>clear</td>\n",
       "      <td>...</td>\n",
       "      <td>other</td>\n",
       "      <td>other object</td>\n",
       "      <td>dry</td>\n",
       "      <td>normal</td>\n",
       "      <td>daylight</td>\n",
       "      <td>2012-03-06</td>\n",
       "      <td>15:07:00</td>\n",
       "      <td>hatchback</td>\n",
       "      <td>None</td>\n",
       "      <td>1.00</td>\n",
       "    </tr>\n",
       "    <tr>\n",
       "      <th>54541</th>\n",
       "      <td>5480531</td>\n",
       "      <td>1</td>\n",
       "      <td>0</td>\n",
       "      <td>None</td>\n",
       "      <td>impairment - physical</td>\n",
       "      <td>ventura</td>\n",
       "      <td>528.00</td>\n",
       "      <td>east</td>\n",
       "      <td>0.00</td>\n",
       "      <td>cloudy</td>\n",
       "      <td>...</td>\n",
       "      <td>hit object</td>\n",
       "      <td>fixed object</td>\n",
       "      <td>dry</td>\n",
       "      <td>normal</td>\n",
       "      <td>daylight</td>\n",
       "      <td>2012-01-15</td>\n",
       "      <td>15:25:00</td>\n",
       "      <td>sedan</td>\n",
       "      <td>auto</td>\n",
       "      <td>6.00</td>\n",
       "    </tr>\n",
       "    <tr>\n",
       "      <th>49165</th>\n",
       "      <td>5625586</td>\n",
       "      <td>1</td>\n",
       "      <td>1</td>\n",
       "      <td>None</td>\n",
       "      <td>None</td>\n",
       "      <td>sacramento</td>\n",
       "      <td>0.00</td>\n",
       "      <td>None</td>\n",
       "      <td>1.00</td>\n",
       "      <td>clear</td>\n",
       "      <td>...</td>\n",
       "      <td>sideswipe</td>\n",
       "      <td>other motor vehicle</td>\n",
       "      <td>dry</td>\n",
       "      <td>normal</td>\n",
       "      <td>daylight</td>\n",
       "      <td>2012-05-12</td>\n",
       "      <td>10:44:00</td>\n",
       "      <td>coupe</td>\n",
       "      <td>auto</td>\n",
       "      <td>8.00</td>\n",
       "    </tr>\n",
       "    <tr>\n",
       "      <th>12019</th>\n",
       "      <td>5564168</td>\n",
       "      <td>5</td>\n",
       "      <td>0</td>\n",
       "      <td>None</td>\n",
       "      <td>None</td>\n",
       "      <td>los angeles</td>\n",
       "      <td>0.00</td>\n",
       "      <td>None</td>\n",
       "      <td>1.00</td>\n",
       "      <td>clear</td>\n",
       "      <td>...</td>\n",
       "      <td>broadside</td>\n",
       "      <td>other motor vehicle</td>\n",
       "      <td>dry</td>\n",
       "      <td>normal</td>\n",
       "      <td>daylight</td>\n",
       "      <td>2012-02-25</td>\n",
       "      <td>13:20:00</td>\n",
       "      <td>coupe</td>\n",
       "      <td>manual</td>\n",
       "      <td>3.00</td>\n",
       "    </tr>\n",
       "    <tr>\n",
       "      <th>63698</th>\n",
       "      <td>5645521</td>\n",
       "      <td>3</td>\n",
       "      <td>0</td>\n",
       "      <td>None</td>\n",
       "      <td>None</td>\n",
       "      <td>riverside</td>\n",
       "      <td>0.00</td>\n",
       "      <td>None</td>\n",
       "      <td>1.00</td>\n",
       "      <td>clear</td>\n",
       "      <td>...</td>\n",
       "      <td>rear end</td>\n",
       "      <td>other motor vehicle</td>\n",
       "      <td>dry</td>\n",
       "      <td>normal</td>\n",
       "      <td>daylight</td>\n",
       "      <td>2012-05-05</td>\n",
       "      <td>11:05:00</td>\n",
       "      <td>sedan</td>\n",
       "      <td>auto</td>\n",
       "      <td>7.00</td>\n",
       "    </tr>\n",
       "    <tr>\n",
       "      <th>16326</th>\n",
       "      <td>5537421</td>\n",
       "      <td>2</td>\n",
       "      <td>0</td>\n",
       "      <td>None</td>\n",
       "      <td>None</td>\n",
       "      <td>los angeles</td>\n",
       "      <td>685.00</td>\n",
       "      <td>east</td>\n",
       "      <td>0.00</td>\n",
       "      <td>clear</td>\n",
       "      <td>...</td>\n",
       "      <td>broadside</td>\n",
       "      <td>other motor vehicle</td>\n",
       "      <td>dry</td>\n",
       "      <td>normal</td>\n",
       "      <td>dark with street lights</td>\n",
       "      <td>2012-02-22</td>\n",
       "      <td>18:10:00</td>\n",
       "      <td>sedan</td>\n",
       "      <td>manual</td>\n",
       "      <td>7.00</td>\n",
       "    </tr>\n",
       "    <tr>\n",
       "      <th>80314</th>\n",
       "      <td>5506793</td>\n",
       "      <td>1</td>\n",
       "      <td>1</td>\n",
       "      <td>None</td>\n",
       "      <td>sleepy/fatigued</td>\n",
       "      <td>yuba</td>\n",
       "      <td>256.00</td>\n",
       "      <td>north</td>\n",
       "      <td>0.00</td>\n",
       "      <td>clear</td>\n",
       "      <td>...</td>\n",
       "      <td>hit object</td>\n",
       "      <td>fixed object</td>\n",
       "      <td>dry</td>\n",
       "      <td>normal</td>\n",
       "      <td>daylight</td>\n",
       "      <td>2012-02-12</td>\n",
       "      <td>13:55:00</td>\n",
       "      <td>coupe</td>\n",
       "      <td>auto</td>\n",
       "      <td>4.00</td>\n",
       "    </tr>\n",
       "    <tr>\n",
       "      <th>32886</th>\n",
       "      <td>5622245</td>\n",
       "      <td>1</td>\n",
       "      <td>1</td>\n",
       "      <td>None</td>\n",
       "      <td>under drug influence</td>\n",
       "      <td>shasta</td>\n",
       "      <td>66.00</td>\n",
       "      <td>east</td>\n",
       "      <td>0.00</td>\n",
       "      <td>clear</td>\n",
       "      <td>...</td>\n",
       "      <td>broadside</td>\n",
       "      <td>other motor vehicle</td>\n",
       "      <td>dry</td>\n",
       "      <td>normal</td>\n",
       "      <td>daylight</td>\n",
       "      <td>2012-02-13</td>\n",
       "      <td>14:01:00</td>\n",
       "      <td>sedan</td>\n",
       "      <td>auto</td>\n",
       "      <td>7.00</td>\n",
       "    </tr>\n",
       "  </tbody>\n",
       "</table>\n",
       "<p>10 rows × 24 columns</p>\n",
       "</div>"
      ],
      "text/plain": [
       "       case_id  party_number  at_fault party_sobriety    party_drug_physical  \\\n",
       "74587  5486976             1         1           None   under drug influence   \n",
       "58413  5638286             1         1           None   under drug influence   \n",
       "80966  5529944             2         0           None                   None   \n",
       "54541  5480531             1         0           None  impairment - physical   \n",
       "49165  5625586             1         1           None                   None   \n",
       "12019  5564168             5         0           None                   None   \n",
       "63698  5645521             3         0           None                   None   \n",
       "16326  5537421             2         0           None                   None   \n",
       "80314  5506793             1         1           None        sleepy/fatigued   \n",
       "32886  5622245             1         1           None   under drug influence   \n",
       "\n",
       "      county_location             distance direction         intersection  \\\n",
       "74587          placer               175.00     north                 0.00   \n",
       "58413          merced             3,168.00      west                 0.00   \n",
       "80966     santa clara               100.00      west                 0.00   \n",
       "54541         ventura               528.00      east                 0.00   \n",
       "49165      sacramento                 0.00      None                 1.00   \n",
       "12019     los angeles                 0.00      None                 1.00   \n",
       "63698       riverside                 0.00      None                 1.00   \n",
       "16326     los angeles               685.00      east                 0.00   \n",
       "80314            yuba               256.00     north                 0.00   \n",
       "32886          shasta                66.00      east                 0.00   \n",
       "\n",
       "      weather_1  ... type_of_collision motor_vehicle_involved_with  \\\n",
       "74587     clear  ...        hit object                fixed object   \n",
       "58413     clear  ...         sideswipe         other motor vehicle   \n",
       "80966     clear  ...             other                other object   \n",
       "54541    cloudy  ...        hit object                fixed object   \n",
       "49165     clear  ...         sideswipe         other motor vehicle   \n",
       "12019     clear  ...         broadside         other motor vehicle   \n",
       "63698     clear  ...          rear end         other motor vehicle   \n",
       "16326     clear  ...         broadside         other motor vehicle   \n",
       "80314     clear  ...        hit object                fixed object   \n",
       "32886     clear  ...         broadside         other motor vehicle   \n",
       "\n",
       "       road_surface road_condition_1                 lighting collision_date  \\\n",
       "74587           dry           normal  dark with street lights     2012-01-15   \n",
       "58413           dry           normal                 daylight     2012-07-22   \n",
       "80966           dry           normal                 daylight     2012-03-06   \n",
       "54541           dry           normal                 daylight     2012-01-15   \n",
       "49165           dry           normal                 daylight     2012-05-12   \n",
       "12019           dry           normal                 daylight     2012-02-25   \n",
       "63698           dry           normal                 daylight     2012-05-05   \n",
       "16326           dry           normal  dark with street lights     2012-02-22   \n",
       "80314           dry           normal                 daylight     2012-02-12   \n",
       "32886           dry           normal                 daylight     2012-02-13   \n",
       "\n",
       "      collision_time vehicle_type vehicle_transmission          vehicle_age  \n",
       "74587       01:54:00        coupe                 None                 5.00  \n",
       "58413       12:16:00        sedan                 auto                 9.00  \n",
       "80966       15:07:00    hatchback                 None                 1.00  \n",
       "54541       15:25:00        sedan                 auto                 6.00  \n",
       "49165       10:44:00        coupe                 auto                 8.00  \n",
       "12019       13:20:00        coupe               manual                 3.00  \n",
       "63698       11:05:00        sedan                 auto                 7.00  \n",
       "16326       18:10:00        sedan               manual                 7.00  \n",
       "80314       13:55:00        coupe                 auto                 4.00  \n",
       "32886       14:01:00        sedan                 auto                 7.00  \n",
       "\n",
       "[10 rows x 24 columns]"
      ]
     },
     "execution_count": 47,
     "metadata": {},
     "output_type": "execute_result"
    }
   ],
   "source": [
    "df[df['party_sobriety'].isna()].sample(10)"
   ]
  },
  {
   "cell_type": "markdown",
   "id": "2acce4cd",
   "metadata": {},
   "source": [
    "Здесь пропуски можно заменить значением `impairment unknown`."
   ]
  },
  {
   "cell_type": "code",
   "execution_count": 48,
   "id": "699ec017",
   "metadata": {},
   "outputs": [],
   "source": [
    "df['party_sobriety'] = df['party_sobriety'].fillna('impairment unknown') "
   ]
  },
  {
   "cell_type": "code",
   "execution_count": 49,
   "id": "2079335b",
   "metadata": {
    "scrolled": true
   },
   "outputs": [
    {
     "data": {
      "image/png": "[encoded data removed]",
      "text/plain": [
       "<Figure size 576x360 with 1 Axes>"
      ]
     },
     "metadata": {
      "needs_background": "light"
     },
     "output_type": "display_data"
    }
   ],
   "source": [
    "visualize_cat('party_sobriety')"
   ]
  },
  {
   "cell_type": "markdown",
   "id": "ab150b2e",
   "metadata": {},
   "source": [
    "Большинство водителей всё же ездят трезвыми."
   ]
  },
  {
   "cell_type": "markdown",
   "id": "3b15cd5a",
   "metadata": {},
   "source": [
    "#### party_drug_physical"
   ]
  },
  {
   "cell_type": "markdown",
   "id": "e36c23fe",
   "metadata": {},
   "source": [
    "- Состояние участника: физическое или с учетом принятых лекарств"
   ]
  },
  {
   "cell_type": "code",
   "execution_count": 50,
   "id": "1d6e6929",
   "metadata": {},
   "outputs": [
    {
     "data": {
      "text/plain": [
       "array(['under drug influence', None, 'G', 'sleepy/fatigued',\n",
       "       'impairment - physical', 'not applicable'], dtype=object)"
      ]
     },
     "execution_count": 50,
     "metadata": {},
     "output_type": "execute_result"
    }
   ],
   "source": [
    "df['party_drug_physical'].unique()"
   ]
  },
  {
   "cell_type": "code",
   "execution_count": 51,
   "id": "4bcc1a83",
   "metadata": {},
   "outputs": [
    {
     "name": "stdout",
     "output_type": "stream",
     "text": [
      "Количество пропусков: 108675\n",
      "\n",
      "Доля пропусков: 0.9266996955769116 \n",
      "\n",
      "G                        6058\n",
      "under drug influence     1277\n",
      "not applicable            580\n",
      "sleepy/fatigued           506\n",
      "impairment - physical     175\n",
      "Name: party_drug_physical, dtype: int64\n"
     ]
    }
   ],
   "source": [
    "cat_info('party_drug_physical')"
   ]
  },
  {
   "cell_type": "markdown",
   "id": "cfb9f9d6",
   "metadata": {},
   "source": [
    "Пропуски в этой колонке могут означать, что участник не был в угнетённом физическом состоянии. Можно свести колонку к трём категориям: `under influence`, `not under inflience`, `not applicable`."
   ]
  },
  {
   "cell_type": "code",
   "execution_count": 52,
   "id": "50b97321",
   "metadata": {},
   "outputs": [],
   "source": [
    "df['party_drug_physical'] = df['party_drug_physical'].replace({'G': 'under influence',\n",
    "                                                              'under drug influence': 'under influence',\n",
    "                                                              'sleepy/fatigued': 'under influence',\n",
    "                                                              'impairment - physical': 'under influence'}) \n",
    "\n",
    "df['party_drug_physical'] = df['party_drug_physical'].fillna('not under inflience') "
   ]
  },
  {
   "cell_type": "code",
   "execution_count": null,
   "id": "2b2e591b",
   "metadata": {},
   "outputs": [],
   "source": []
  },
  {
   "cell_type": "code",
   "execution_count": 53,
   "id": "6cb31ea4",
   "metadata": {},
   "outputs": [
    {
     "data": {
      "image/png": "[encoded data removed]",
      "text/plain": [
       "<Figure size 576x360 with 1 Axes>"
      ]
     },
     "metadata": {
      "needs_background": "light"
     },
     "output_type": "display_data"
    }
   ],
   "source": [
    "visualize_cat('party_drug_physical')"
   ]
  },
  {
   "cell_type": "markdown",
   "id": "4c6dbe9f",
   "metadata": {},
   "source": [
    "Большинство водителей на момент аварии не находились в угнетённом состоянии."
   ]
  },
  {
   "cell_type": "markdown",
   "id": "4e77285f",
   "metadata": {},
   "source": [
    "#### county_location"
   ]
  },
  {
   "cell_type": "code",
   "execution_count": 54,
   "id": "6bc60c38",
   "metadata": {
    "scrolled": true
   },
   "outputs": [
    {
     "data": {
      "text/plain": [
       "array(['san benito', 'orange', 'solano', 'sacramento', 'los angeles',\n",
       "       'contra costa', 'stanislaus', 'alameda', 'riverside',\n",
       "       'san joaquin', 'el dorado', 'nevada', 'marin', 'yuba', 'san diego',\n",
       "       'san bernardino', 'santa clara', 'kern', 'ventura', 'placer',\n",
       "       'san mateo', 'calaveras', 'yolo', 'tulare', 'fresno',\n",
       "       'san francisco', 'humboldt', 'santa barbara', 'butte', 'sutter',\n",
       "       'san luis obispo', 'shasta', 'lake', 'tehama', 'napa', 'merced',\n",
       "       'monterey', 'glenn', 'mono', 'sonoma', 'mendocino', 'santa cruz',\n",
       "       'tuolumne', 'amador', 'madera', 'kings', 'lassen', 'imperial',\n",
       "       'siskiyou', 'inyo', 'mariposa', 'sierra', 'del norte', 'trinity',\n",
       "       'plumas', 'colusa', 'modoc', 'alpine'], dtype=object)"
      ]
     },
     "execution_count": 54,
     "metadata": {},
     "output_type": "execute_result"
    }
   ],
   "source": [
    "df['county_location'].unique() "
   ]
  },
  {
   "cell_type": "code",
   "execution_count": 55,
   "id": "7a7b1e4f",
   "metadata": {},
   "outputs": [
    {
     "name": "stdout",
     "output_type": "stream",
     "text": [
      "Количество пропусков: 0\n",
      "\n",
      "Доля пропусков: 0.0 \n",
      "\n",
      "los angeles        36310\n",
      "orange             11905\n",
      "san diego           7593\n",
      "san bernardino      7211\n",
      "riverside           6831\n",
      "sacramento          4747\n",
      "santa clara         4123\n",
      "alameda             3974\n",
      "ventura             2980\n",
      "kern                2647\n",
      "contra costa        2113\n",
      "san mateo           2101\n",
      "fresno              1960\n",
      "san joaquin         1862\n",
      "stanislaus          1616\n",
      "santa barbara       1443\n",
      "tulare              1371\n",
      "sonoma              1365\n",
      "placer              1184\n",
      "san francisco       1143\n",
      "monterey            1127\n",
      "solano              1110\n",
      "santa cruz           889\n",
      "san luis obispo      773\n",
      "marin                765\n",
      "merced               747\n",
      "madera               619\n",
      "yolo                 577\n",
      "butte                574\n",
      "humboldt             564\n",
      "el dorado            489\n",
      "kings                476\n",
      "shasta               459\n",
      "napa                 380\n",
      "imperial             355\n",
      "nevada               287\n",
      "sutter               281\n",
      "mendocino            273\n",
      "tehama               243\n",
      "tuolumne             218\n",
      "yuba                 200\n",
      "calaveras            193\n",
      "lake                 170\n",
      "san benito           133\n",
      "amador               126\n",
      "siskiyou             115\n",
      "mariposa              93\n",
      "colusa                93\n",
      "del norte             87\n",
      "inyo                  73\n",
      "lassen                63\n",
      "mono                  61\n",
      "glenn                 52\n",
      "trinity               37\n",
      "plumas                32\n",
      "alpine                26\n",
      "sierra                17\n",
      "modoc                 15\n",
      "Name: county_location, dtype: int64\n"
     ]
    }
   ],
   "source": [
    "cat_info('county_location')"
   ]
  },
  {
   "cell_type": "code",
   "execution_count": 56,
   "id": "66689cf4",
   "metadata": {},
   "outputs": [
    {
     "data": {
      "image/png": "[encoded data removed]",
      "text/plain": [
       "<Figure size 576x720 with 1 Axes>"
      ]
     },
     "metadata": {
      "needs_background": "light"
     },
     "output_type": "display_data"
    }
   ],
   "source": [
    "visualize_cat('county_location', figsize=(8,10))"
   ]
  },
  {
   "cell_type": "markdown",
   "id": "cdd860e5",
   "metadata": {},
   "source": [
    "Видно, что в Лос-Анджелесе значительно чаще случаются аварии. Наверное, там и автопарк больше, чем в других городах."
   ]
  },
  {
   "cell_type": "markdown",
   "id": "ef97c03a",
   "metadata": {},
   "source": [
    "#### direction"
   ]
  },
  {
   "cell_type": "code",
   "execution_count": 57,
   "id": "e5d0e3e3",
   "metadata": {},
   "outputs": [
    {
     "data": {
      "text/plain": [
       "array([None, 'north', 'south', 'west', 'east'], dtype=object)"
      ]
     },
     "execution_count": 57,
     "metadata": {},
     "output_type": "execute_result"
    }
   ],
   "source": [
    "df['direction'].unique()"
   ]
  },
  {
   "cell_type": "code",
   "execution_count": 58,
   "id": "962547b6",
   "metadata": {},
   "outputs": [
    {
     "name": "stdout",
     "output_type": "stream",
     "text": [
      "Количество пропусков: 28942\n",
      "\n",
      "Доля пропусков: 0.2467958830401378 \n",
      "\n",
      "north    24806\n",
      "south    24448\n",
      "west     19878\n",
      "east     19197\n",
      "Name: direction, dtype: int64\n"
     ]
    }
   ],
   "source": [
    "cat_info('direction')"
   ]
  },
  {
   "cell_type": "code",
   "execution_count": 59,
   "id": "ca7e4724",
   "metadata": {},
   "outputs": [
    {
     "data": {
      "image/png": "[encoded data removed]",
      "text/plain": [
       "<Figure size 576x360 with 1 Axes>"
      ]
     },
     "metadata": {
      "needs_background": "light"
     },
     "output_type": "display_data"
    }
   ],
   "source": [
    "visualize_cat('direction')"
   ]
  },
  {
   "cell_type": "markdown",
   "id": "efcd5767",
   "metadata": {},
   "source": [
    "В этой колонке слишком много пропусков, подобрать значение на замену для них не получится. Как видно на графике, значения распределены примерно равномерно, а значит, направление движения почти не влияет на факт возникновения аварии. В связи с этими факторами, целесообразно эту колонку удалить."
   ]
  },
  {
   "cell_type": "code",
   "execution_count": 60,
   "id": "67aa195c",
   "metadata": {},
   "outputs": [],
   "source": [
    "df = df.drop('direction', axis=1) "
   ]
  },
  {
   "cell_type": "markdown",
   "id": "f5790bbf",
   "metadata": {},
   "source": [
    "#### weather"
   ]
  },
  {
   "cell_type": "code",
   "execution_count": 61,
   "id": "07d872e7",
   "metadata": {},
   "outputs": [],
   "source": [
    "# сразу переименуем колонку для удобства\n",
    "df = df.rename(columns={'weather_1': 'weather'})"
   ]
  },
  {
   "cell_type": "code",
   "execution_count": 62,
   "id": "4258e293",
   "metadata": {},
   "outputs": [
    {
     "data": {
      "text/plain": [
       "array(['clear', 'raining', 'cloudy', 'fog', None, 'snowing', 'other',\n",
       "       'wind'], dtype=object)"
      ]
     },
     "execution_count": 62,
     "metadata": {},
     "output_type": "execute_result"
    }
   ],
   "source": [
    "df['weather'].unique()"
   ]
  },
  {
   "cell_type": "code",
   "execution_count": 63,
   "id": "6bd1417a",
   "metadata": {},
   "outputs": [
    {
     "name": "stdout",
     "output_type": "stream",
     "text": [
      "Количество пропусков: 389\n",
      "\n",
      "Доля пропусков: 0.0033171031201234746 \n",
      "\n",
      "clear      95157\n",
      "cloudy     16838\n",
      "raining     4177\n",
      "fog          383\n",
      "snowing      246\n",
      "other         58\n",
      "wind          23\n",
      "Name: weather, dtype: int64\n"
     ]
    }
   ],
   "source": [
    "cat_info('weather')"
   ]
  },
  {
   "cell_type": "markdown",
   "id": "37b63d3e",
   "metadata": {},
   "source": [
    "Пропусков тут немного, пусть будет `other`."
   ]
  },
  {
   "cell_type": "code",
   "execution_count": 64,
   "id": "bed33822",
   "metadata": {},
   "outputs": [],
   "source": [
    "df['weather'] = df['weather'].fillna('other')"
   ]
  },
  {
   "cell_type": "code",
   "execution_count": 65,
   "id": "c4992c8a",
   "metadata": {},
   "outputs": [
    {
     "data": {
      "image/png": "[encoded data removed]",
      "text/plain": [
       "<Figure size 576x360 with 1 Axes>"
      ]
     },
     "metadata": {
      "needs_background": "light"
     },
     "output_type": "display_data"
    }
   ],
   "source": [
    "visualize_cat('weather')"
   ]
  },
  {
   "cell_type": "markdown",
   "id": "10612b13",
   "metadata": {},
   "source": [
    "В большинстве случаев погода не влияет на факт возникновения аварии."
   ]
  },
  {
   "cell_type": "markdown",
   "id": "c752b50d",
   "metadata": {},
   "source": [
    "#### location_type и intersection"
   ]
  },
  {
   "cell_type": "code",
   "execution_count": 66,
   "id": "6aec16f3",
   "metadata": {},
   "outputs": [
    {
     "data": {
      "text/plain": [
       "array([None, 'highway', 'ramp', 'intersection'], dtype=object)"
      ]
     },
     "execution_count": 66,
     "metadata": {},
     "output_type": "execute_result"
    }
   ],
   "source": [
    "df['location_type'].unique()"
   ]
  },
  {
   "cell_type": "code",
   "execution_count": 67,
   "id": "6a4c0f8b",
   "metadata": {},
   "outputs": [
    {
     "name": "stdout",
     "output_type": "stream",
     "text": [
      "Количество пропусков: 62957\n",
      "\n",
      "Доля пропусков: 0.5368505427599322 \n",
      "\n",
      "highway         45195\n",
      "ramp             6253\n",
      "intersection     2866\n",
      "Name: location_type, dtype: int64\n"
     ]
    }
   ],
   "source": [
    "cat_info('location_type')"
   ]
  },
  {
   "cell_type": "code",
   "execution_count": 68,
   "id": "0a9914e5",
   "metadata": {},
   "outputs": [
    {
     "data": {
      "text/plain": [
       "array([ 1.,  0., nan])"
      ]
     },
     "execution_count": 68,
     "metadata": {},
     "output_type": "execute_result"
    }
   ],
   "source": [
    "df['intersection'].unique()"
   ]
  },
  {
   "cell_type": "code",
   "execution_count": 69,
   "id": "7b3b7642",
   "metadata": {
    "scrolled": true
   },
   "outputs": [
    {
     "name": "stdout",
     "output_type": "stream",
     "text": [
      "Количество пропусков: 367\n",
      "\n",
      "Доля пропусков: 0.003129503457802867 \n",
      "\n",
      "0.00    89200\n",
      "1.00    27704\n",
      "Name: intersection, dtype: int64\n"
     ]
    }
   ],
   "source": [
    "cat_info('intersection')"
   ]
  },
  {
   "cell_type": "markdown",
   "id": "396db490",
   "metadata": {},
   "source": [
    "Пропусков в колонке `intersection` намного меньше, чем в `location_type`, а значит, с ней будет удобнее работать. Можем попробовать восстановить пропуски `intersection` с помощью колонки `location_type`."
   ]
  },
  {
   "cell_type": "code",
   "execution_count": 70,
   "id": "3dbd9533",
   "metadata": {},
   "outputs": [
    {
     "data": {
      "text/html": [
       "<div>\n",
       "<style scoped>\n",
       "    .dataframe tbody tr th:only-of-type {\n",
       "        vertical-align: middle;\n",
       "    }\n",
       "\n",
       "    .dataframe tbody tr th {\n",
       "        vertical-align: top;\n",
       "    }\n",
       "\n",
       "    .dataframe thead th {\n",
       "        text-align: right;\n",
       "    }\n",
       "</style>\n",
       "<table border=\"1\" class=\"dataframe\">\n",
       "  <thead>\n",
       "    <tr style=\"text-align: right;\">\n",
       "      <th></th>\n",
       "      <th>case_id</th>\n",
       "      <th>party_number</th>\n",
       "      <th>at_fault</th>\n",
       "      <th>party_sobriety</th>\n",
       "      <th>party_drug_physical</th>\n",
       "      <th>county_location</th>\n",
       "      <th>distance</th>\n",
       "      <th>intersection</th>\n",
       "      <th>weather</th>\n",
       "      <th>location_type</th>\n",
       "      <th>...</th>\n",
       "      <th>type_of_collision</th>\n",
       "      <th>motor_vehicle_involved_with</th>\n",
       "      <th>road_surface</th>\n",
       "      <th>road_condition_1</th>\n",
       "      <th>lighting</th>\n",
       "      <th>collision_date</th>\n",
       "      <th>collision_time</th>\n",
       "      <th>vehicle_type</th>\n",
       "      <th>vehicle_transmission</th>\n",
       "      <th>vehicle_age</th>\n",
       "    </tr>\n",
       "  </thead>\n",
       "  <tbody>\n",
       "    <tr>\n",
       "      <th>9470</th>\n",
       "      <td>5456331</td>\n",
       "      <td>1</td>\n",
       "      <td>1</td>\n",
       "      <td>had been drinking</td>\n",
       "      <td>not under inflience</td>\n",
       "      <td>contra costa</td>\n",
       "      <td>295.00</td>\n",
       "      <td>NaN</td>\n",
       "      <td>raining</td>\n",
       "      <td>None</td>\n",
       "      <td>...</td>\n",
       "      <td>rear end</td>\n",
       "      <td>other motor vehicle</td>\n",
       "      <td>wet</td>\n",
       "      <td>normal</td>\n",
       "      <td>dark with street lights</td>\n",
       "      <td>2012-01-20</td>\n",
       "      <td>21:14:00</td>\n",
       "      <td>sedan</td>\n",
       "      <td>manual</td>\n",
       "      <td>2.00</td>\n",
       "    </tr>\n",
       "    <tr>\n",
       "      <th>106169</th>\n",
       "      <td>5579454</td>\n",
       "      <td>1</td>\n",
       "      <td>1</td>\n",
       "      <td>impairment unknown</td>\n",
       "      <td>under influence</td>\n",
       "      <td>san mateo</td>\n",
       "      <td>0.00</td>\n",
       "      <td>NaN</td>\n",
       "      <td>raining</td>\n",
       "      <td>None</td>\n",
       "      <td>...</td>\n",
       "      <td>hit object</td>\n",
       "      <td>fixed object</td>\n",
       "      <td>wet</td>\n",
       "      <td>normal</td>\n",
       "      <td>dark with no street lights</td>\n",
       "      <td>2012-03-25</td>\n",
       "      <td>02:00:00</td>\n",
       "      <td>sedan</td>\n",
       "      <td>auto</td>\n",
       "      <td>9.00</td>\n",
       "    </tr>\n",
       "    <tr>\n",
       "      <th>106168</th>\n",
       "      <td>5579454</td>\n",
       "      <td>1</td>\n",
       "      <td>1</td>\n",
       "      <td>impairment unknown</td>\n",
       "      <td>under influence</td>\n",
       "      <td>san mateo</td>\n",
       "      <td>0.00</td>\n",
       "      <td>NaN</td>\n",
       "      <td>raining</td>\n",
       "      <td>None</td>\n",
       "      <td>...</td>\n",
       "      <td>hit object</td>\n",
       "      <td>fixed object</td>\n",
       "      <td>wet</td>\n",
       "      <td>normal</td>\n",
       "      <td>dark with no street lights</td>\n",
       "      <td>2012-03-25</td>\n",
       "      <td>02:00:00</td>\n",
       "      <td>sedan</td>\n",
       "      <td>manual</td>\n",
       "      <td>7.00</td>\n",
       "    </tr>\n",
       "    <tr>\n",
       "      <th>81865</th>\n",
       "      <td>5560761</td>\n",
       "      <td>2</td>\n",
       "      <td>0</td>\n",
       "      <td>had not been drinking</td>\n",
       "      <td>not under inflience</td>\n",
       "      <td>orange</td>\n",
       "      <td>150.00</td>\n",
       "      <td>NaN</td>\n",
       "      <td>clear</td>\n",
       "      <td>highway</td>\n",
       "      <td>...</td>\n",
       "      <td>rear end</td>\n",
       "      <td>other motor vehicle</td>\n",
       "      <td>dry</td>\n",
       "      <td>normal</td>\n",
       "      <td>daylight</td>\n",
       "      <td>2012-03-23</td>\n",
       "      <td>16:45:00</td>\n",
       "      <td>sedan</td>\n",
       "      <td>auto</td>\n",
       "      <td>2.00</td>\n",
       "    </tr>\n",
       "    <tr>\n",
       "      <th>29250</th>\n",
       "      <td>5667150</td>\n",
       "      <td>1</td>\n",
       "      <td>1</td>\n",
       "      <td>impairment unknown</td>\n",
       "      <td>under influence</td>\n",
       "      <td>los angeles</td>\n",
       "      <td>0.00</td>\n",
       "      <td>NaN</td>\n",
       "      <td>clear</td>\n",
       "      <td>None</td>\n",
       "      <td>...</td>\n",
       "      <td>rear end</td>\n",
       "      <td>fixed object</td>\n",
       "      <td>dry</td>\n",
       "      <td>normal</td>\n",
       "      <td>daylight</td>\n",
       "      <td>2012-05-30</td>\n",
       "      <td>11:50:00</td>\n",
       "      <td>sedan</td>\n",
       "      <td>auto</td>\n",
       "      <td>5.00</td>\n",
       "    </tr>\n",
       "  </tbody>\n",
       "</table>\n",
       "<p>5 rows × 23 columns</p>\n",
       "</div>"
      ],
      "text/plain": [
       "        case_id  party_number  at_fault         party_sobriety  \\\n",
       "9470    5456331             1         1      had been drinking   \n",
       "106169  5579454             1         1     impairment unknown   \n",
       "106168  5579454             1         1     impairment unknown   \n",
       "81865   5560761             2         0  had not been drinking   \n",
       "29250   5667150             1         1     impairment unknown   \n",
       "\n",
       "        party_drug_physical county_location             distance  \\\n",
       "9470    not under inflience    contra costa               295.00   \n",
       "106169      under influence       san mateo                 0.00   \n",
       "106168      under influence       san mateo                 0.00   \n",
       "81865   not under inflience          orange               150.00   \n",
       "29250       under influence     los angeles                 0.00   \n",
       "\n",
       "        intersection  weather location_type  ... type_of_collision  \\\n",
       "9470             NaN  raining          None  ...          rear end   \n",
       "106169           NaN  raining          None  ...        hit object   \n",
       "106168           NaN  raining          None  ...        hit object   \n",
       "81865            NaN    clear       highway  ...          rear end   \n",
       "29250            NaN    clear          None  ...          rear end   \n",
       "\n",
       "        motor_vehicle_involved_with road_surface road_condition_1  \\\n",
       "9470            other motor vehicle          wet           normal   \n",
       "106169                 fixed object          wet           normal   \n",
       "106168                 fixed object          wet           normal   \n",
       "81865           other motor vehicle          dry           normal   \n",
       "29250                  fixed object          dry           normal   \n",
       "\n",
       "                          lighting collision_date collision_time vehicle_type  \\\n",
       "9470       dark with street lights     2012-01-20       21:14:00        sedan   \n",
       "106169  dark with no street lights     2012-03-25       02:00:00        sedan   \n",
       "106168  dark with no street lights     2012-03-25       02:00:00        sedan   \n",
       "81865                     daylight     2012-03-23       16:45:00        sedan   \n",
       "29250                     daylight     2012-05-30       11:50:00        sedan   \n",
       "\n",
       "       vehicle_transmission          vehicle_age  \n",
       "9470                 manual                 2.00  \n",
       "106169                 auto                 9.00  \n",
       "106168               manual                 7.00  \n",
       "81865                  auto                 2.00  \n",
       "29250                  auto                 5.00  \n",
       "\n",
       "[5 rows x 23 columns]"
      ]
     },
     "execution_count": 70,
     "metadata": {},
     "output_type": "execute_result"
    }
   ],
   "source": [
    "df[df['intersection'].isna()].sample(5)"
   ]
  },
  {
   "cell_type": "code",
   "execution_count": 71,
   "id": "38d000a6",
   "metadata": {},
   "outputs": [],
   "source": [
    "def fill_intersection(row):\n",
    "    if row['location_type'] == 'intersection':\n",
    "        row['intersection'] = 1\n",
    "    elif row['location_type'] == 'highway' or row['location_type'] == 'ramp':\n",
    "        row['intersection'] = 0\n",
    "    return row  "
   ]
  },
  {
   "cell_type": "code",
   "execution_count": 72,
   "id": "f9c92dff",
   "metadata": {},
   "outputs": [],
   "source": [
    "df = df.apply(fill_intersection, axis=1) "
   ]
  },
  {
   "cell_type": "code",
   "execution_count": 73,
   "id": "aa0af68a",
   "metadata": {},
   "outputs": [
    {
     "data": {
      "text/plain": [
       "302"
      ]
     },
     "execution_count": 73,
     "metadata": {},
     "output_type": "execute_result"
    }
   ],
   "source": [
    "df['intersection'].isna().sum() "
   ]
  },
  {
   "cell_type": "markdown",
   "id": "6abb6ea3",
   "metadata": {},
   "source": [
    "Немного удалось сократить количество пропусков."
   ]
  },
  {
   "cell_type": "code",
   "execution_count": 74,
   "id": "1dbaa300",
   "metadata": {},
   "outputs": [],
   "source": [
    "# переименуем категории\n",
    "df['intersection'] = df['intersection'].apply(lambda x: 'not intersection' if x == 0 else ('intersection' if x == 1 else 'unknown'))"
   ]
  },
  {
   "cell_type": "code",
   "execution_count": 75,
   "id": "a3fff952",
   "metadata": {},
   "outputs": [
    {
     "data": {
      "image/png": "[encoded data removed]",
      "text/plain": [
       "<Figure size 576x360 with 1 Axes>"
      ]
     },
     "metadata": {
      "needs_background": "light"
     },
     "output_type": "display_data"
    }
   ],
   "source": [
    "visualize_cat('intersection')"
   ]
  },
  {
   "cell_type": "markdown",
   "id": "77b55367",
   "metadata": {},
   "source": [
    "Большинство аварий происходит не на перекрёстках."
   ]
  },
  {
   "cell_type": "markdown",
   "id": "5184a5cb",
   "metadata": {},
   "source": [
    "Т.к. мы в итоге решили использовать колонку `intersection`, `location_type` можно удалить."
   ]
  },
  {
   "cell_type": "code",
   "execution_count": 76,
   "id": "73b2999c",
   "metadata": {},
   "outputs": [],
   "source": [
    "df = df.drop('location_type', axis=1) "
   ]
  },
  {
   "cell_type": "markdown",
   "id": "b60f22df",
   "metadata": {},
   "source": [
    "#### collision_damage"
   ]
  },
  {
   "cell_type": "code",
   "execution_count": 77,
   "id": "80b48e47",
   "metadata": {},
   "outputs": [
    {
     "data": {
      "text/plain": [
       "array(['fatal', 'small damage', 'middle damage', 'severe damage'],\n",
       "      dtype=object)"
      ]
     },
     "execution_count": 77,
     "metadata": {},
     "output_type": "execute_result"
    }
   ],
   "source": [
    "df['collision_damage'].unique()"
   ]
  },
  {
   "cell_type": "code",
   "execution_count": 78,
   "id": "01cea251",
   "metadata": {},
   "outputs": [
    {
     "name": "stdout",
     "output_type": "stream",
     "text": [
      "Количество пропусков: 0\n",
      "\n",
      "Доля пропусков: 0.0 \n",
      "\n",
      "small damage     62445\n",
      "middle damage    41499\n",
      "severe damage     7482\n",
      "fatal             5845\n",
      "Name: collision_damage, dtype: int64\n"
     ]
    }
   ],
   "source": [
    "cat_info('collision_damage')"
   ]
  },
  {
   "cell_type": "code",
   "execution_count": 79,
   "id": "c27f132f",
   "metadata": {},
   "outputs": [
    {
     "data": {
      "image/png": "[encoded data removed]",
      "text/plain": [
       "<Figure size 576x360 with 1 Axes>"
      ]
     },
     "metadata": {
      "needs_background": "light"
     },
     "output_type": "display_data"
    }
   ],
   "source": [
    "visualize_cat('collision_damage')"
   ]
  },
  {
   "cell_type": "markdown",
   "id": "ab43f5c8",
   "metadata": {},
   "source": [
    "Радует, что в большинстве случаев исход аварии ограничивается небольшим повреждением."
   ]
  },
  {
   "cell_type": "markdown",
   "id": "b5f33d8b",
   "metadata": {},
   "source": [
    "#### pcf_violation_category"
   ]
  },
  {
   "cell_type": "code",
   "execution_count": 80,
   "id": "d3603db3",
   "metadata": {},
   "outputs": [
    {
     "data": {
      "text/plain": [
       "array(['dui', 'speeding', 'pedestrian violation', 'improper turning',\n",
       "       'automobile right of way', 'unsafe lane change',\n",
       "       'unsafe starting or backing', 'traffic signals and signs',\n",
       "       'wrong side of road', 'other than driver (or pedestrian)',\n",
       "       'following too closely', None, 'unknown',\n",
       "       'pedestrian right of way', 'improper passing', 'brakes',\n",
       "       'other equipment', 'other improper driving',\n",
       "       'other hazardous violation', 'lights', 'impeding traffic',\n",
       "       'hazardous parking', 'fell asleep'], dtype=object)"
      ]
     },
     "execution_count": 80,
     "metadata": {},
     "output_type": "execute_result"
    }
   ],
   "source": [
    "df['pcf_violation_category'].unique()"
   ]
  },
  {
   "cell_type": "code",
   "execution_count": 81,
   "id": "8150d3b4",
   "metadata": {},
   "outputs": [
    {
     "name": "stdout",
     "output_type": "stream",
     "text": [
      "Количество пропусков: 1720\n",
      "\n",
      "Доля пропусков: 0.014666882690520248 \n",
      "\n",
      "speeding                             41374\n",
      "automobile right of way              15421\n",
      "improper turning                     12852\n",
      "dui                                  10378\n",
      "unsafe lane change                   10237\n",
      "traffic signals and signs             7733\n",
      "wrong side of road                    3167\n",
      "unsafe starting or backing            2762\n",
      "following too closely                 2392\n",
      "unknown                               1974\n",
      "pedestrian violation                  1704\n",
      "other than driver (or pedestrian)     1635\n",
      "other hazardous violation             1172\n",
      "improper passing                      1010\n",
      "pedestrian right of way                988\n",
      "other improper driving                 432\n",
      "other equipment                        151\n",
      "impeding traffic                        80\n",
      "hazardous parking                       50\n",
      "brakes                                  20\n",
      "lights                                  16\n",
      "fell asleep                              3\n",
      "Name: pcf_violation_category, dtype: int64\n"
     ]
    }
   ],
   "source": [
    "cat_info('pcf_violation_category')"
   ]
  },
  {
   "cell_type": "markdown",
   "id": "896445f0",
   "metadata": {},
   "source": [
    "Заменим пропуски на `unknown`."
   ]
  },
  {
   "cell_type": "code",
   "execution_count": 82,
   "id": "52632a95",
   "metadata": {},
   "outputs": [],
   "source": [
    "df['pcf_violation_category'] = df['pcf_violation_category'].fillna('unknown') "
   ]
  },
  {
   "cell_type": "code",
   "execution_count": 83,
   "id": "bb2341a7",
   "metadata": {},
   "outputs": [
    {
     "data": {
      "image/png": "[encoded data removed]",
      "text/plain": [
       "<Figure size 576x360 with 1 Axes>"
      ]
     },
     "metadata": {
      "needs_background": "light"
     },
     "output_type": "display_data"
    }
   ],
   "source": [
    "visualize_cat('pcf_violation_category')"
   ]
  },
  {
   "cell_type": "markdown",
   "id": "60f867a1",
   "metadata": {},
   "source": [
    "В основном, аварии случаются из-за нарушений скоростного режима, правил приоритета проезда и правил совершения поворота. Однако, хорошо, что водители не спят за рулём."
   ]
  },
  {
   "cell_type": "markdown",
   "id": "d9c2f24c",
   "metadata": {},
   "source": [
    "#### type_of_collision"
   ]
  },
  {
   "cell_type": "code",
   "execution_count": 84,
   "id": "65aa99e9",
   "metadata": {},
   "outputs": [
    {
     "data": {
      "text/plain": [
       "array(['hit object', 'rear end', 'other', 'broadside', 'overturned', None,\n",
       "       'sideswipe', 'head-on'], dtype=object)"
      ]
     },
     "execution_count": 84,
     "metadata": {},
     "output_type": "execute_result"
    }
   ],
   "source": [
    "df['type_of_collision'].unique()"
   ]
  },
  {
   "cell_type": "code",
   "execution_count": 85,
   "id": "a0ebe67b",
   "metadata": {},
   "outputs": [
    {
     "name": "stdout",
     "output_type": "stream",
     "text": [
      "Количество пропусков: 640\n",
      "\n",
      "Доля пропусков: 0.0054574447220540456 \n",
      "\n",
      "rear end      45219\n",
      "broadside     26312\n",
      "sideswipe     19816\n",
      "hit object     9845\n",
      "head-on        6833\n",
      "other          6082\n",
      "overturned     2524\n",
      "Name: type_of_collision, dtype: int64\n"
     ]
    }
   ],
   "source": [
    "cat_info('type_of_collision')"
   ]
  },
  {
   "cell_type": "markdown",
   "id": "1daf1171",
   "metadata": {},
   "source": [
    "Пропусков немного - заменим на `other`."
   ]
  },
  {
   "cell_type": "code",
   "execution_count": 86,
   "id": "cdcc4cc9",
   "metadata": {},
   "outputs": [],
   "source": [
    "df['type_of_collision'] = df['type_of_collision'].fillna('other') "
   ]
  },
  {
   "cell_type": "code",
   "execution_count": 87,
   "id": "53422323",
   "metadata": {},
   "outputs": [
    {
     "data": {
      "image/png": "[encoded data removed]",
      "text/plain": [
       "<Figure size 576x360 with 1 Axes>"
      ]
     },
     "metadata": {
      "needs_background": "light"
     },
     "output_type": "display_data"
    }
   ],
   "source": [
    "visualize_cat('type_of_collision')"
   ]
  },
  {
   "cell_type": "markdown",
   "id": "4ed35d69",
   "metadata": {},
   "source": [
    "Машины чаще бьются боковой или задней частью - к счастью, лобовые столкновения и опрокидывания случаются не так часто."
   ]
  },
  {
   "cell_type": "markdown",
   "id": "12be1377",
   "metadata": {},
   "source": [
    "#### motor_vehicle_involved_with"
   ]
  },
  {
   "cell_type": "code",
   "execution_count": 88,
   "id": "253ac2c1",
   "metadata": {},
   "outputs": [
    {
     "data": {
      "text/plain": [
       "array(['fixed object', 'other motor vehicle', 'other object',\n",
       "       'non-collision', 'bicycle', 'animal', 'parked motor vehicle',\n",
       "       'motor vehicle on other roadway', None, 'train'], dtype=object)"
      ]
     },
     "execution_count": 88,
     "metadata": {},
     "output_type": "execute_result"
    }
   ],
   "source": [
    "df['motor_vehicle_involved_with'].unique() "
   ]
  },
  {
   "cell_type": "code",
   "execution_count": 89,
   "id": "db4f9f98",
   "metadata": {},
   "outputs": [
    {
     "name": "stdout",
     "output_type": "stream",
     "text": [
      "Количество пропусков: 332\n",
      "\n",
      "Доля пропусков: 0.0028310494495655363 \n",
      "\n",
      "other motor vehicle               93709\n",
      "fixed object                       9153\n",
      "other object                       5352\n",
      "bicycle                            2787\n",
      "non-collision                      2692\n",
      "parked motor vehicle               2067\n",
      "motor vehicle on other roadway      925\n",
      "animal                              225\n",
      "train                                29\n",
      "Name: motor_vehicle_involved_with, dtype: int64\n"
     ]
    }
   ],
   "source": [
    "cat_info('motor_vehicle_involved_with')"
   ]
  },
  {
   "cell_type": "code",
   "execution_count": 90,
   "id": "9587a913",
   "metadata": {},
   "outputs": [
    {
     "data": {
      "text/html": [
       "<div>\n",
       "<style scoped>\n",
       "    .dataframe tbody tr th:only-of-type {\n",
       "        vertical-align: middle;\n",
       "    }\n",
       "\n",
       "    .dataframe tbody tr th {\n",
       "        vertical-align: top;\n",
       "    }\n",
       "\n",
       "    .dataframe thead th {\n",
       "        text-align: right;\n",
       "    }\n",
       "</style>\n",
       "<table border=\"1\" class=\"dataframe\">\n",
       "  <thead>\n",
       "    <tr style=\"text-align: right;\">\n",
       "      <th></th>\n",
       "      <th>case_id</th>\n",
       "      <th>party_number</th>\n",
       "      <th>at_fault</th>\n",
       "      <th>party_sobriety</th>\n",
       "      <th>party_drug_physical</th>\n",
       "      <th>county_location</th>\n",
       "      <th>distance</th>\n",
       "      <th>intersection</th>\n",
       "      <th>weather</th>\n",
       "      <th>collision_damage</th>\n",
       "      <th>...</th>\n",
       "      <th>type_of_collision</th>\n",
       "      <th>motor_vehicle_involved_with</th>\n",
       "      <th>road_surface</th>\n",
       "      <th>road_condition_1</th>\n",
       "      <th>lighting</th>\n",
       "      <th>collision_date</th>\n",
       "      <th>collision_time</th>\n",
       "      <th>vehicle_type</th>\n",
       "      <th>vehicle_transmission</th>\n",
       "      <th>vehicle_age</th>\n",
       "    </tr>\n",
       "  </thead>\n",
       "  <tbody>\n",
       "    <tr>\n",
       "      <th>86415</th>\n",
       "      <td>5543911</td>\n",
       "      <td>2</td>\n",
       "      <td>0</td>\n",
       "      <td>had not been drinking</td>\n",
       "      <td>not under inflience</td>\n",
       "      <td>riverside</td>\n",
       "      <td>0.00</td>\n",
       "      <td>intersection</td>\n",
       "      <td>clear</td>\n",
       "      <td>middle damage</td>\n",
       "      <td>...</td>\n",
       "      <td>other</td>\n",
       "      <td>None</td>\n",
       "      <td>dry</td>\n",
       "      <td>normal</td>\n",
       "      <td>daylight</td>\n",
       "      <td>2012-02-21</td>\n",
       "      <td>17:39:00</td>\n",
       "      <td>sedan</td>\n",
       "      <td>auto</td>\n",
       "      <td>2.00</td>\n",
       "    </tr>\n",
       "    <tr>\n",
       "      <th>98060</th>\n",
       "      <td>5631863</td>\n",
       "      <td>2</td>\n",
       "      <td>0</td>\n",
       "      <td>had not been drinking</td>\n",
       "      <td>not under inflience</td>\n",
       "      <td>los angeles</td>\n",
       "      <td>1,584.00</td>\n",
       "      <td>not intersection</td>\n",
       "      <td>clear</td>\n",
       "      <td>small damage</td>\n",
       "      <td>...</td>\n",
       "      <td>rear end</td>\n",
       "      <td>None</td>\n",
       "      <td>dry</td>\n",
       "      <td>normal</td>\n",
       "      <td>daylight</td>\n",
       "      <td>2012-04-20</td>\n",
       "      <td>12:50:00</td>\n",
       "      <td>sedan</td>\n",
       "      <td>auto</td>\n",
       "      <td>3.00</td>\n",
       "    </tr>\n",
       "    <tr>\n",
       "      <th>1875</th>\n",
       "      <td>5543748</td>\n",
       "      <td>1</td>\n",
       "      <td>1</td>\n",
       "      <td>had not been drinking</td>\n",
       "      <td>not under inflience</td>\n",
       "      <td>orange</td>\n",
       "      <td>450.00</td>\n",
       "      <td>not intersection</td>\n",
       "      <td>clear</td>\n",
       "      <td>small damage</td>\n",
       "      <td>...</td>\n",
       "      <td>sideswipe</td>\n",
       "      <td>None</td>\n",
       "      <td>dry</td>\n",
       "      <td>normal</td>\n",
       "      <td>daylight</td>\n",
       "      <td>2012-02-23</td>\n",
       "      <td>13:34:00</td>\n",
       "      <td>sedan</td>\n",
       "      <td>manual</td>\n",
       "      <td>4.00</td>\n",
       "    </tr>\n",
       "    <tr>\n",
       "      <th>59002</th>\n",
       "      <td>5449824</td>\n",
       "      <td>1</td>\n",
       "      <td>0</td>\n",
       "      <td>impairment unknown</td>\n",
       "      <td>not under inflience</td>\n",
       "      <td>ventura</td>\n",
       "      <td>100.00</td>\n",
       "      <td>not intersection</td>\n",
       "      <td>other</td>\n",
       "      <td>small damage</td>\n",
       "      <td>...</td>\n",
       "      <td>other</td>\n",
       "      <td>None</td>\n",
       "      <td>None</td>\n",
       "      <td>None</td>\n",
       "      <td>None</td>\n",
       "      <td>2012-01-03</td>\n",
       "      <td>10:30:00</td>\n",
       "      <td>sedan</td>\n",
       "      <td>manual</td>\n",
       "      <td>5.00</td>\n",
       "    </tr>\n",
       "    <tr>\n",
       "      <th>103929</th>\n",
       "      <td>5456609</td>\n",
       "      <td>1</td>\n",
       "      <td>1</td>\n",
       "      <td>had not been drinking</td>\n",
       "      <td>not under inflience</td>\n",
       "      <td>napa</td>\n",
       "      <td>50.00</td>\n",
       "      <td>not intersection</td>\n",
       "      <td>clear</td>\n",
       "      <td>middle damage</td>\n",
       "      <td>...</td>\n",
       "      <td>overturned</td>\n",
       "      <td>None</td>\n",
       "      <td>dry</td>\n",
       "      <td>normal</td>\n",
       "      <td>dark with street lights</td>\n",
       "      <td>2012-01-15</td>\n",
       "      <td>18:20:00</td>\n",
       "      <td>coupe</td>\n",
       "      <td>manual</td>\n",
       "      <td>8.00</td>\n",
       "    </tr>\n",
       "    <tr>\n",
       "      <th>79168</th>\n",
       "      <td>5403171</td>\n",
       "      <td>1</td>\n",
       "      <td>1</td>\n",
       "      <td>had not been drinking</td>\n",
       "      <td>not under inflience</td>\n",
       "      <td>san joaquin</td>\n",
       "      <td>331.00</td>\n",
       "      <td>not intersection</td>\n",
       "      <td>clear</td>\n",
       "      <td>fatal</td>\n",
       "      <td>...</td>\n",
       "      <td>overturned</td>\n",
       "      <td>None</td>\n",
       "      <td>dry</td>\n",
       "      <td>normal</td>\n",
       "      <td>daylight</td>\n",
       "      <td>2012-01-29</td>\n",
       "      <td>15:30:00</td>\n",
       "      <td>sedan</td>\n",
       "      <td>auto</td>\n",
       "      <td>4.00</td>\n",
       "    </tr>\n",
       "    <tr>\n",
       "      <th>75079</th>\n",
       "      <td>5509876</td>\n",
       "      <td>1</td>\n",
       "      <td>1</td>\n",
       "      <td>had not been drinking</td>\n",
       "      <td>not under inflience</td>\n",
       "      <td>san joaquin</td>\n",
       "      <td>1,200.00</td>\n",
       "      <td>not intersection</td>\n",
       "      <td>clear</td>\n",
       "      <td>middle damage</td>\n",
       "      <td>...</td>\n",
       "      <td>other</td>\n",
       "      <td>None</td>\n",
       "      <td>dry</td>\n",
       "      <td>normal</td>\n",
       "      <td>dark with street lights</td>\n",
       "      <td>2012-02-15</td>\n",
       "      <td>18:15:00</td>\n",
       "      <td>coupe</td>\n",
       "      <td>manual</td>\n",
       "      <td>8.00</td>\n",
       "    </tr>\n",
       "    <tr>\n",
       "      <th>3386</th>\n",
       "      <td>5613277</td>\n",
       "      <td>1</td>\n",
       "      <td>1</td>\n",
       "      <td>impairment unknown</td>\n",
       "      <td>not under inflience</td>\n",
       "      <td>los angeles</td>\n",
       "      <td>0.00</td>\n",
       "      <td>intersection</td>\n",
       "      <td>raining</td>\n",
       "      <td>middle damage</td>\n",
       "      <td>...</td>\n",
       "      <td>sideswipe</td>\n",
       "      <td>None</td>\n",
       "      <td>wet</td>\n",
       "      <td>None</td>\n",
       "      <td>dark with street lights</td>\n",
       "      <td>2012-04-26</td>\n",
       "      <td>03:00:00</td>\n",
       "      <td>sedan</td>\n",
       "      <td>manual</td>\n",
       "      <td>3.00</td>\n",
       "    </tr>\n",
       "    <tr>\n",
       "      <th>24008</th>\n",
       "      <td>5631255</td>\n",
       "      <td>2</td>\n",
       "      <td>0</td>\n",
       "      <td>had not been drinking</td>\n",
       "      <td>not under inflience</td>\n",
       "      <td>kern</td>\n",
       "      <td>150.00</td>\n",
       "      <td>not intersection</td>\n",
       "      <td>clear</td>\n",
       "      <td>small damage</td>\n",
       "      <td>...</td>\n",
       "      <td>rear end</td>\n",
       "      <td>None</td>\n",
       "      <td>dry</td>\n",
       "      <td>normal</td>\n",
       "      <td>daylight</td>\n",
       "      <td>2012-05-25</td>\n",
       "      <td>16:06:00</td>\n",
       "      <td>sedan</td>\n",
       "      <td>auto</td>\n",
       "      <td>4.00</td>\n",
       "    </tr>\n",
       "    <tr>\n",
       "      <th>68575</th>\n",
       "      <td>5663680</td>\n",
       "      <td>1</td>\n",
       "      <td>0</td>\n",
       "      <td>had not been drinking</td>\n",
       "      <td>not under inflience</td>\n",
       "      <td>los angeles</td>\n",
       "      <td>0.00</td>\n",
       "      <td>unknown</td>\n",
       "      <td>clear</td>\n",
       "      <td>middle damage</td>\n",
       "      <td>...</td>\n",
       "      <td>other</td>\n",
       "      <td>None</td>\n",
       "      <td>dry</td>\n",
       "      <td>normal</td>\n",
       "      <td>daylight</td>\n",
       "      <td>2012-06-01</td>\n",
       "      <td>11:05:00</td>\n",
       "      <td>hatchback</td>\n",
       "      <td>auto</td>\n",
       "      <td>3.00</td>\n",
       "    </tr>\n",
       "  </tbody>\n",
       "</table>\n",
       "<p>10 rows × 22 columns</p>\n",
       "</div>"
      ],
      "text/plain": [
       "        case_id  party_number  at_fault         party_sobriety  \\\n",
       "86415   5543911             2         0  had not been drinking   \n",
       "98060   5631863             2         0  had not been drinking   \n",
       "1875    5543748             1         1  had not been drinking   \n",
       "59002   5449824             1         0     impairment unknown   \n",
       "103929  5456609             1         1  had not been drinking   \n",
       "79168   5403171             1         1  had not been drinking   \n",
       "75079   5509876             1         1  had not been drinking   \n",
       "3386    5613277             1         1     impairment unknown   \n",
       "24008   5631255             2         0  had not been drinking   \n",
       "68575   5663680             1         0  had not been drinking   \n",
       "\n",
       "        party_drug_physical county_location             distance  \\\n",
       "86415   not under inflience       riverside                 0.00   \n",
       "98060   not under inflience     los angeles             1,584.00   \n",
       "1875    not under inflience          orange               450.00   \n",
       "59002   not under inflience         ventura               100.00   \n",
       "103929  not under inflience            napa                50.00   \n",
       "79168   not under inflience     san joaquin               331.00   \n",
       "75079   not under inflience     san joaquin             1,200.00   \n",
       "3386    not under inflience     los angeles                 0.00   \n",
       "24008   not under inflience            kern               150.00   \n",
       "68575   not under inflience     los angeles                 0.00   \n",
       "\n",
       "            intersection  weather collision_damage  ...  type_of_collision  \\\n",
       "86415       intersection    clear    middle damage  ...              other   \n",
       "98060   not intersection    clear     small damage  ...           rear end   \n",
       "1875    not intersection    clear     small damage  ...          sideswipe   \n",
       "59002   not intersection    other     small damage  ...              other   \n",
       "103929  not intersection    clear    middle damage  ...         overturned   \n",
       "79168   not intersection    clear            fatal  ...         overturned   \n",
       "75079   not intersection    clear    middle damage  ...              other   \n",
       "3386        intersection  raining    middle damage  ...          sideswipe   \n",
       "24008   not intersection    clear     small damage  ...           rear end   \n",
       "68575            unknown    clear    middle damage  ...              other   \n",
       "\n",
       "       motor_vehicle_involved_with road_surface road_condition_1  \\\n",
       "86415                         None          dry           normal   \n",
       "98060                         None          dry           normal   \n",
       "1875                          None          dry           normal   \n",
       "59002                         None         None             None   \n",
       "103929                        None          dry           normal   \n",
       "79168                         None          dry           normal   \n",
       "75079                         None          dry           normal   \n",
       "3386                          None          wet             None   \n",
       "24008                         None          dry           normal   \n",
       "68575                         None          dry           normal   \n",
       "\n",
       "                       lighting collision_date collision_time vehicle_type  \\\n",
       "86415                  daylight     2012-02-21       17:39:00        sedan   \n",
       "98060                  daylight     2012-04-20       12:50:00        sedan   \n",
       "1875                   daylight     2012-02-23       13:34:00        sedan   \n",
       "59002                      None     2012-01-03       10:30:00        sedan   \n",
       "103929  dark with street lights     2012-01-15       18:20:00        coupe   \n",
       "79168                  daylight     2012-01-29       15:30:00        sedan   \n",
       "75079   dark with street lights     2012-02-15       18:15:00        coupe   \n",
       "3386    dark with street lights     2012-04-26       03:00:00        sedan   \n",
       "24008                  daylight     2012-05-25       16:06:00        sedan   \n",
       "68575                  daylight     2012-06-01       11:05:00    hatchback   \n",
       "\n",
       "       vehicle_transmission          vehicle_age  \n",
       "86415                  auto                 2.00  \n",
       "98060                  auto                 3.00  \n",
       "1875                 manual                 4.00  \n",
       "59002                manual                 5.00  \n",
       "103929               manual                 8.00  \n",
       "79168                  auto                 4.00  \n",
       "75079                manual                 8.00  \n",
       "3386                 manual                 3.00  \n",
       "24008                  auto                 4.00  \n",
       "68575                  auto                 3.00  \n",
       "\n",
       "[10 rows x 22 columns]"
      ]
     },
     "execution_count": 90,
     "metadata": {},
     "output_type": "execute_result"
    }
   ],
   "source": [
    "df[df['motor_vehicle_involved_with'].isna()].sample(10)"
   ]
  },
  {
   "cell_type": "markdown",
   "id": "d319032d",
   "metadata": {},
   "source": [
    "Судя по имеющимся пропускам, наиболее подходящим значением для большинства из них будет `other motor vehicle`."
   ]
  },
  {
   "cell_type": "code",
   "execution_count": 91,
   "id": "45d79b12",
   "metadata": {},
   "outputs": [],
   "source": [
    "df['motor_vehicle_involved_with'] = df['motor_vehicle_involved_with'].fillna('other motor vehicle') "
   ]
  },
  {
   "cell_type": "code",
   "execution_count": 92,
   "id": "3803d1fb",
   "metadata": {},
   "outputs": [
    {
     "data": {
      "image/png": "[encoded data removed]",
      "text/plain": [
       "<Figure size 576x360 with 1 Axes>"
      ]
     },
     "metadata": {
      "needs_background": "light"
     },
     "output_type": "display_data"
    }
   ],
   "source": [
    "visualize_cat('motor_vehicle_involved_with')"
   ]
  },
  {
   "cell_type": "markdown",
   "id": "56e23012",
   "metadata": {},
   "source": [
    "По совместительству это и есть самое распространённое значение - машины чаще всего сталкиваются друг с другом, а не с недвижимыми объектами. "
   ]
  },
  {
   "cell_type": "markdown",
   "id": "586cae35",
   "metadata": {},
   "source": [
    "#### road_surface"
   ]
  },
  {
   "cell_type": "code",
   "execution_count": 93,
   "id": "5158d979",
   "metadata": {},
   "outputs": [
    {
     "data": {
      "text/plain": [
       "array(['dry', 'wet', 'snowy', None, 'slippery'], dtype=object)"
      ]
     },
     "execution_count": 93,
     "metadata": {},
     "output_type": "execute_result"
    }
   ],
   "source": [
    "df['road_surface'].unique()"
   ]
  },
  {
   "cell_type": "code",
   "execution_count": 94,
   "id": "e9c7d4be",
   "metadata": {},
   "outputs": [
    {
     "name": "stdout",
     "output_type": "stream",
     "text": [
      "Количество пропусков: 761\n",
      "\n",
      "Доля пропусков: 0.006489242864817389 \n",
      "\n",
      "dry         105954\n",
      "wet           9971\n",
      "snowy          515\n",
      "slippery        70\n",
      "Name: road_surface, dtype: int64\n"
     ]
    }
   ],
   "source": [
    "cat_info('road_surface')"
   ]
  },
  {
   "cell_type": "code",
   "execution_count": 95,
   "id": "b81c10a7",
   "metadata": {},
   "outputs": [
    {
     "data": {
      "text/html": [
       "<div>\n",
       "<style scoped>\n",
       "    .dataframe tbody tr th:only-of-type {\n",
       "        vertical-align: middle;\n",
       "    }\n",
       "\n",
       "    .dataframe tbody tr th {\n",
       "        vertical-align: top;\n",
       "    }\n",
       "\n",
       "    .dataframe thead th {\n",
       "        text-align: right;\n",
       "    }\n",
       "</style>\n",
       "<table border=\"1\" class=\"dataframe\">\n",
       "  <thead>\n",
       "    <tr style=\"text-align: right;\">\n",
       "      <th></th>\n",
       "      <th>case_id</th>\n",
       "      <th>party_number</th>\n",
       "      <th>at_fault</th>\n",
       "      <th>party_sobriety</th>\n",
       "      <th>party_drug_physical</th>\n",
       "      <th>county_location</th>\n",
       "      <th>distance</th>\n",
       "      <th>intersection</th>\n",
       "      <th>weather</th>\n",
       "      <th>collision_damage</th>\n",
       "      <th>...</th>\n",
       "      <th>type_of_collision</th>\n",
       "      <th>motor_vehicle_involved_with</th>\n",
       "      <th>road_surface</th>\n",
       "      <th>road_condition_1</th>\n",
       "      <th>lighting</th>\n",
       "      <th>collision_date</th>\n",
       "      <th>collision_time</th>\n",
       "      <th>vehicle_type</th>\n",
       "      <th>vehicle_transmission</th>\n",
       "      <th>vehicle_age</th>\n",
       "    </tr>\n",
       "  </thead>\n",
       "  <tbody>\n",
       "    <tr>\n",
       "      <th>28068</th>\n",
       "      <td>5613161</td>\n",
       "      <td>2</td>\n",
       "      <td>0</td>\n",
       "      <td>had not been drinking</td>\n",
       "      <td>not under inflience</td>\n",
       "      <td>los angeles</td>\n",
       "      <td>52.00</td>\n",
       "      <td>not intersection</td>\n",
       "      <td>clear</td>\n",
       "      <td>small damage</td>\n",
       "      <td>...</td>\n",
       "      <td>rear end</td>\n",
       "      <td>other motor vehicle</td>\n",
       "      <td>None</td>\n",
       "      <td>normal</td>\n",
       "      <td>dark with street lights</td>\n",
       "      <td>2012-04-10</td>\n",
       "      <td>23:15:00</td>\n",
       "      <td>sedan</td>\n",
       "      <td>auto</td>\n",
       "      <td>4.00</td>\n",
       "    </tr>\n",
       "    <tr>\n",
       "      <th>44798</th>\n",
       "      <td>5506119</td>\n",
       "      <td>1</td>\n",
       "      <td>0</td>\n",
       "      <td>impairment unknown</td>\n",
       "      <td>under influence</td>\n",
       "      <td>los angeles</td>\n",
       "      <td>200.00</td>\n",
       "      <td>not intersection</td>\n",
       "      <td>clear</td>\n",
       "      <td>middle damage</td>\n",
       "      <td>...</td>\n",
       "      <td>other</td>\n",
       "      <td>non-collision</td>\n",
       "      <td>None</td>\n",
       "      <td>normal</td>\n",
       "      <td>dark with street lights</td>\n",
       "      <td>2012-01-13</td>\n",
       "      <td>17:45:00</td>\n",
       "      <td>coupe</td>\n",
       "      <td>manual</td>\n",
       "      <td>3.00</td>\n",
       "    </tr>\n",
       "    <tr>\n",
       "      <th>9779</th>\n",
       "      <td>5467483</td>\n",
       "      <td>1</td>\n",
       "      <td>1</td>\n",
       "      <td>impairment unknown</td>\n",
       "      <td>under influence</td>\n",
       "      <td>orange</td>\n",
       "      <td>2,640.00</td>\n",
       "      <td>not intersection</td>\n",
       "      <td>clear</td>\n",
       "      <td>small damage</td>\n",
       "      <td>...</td>\n",
       "      <td>rear end</td>\n",
       "      <td>other motor vehicle</td>\n",
       "      <td>None</td>\n",
       "      <td>other</td>\n",
       "      <td>dark with no street lights</td>\n",
       "      <td>2012-01-13</td>\n",
       "      <td>17:44:00</td>\n",
       "      <td>sedan</td>\n",
       "      <td>auto</td>\n",
       "      <td>4.00</td>\n",
       "    </tr>\n",
       "    <tr>\n",
       "      <th>87180</th>\n",
       "      <td>5583200</td>\n",
       "      <td>2</td>\n",
       "      <td>0</td>\n",
       "      <td>had not been drinking</td>\n",
       "      <td>not under inflience</td>\n",
       "      <td>los angeles</td>\n",
       "      <td>15.00</td>\n",
       "      <td>not intersection</td>\n",
       "      <td>other</td>\n",
       "      <td>small damage</td>\n",
       "      <td>...</td>\n",
       "      <td>rear end</td>\n",
       "      <td>other motor vehicle</td>\n",
       "      <td>None</td>\n",
       "      <td>None</td>\n",
       "      <td>None</td>\n",
       "      <td>2012-03-10</td>\n",
       "      <td>17:00:00</td>\n",
       "      <td>sedan</td>\n",
       "      <td>manual</td>\n",
       "      <td>0.00</td>\n",
       "    </tr>\n",
       "    <tr>\n",
       "      <th>31076</th>\n",
       "      <td>5540674</td>\n",
       "      <td>2</td>\n",
       "      <td>0</td>\n",
       "      <td>had not been drinking</td>\n",
       "      <td>not under inflience</td>\n",
       "      <td>orange</td>\n",
       "      <td>193.00</td>\n",
       "      <td>not intersection</td>\n",
       "      <td>clear</td>\n",
       "      <td>middle damage</td>\n",
       "      <td>...</td>\n",
       "      <td>rear end</td>\n",
       "      <td>other motor vehicle</td>\n",
       "      <td>None</td>\n",
       "      <td>holes</td>\n",
       "      <td>daylight</td>\n",
       "      <td>2012-03-03</td>\n",
       "      <td>14:09:00</td>\n",
       "      <td>sedan</td>\n",
       "      <td>auto</td>\n",
       "      <td>2.00</td>\n",
       "    </tr>\n",
       "    <tr>\n",
       "      <th>62708</th>\n",
       "      <td>5610933</td>\n",
       "      <td>2</td>\n",
       "      <td>0</td>\n",
       "      <td>had not been drinking</td>\n",
       "      <td>not under inflience</td>\n",
       "      <td>los angeles</td>\n",
       "      <td>150.00</td>\n",
       "      <td>not intersection</td>\n",
       "      <td>clear</td>\n",
       "      <td>small damage</td>\n",
       "      <td>...</td>\n",
       "      <td>rear end</td>\n",
       "      <td>other motor vehicle</td>\n",
       "      <td>None</td>\n",
       "      <td>normal</td>\n",
       "      <td>daylight</td>\n",
       "      <td>2012-04-06</td>\n",
       "      <td>14:00:00</td>\n",
       "      <td>sedan</td>\n",
       "      <td>auto</td>\n",
       "      <td>11.00</td>\n",
       "    </tr>\n",
       "    <tr>\n",
       "      <th>11569</th>\n",
       "      <td>5545461</td>\n",
       "      <td>2</td>\n",
       "      <td>0</td>\n",
       "      <td>had not been drinking</td>\n",
       "      <td>not under inflience</td>\n",
       "      <td>los angeles</td>\n",
       "      <td>76.00</td>\n",
       "      <td>not intersection</td>\n",
       "      <td>clear</td>\n",
       "      <td>middle damage</td>\n",
       "      <td>...</td>\n",
       "      <td>rear end</td>\n",
       "      <td>other motor vehicle</td>\n",
       "      <td>None</td>\n",
       "      <td>normal</td>\n",
       "      <td>daylight</td>\n",
       "      <td>2012-02-26</td>\n",
       "      <td>10:30:00</td>\n",
       "      <td>sedan</td>\n",
       "      <td>auto</td>\n",
       "      <td>2.00</td>\n",
       "    </tr>\n",
       "    <tr>\n",
       "      <th>77962</th>\n",
       "      <td>5619032</td>\n",
       "      <td>1</td>\n",
       "      <td>1</td>\n",
       "      <td>had been drinking</td>\n",
       "      <td>not under inflience</td>\n",
       "      <td>alameda</td>\n",
       "      <td>285.00</td>\n",
       "      <td>not intersection</td>\n",
       "      <td>clear</td>\n",
       "      <td>middle damage</td>\n",
       "      <td>...</td>\n",
       "      <td>hit object</td>\n",
       "      <td>fixed object</td>\n",
       "      <td>None</td>\n",
       "      <td>holes</td>\n",
       "      <td>daylight</td>\n",
       "      <td>2012-05-12</td>\n",
       "      <td>16:26:00</td>\n",
       "      <td>coupe</td>\n",
       "      <td>manual</td>\n",
       "      <td>3.00</td>\n",
       "    </tr>\n",
       "    <tr>\n",
       "      <th>71279</th>\n",
       "      <td>5556784</td>\n",
       "      <td>2</td>\n",
       "      <td>0</td>\n",
       "      <td>had not been drinking</td>\n",
       "      <td>not under inflience</td>\n",
       "      <td>ventura</td>\n",
       "      <td>3,696.00</td>\n",
       "      <td>not intersection</td>\n",
       "      <td>clear</td>\n",
       "      <td>small damage</td>\n",
       "      <td>...</td>\n",
       "      <td>rear end</td>\n",
       "      <td>other motor vehicle</td>\n",
       "      <td>None</td>\n",
       "      <td>construction</td>\n",
       "      <td>dark with no street lights</td>\n",
       "      <td>2012-03-19</td>\n",
       "      <td>20:06:00</td>\n",
       "      <td>sedan</td>\n",
       "      <td>manual</td>\n",
       "      <td>0.00</td>\n",
       "    </tr>\n",
       "    <tr>\n",
       "      <th>99468</th>\n",
       "      <td>5486323</td>\n",
       "      <td>1</td>\n",
       "      <td>1</td>\n",
       "      <td>impairment unknown</td>\n",
       "      <td>under influence</td>\n",
       "      <td>los angeles</td>\n",
       "      <td>500.00</td>\n",
       "      <td>not intersection</td>\n",
       "      <td>clear</td>\n",
       "      <td>small damage</td>\n",
       "      <td>...</td>\n",
       "      <td>broadside</td>\n",
       "      <td>parked motor vehicle</td>\n",
       "      <td>None</td>\n",
       "      <td>normal</td>\n",
       "      <td>daylight</td>\n",
       "      <td>2012-02-14</td>\n",
       "      <td>12:45:00</td>\n",
       "      <td>sedan</td>\n",
       "      <td>auto</td>\n",
       "      <td>4.00</td>\n",
       "    </tr>\n",
       "  </tbody>\n",
       "</table>\n",
       "<p>10 rows × 22 columns</p>\n",
       "</div>"
      ],
      "text/plain": [
       "       case_id  party_number  at_fault         party_sobriety  \\\n",
       "28068  5613161             2         0  had not been drinking   \n",
       "44798  5506119             1         0     impairment unknown   \n",
       "9779   5467483             1         1     impairment unknown   \n",
       "87180  5583200             2         0  had not been drinking   \n",
       "31076  5540674             2         0  had not been drinking   \n",
       "62708  5610933             2         0  had not been drinking   \n",
       "11569  5545461             2         0  had not been drinking   \n",
       "77962  5619032             1         1      had been drinking   \n",
       "71279  5556784             2         0  had not been drinking   \n",
       "99468  5486323             1         1     impairment unknown   \n",
       "\n",
       "       party_drug_physical county_location             distance  \\\n",
       "28068  not under inflience     los angeles                52.00   \n",
       "44798      under influence     los angeles               200.00   \n",
       "9779       under influence          orange             2,640.00   \n",
       "87180  not under inflience     los angeles                15.00   \n",
       "31076  not under inflience          orange               193.00   \n",
       "62708  not under inflience     los angeles               150.00   \n",
       "11569  not under inflience     los angeles                76.00   \n",
       "77962  not under inflience         alameda               285.00   \n",
       "71279  not under inflience         ventura             3,696.00   \n",
       "99468      under influence     los angeles               500.00   \n",
       "\n",
       "           intersection weather collision_damage  ...  type_of_collision  \\\n",
       "28068  not intersection   clear     small damage  ...           rear end   \n",
       "44798  not intersection   clear    middle damage  ...              other   \n",
       "9779   not intersection   clear     small damage  ...           rear end   \n",
       "87180  not intersection   other     small damage  ...           rear end   \n",
       "31076  not intersection   clear    middle damage  ...           rear end   \n",
       "62708  not intersection   clear     small damage  ...           rear end   \n",
       "11569  not intersection   clear    middle damage  ...           rear end   \n",
       "77962  not intersection   clear    middle damage  ...         hit object   \n",
       "71279  not intersection   clear     small damage  ...           rear end   \n",
       "99468  not intersection   clear     small damage  ...          broadside   \n",
       "\n",
       "      motor_vehicle_involved_with road_surface road_condition_1  \\\n",
       "28068         other motor vehicle         None           normal   \n",
       "44798               non-collision         None           normal   \n",
       "9779          other motor vehicle         None            other   \n",
       "87180         other motor vehicle         None             None   \n",
       "31076         other motor vehicle         None            holes   \n",
       "62708         other motor vehicle         None           normal   \n",
       "11569         other motor vehicle         None           normal   \n",
       "77962                fixed object         None            holes   \n",
       "71279         other motor vehicle         None     construction   \n",
       "99468        parked motor vehicle         None           normal   \n",
       "\n",
       "                         lighting collision_date collision_time vehicle_type  \\\n",
       "28068     dark with street lights     2012-04-10       23:15:00        sedan   \n",
       "44798     dark with street lights     2012-01-13       17:45:00        coupe   \n",
       "9779   dark with no street lights     2012-01-13       17:44:00        sedan   \n",
       "87180                        None     2012-03-10       17:00:00        sedan   \n",
       "31076                    daylight     2012-03-03       14:09:00        sedan   \n",
       "62708                    daylight     2012-04-06       14:00:00        sedan   \n",
       "11569                    daylight     2012-02-26       10:30:00        sedan   \n",
       "77962                    daylight     2012-05-12       16:26:00        coupe   \n",
       "71279  dark with no street lights     2012-03-19       20:06:00        sedan   \n",
       "99468                    daylight     2012-02-14       12:45:00        sedan   \n",
       "\n",
       "      vehicle_transmission          vehicle_age  \n",
       "28068                 auto                 4.00  \n",
       "44798               manual                 3.00  \n",
       "9779                  auto                 4.00  \n",
       "87180               manual                 0.00  \n",
       "31076                 auto                 2.00  \n",
       "62708                 auto                11.00  \n",
       "11569                 auto                 2.00  \n",
       "77962               manual                 3.00  \n",
       "71279               manual                 0.00  \n",
       "99468                 auto                 4.00  \n",
       "\n",
       "[10 rows x 22 columns]"
      ]
     },
     "execution_count": 95,
     "metadata": {},
     "output_type": "execute_result"
    }
   ],
   "source": [
    "df[df['road_surface'].isna()].sample(10)"
   ]
  },
  {
   "cell_type": "markdown",
   "id": "3fae7fb4",
   "metadata": {},
   "source": [
    "В основном, у пропущенных значений хорошая погода, значит, можно предположить, что дорога будет сухая."
   ]
  },
  {
   "cell_type": "code",
   "execution_count": 96,
   "id": "514c4348",
   "metadata": {},
   "outputs": [],
   "source": [
    "df['road_surface'] = df['road_surface'].fillna('dry')"
   ]
  },
  {
   "cell_type": "code",
   "execution_count": 97,
   "id": "7ed51b33",
   "metadata": {},
   "outputs": [
    {
     "data": {
      "image/png": "[encoded data removed]",
      "text/plain": [
       "<Figure size 576x360 with 1 Axes>"
      ]
     },
     "metadata": {
      "needs_background": "light"
     },
     "output_type": "display_data"
    }
   ],
   "source": [
    "visualize_cat('road_surface')"
   ]
  },
  {
   "cell_type": "markdown",
   "id": "68720968",
   "metadata": {},
   "source": [
    "Как и, собственно, в подавляющем большинстве случаев вообще."
   ]
  },
  {
   "cell_type": "markdown",
   "id": "2af94e75",
   "metadata": {},
   "source": [
    "#### road_condition"
   ]
  },
  {
   "cell_type": "code",
   "execution_count": 98,
   "id": "d01574ee",
   "metadata": {},
   "outputs": [],
   "source": [
    "df = df.rename(columns={'road_condition_1': 'road_condition'})"
   ]
  },
  {
   "cell_type": "code",
   "execution_count": 99,
   "id": "9025fa1e",
   "metadata": {},
   "outputs": [
    {
     "data": {
      "text/plain": [
       "array(['loose material', 'normal', 'obstruction', 'other', 'construction',\n",
       "       None, 'holes', 'reduced width', 'flooded'], dtype=object)"
      ]
     },
     "execution_count": 99,
     "metadata": {},
     "output_type": "execute_result"
    }
   ],
   "source": [
    "df['road_condition'].unique()"
   ]
  },
  {
   "cell_type": "code",
   "execution_count": 100,
   "id": "4eac2eb0",
   "metadata": {},
   "outputs": [
    {
     "name": "stdout",
     "output_type": "stream",
     "text": [
      "Количество пропусков: 568\n",
      "\n",
      "Доля пропусков: 0.004843482190822966 \n",
      "\n",
      "normal            112757\n",
      "construction        2261\n",
      "holes                469\n",
      "obstruction          444\n",
      "other                414\n",
      "loose material       175\n",
      "reduced width        127\n",
      "flooded               56\n",
      "Name: road_condition, dtype: int64\n"
     ]
    }
   ],
   "source": [
    "cat_info('road_condition')"
   ]
  },
  {
   "cell_type": "code",
   "execution_count": 101,
   "id": "9c2ee161",
   "metadata": {},
   "outputs": [],
   "source": [
    "df['road_condition'] = df['road_condition'].fillna('other')"
   ]
  },
  {
   "cell_type": "code",
   "execution_count": 102,
   "id": "1cf8c9a3",
   "metadata": {},
   "outputs": [
    {
     "data": {
      "image/png": "[encoded data removed]",
      "text/plain": [
       "<Figure size 576x360 with 1 Axes>"
      ]
     },
     "metadata": {
      "needs_background": "light"
     },
     "output_type": "display_data"
    }
   ],
   "source": [
    "visualize_cat('road_condition')"
   ]
  },
  {
   "cell_type": "markdown",
   "id": "91bfd314",
   "metadata": {},
   "source": [
    "Чтобы немного уменьшить сильный перевес, можно перевести признак в бинарный."
   ]
  },
  {
   "cell_type": "code",
   "execution_count": 103,
   "id": "f5405c41",
   "metadata": {},
   "outputs": [],
   "source": [
    "df['road_condition'] = df['road_condition'].where(df['road_condition'] == 'normal', other='not normal') "
   ]
  },
  {
   "cell_type": "code",
   "execution_count": 104,
   "id": "e0b46694",
   "metadata": {},
   "outputs": [
    {
     "data": {
      "image/png": "[encoded data removed]",
      "text/plain": [
       "<Figure size 576x360 with 1 Axes>"
      ]
     },
     "metadata": {
      "needs_background": "light"
     },
     "output_type": "display_data"
    }
   ],
   "source": [
    "visualize_cat('road_condition')"
   ]
  },
  {
   "cell_type": "markdown",
   "id": "09ce7d21",
   "metadata": {},
   "source": [
    "#### lighting"
   ]
  },
  {
   "cell_type": "code",
   "execution_count": 105,
   "id": "f90cbd1a",
   "metadata": {},
   "outputs": [
    {
     "data": {
      "text/plain": [
       "array(['dark with street lights', 'daylight',\n",
       "       'dark with no street lights', 'dusk or dawn', None,\n",
       "       'dark with street lights not functioning'], dtype=object)"
      ]
     },
     "execution_count": 105,
     "metadata": {},
     "output_type": "execute_result"
    }
   ],
   "source": [
    "df['lighting'].unique() "
   ]
  },
  {
   "cell_type": "code",
   "execution_count": 106,
   "id": "53ee3886",
   "metadata": {},
   "outputs": [
    {
     "name": "stdout",
     "output_type": "stream",
     "text": [
      "Количество пропусков: 329\n",
      "\n",
      "Доля пропусков: 0.002805467677430908 \n",
      "\n",
      "daylight                                   82183\n",
      "dark with street lights                    22030\n",
      "dark with no street lights                  8765\n",
      "dusk or dawn                                3677\n",
      "dark with street lights not functioning      287\n",
      "Name: lighting, dtype: int64\n"
     ]
    }
   ],
   "source": [
    "cat_info('lighting')"
   ]
  },
  {
   "cell_type": "markdown",
   "id": "d03ec8c7",
   "metadata": {},
   "source": [
    "Пропуски можно заменить самым распространённым значением, а две похожих категории объединить."
   ]
  },
  {
   "cell_type": "code",
   "execution_count": 107,
   "id": "4951180a",
   "metadata": {},
   "outputs": [],
   "source": [
    "df['lighting'] = df['lighting'].replace({'dark with street lights not functioning': 'dark with no street lights'})\n",
    "df['lighting'] = df['lighting'].fillna('daylight')"
   ]
  },
  {
   "cell_type": "code",
   "execution_count": 108,
   "id": "651f05f3",
   "metadata": {},
   "outputs": [
    {
     "data": {
      "image/png": "[encoded data removed]",
      "text/plain": [
       "<Figure size 576x360 with 1 Axes>"
      ]
     },
     "metadata": {
      "needs_background": "light"
     },
     "output_type": "display_data"
    }
   ],
   "source": [
    "visualize_cat('lighting')"
   ]
  },
  {
   "cell_type": "markdown",
   "id": "f5c316cf",
   "metadata": {},
   "source": [
    "Редко такое бывает, что совсем нет освещения."
   ]
  },
  {
   "cell_type": "markdown",
   "id": "6bc42896",
   "metadata": {},
   "source": [
    "#### vehicle_type"
   ]
  },
  {
   "cell_type": "code",
   "execution_count": 109,
   "id": "c3757e96",
   "metadata": {},
   "outputs": [
    {
     "data": {
      "text/plain": [
       "array(['sedan', 'hatchback', 'coupe', 'minivan', 'other'], dtype=object)"
      ]
     },
     "execution_count": 109,
     "metadata": {},
     "output_type": "execute_result"
    }
   ],
   "source": [
    "df['vehicle_type'].unique()"
   ]
  },
  {
   "cell_type": "code",
   "execution_count": 110,
   "id": "92d940c3",
   "metadata": {},
   "outputs": [
    {
     "name": "stdout",
     "output_type": "stream",
     "text": [
      "Количество пропусков: 0\n",
      "\n",
      "Доля пропусков: 0.0 \n",
      "\n",
      "sedan        76086\n",
      "coupe        35412\n",
      "hatchback     3282\n",
      "minivan       2433\n",
      "other           58\n",
      "Name: vehicle_type, dtype: int64\n"
     ]
    }
   ],
   "source": [
    "cat_info('vehicle_type')"
   ]
  },
  {
   "cell_type": "code",
   "execution_count": 111,
   "id": "6082c1eb",
   "metadata": {},
   "outputs": [
    {
     "data": {
      "image/png": "[encoded data removed]",
      "text/plain": [
       "<Figure size 576x360 with 1 Axes>"
      ]
     },
     "metadata": {
      "needs_background": "light"
     },
     "output_type": "display_data"
    }
   ],
   "source": [
    "visualize_cat('vehicle_type')"
   ]
  },
  {
   "cell_type": "markdown",
   "id": "b8b0e540",
   "metadata": {},
   "source": [
    "Седанов наверное в принципе в автопарке больше всего."
   ]
  },
  {
   "cell_type": "markdown",
   "id": "e3ff8f55",
   "metadata": {},
   "source": [
    "#### vehicle_transmission"
   ]
  },
  {
   "cell_type": "code",
   "execution_count": 112,
   "id": "f2a249f8",
   "metadata": {},
   "outputs": [
    {
     "data": {
      "text/plain": [
       "array(['manual', 'auto', None], dtype=object)"
      ]
     },
     "execution_count": 112,
     "metadata": {},
     "output_type": "execute_result"
    }
   ],
   "source": [
    "df['vehicle_transmission'].unique()"
   ]
  },
  {
   "cell_type": "code",
   "execution_count": 113,
   "id": "ec0efb5b",
   "metadata": {},
   "outputs": [
    {
     "name": "stdout",
     "output_type": "stream",
     "text": [
      "Количество пропусков: 1857\n",
      "\n",
      "Доля пропусков: 0.01583511695133494 \n",
      "\n",
      "manual    60247\n",
      "auto      55167\n",
      "Name: vehicle_transmission, dtype: int64\n"
     ]
    }
   ],
   "source": [
    "cat_info('vehicle_transmission')"
   ]
  },
  {
   "cell_type": "markdown",
   "id": "eec0be1e",
   "metadata": {},
   "source": [
    "Значений примерно одинаково, да и в принципе влияние КПП на аварийность сомнительно. Колонку можно удалить."
   ]
  },
  {
   "cell_type": "code",
   "execution_count": 114,
   "id": "9b067485",
   "metadata": {},
   "outputs": [],
   "source": [
    "df = df.drop('vehicle_transmission', axis=1) "
   ]
  },
  {
   "cell_type": "markdown",
   "id": "50e6e9e0",
   "metadata": {},
   "source": [
    "#### collision_time"
   ]
  },
  {
   "cell_type": "markdown",
   "id": "904a3c9d",
   "metadata": {},
   "source": [
    "Дата происшествия вряд ли поможет в оценке аварийности маршрута, а вот время может быть полезно."
   ]
  },
  {
   "cell_type": "code",
   "execution_count": 115,
   "id": "8deeee6d",
   "metadata": {},
   "outputs": [],
   "source": [
    "df = df.drop('collision_date', axis=1)"
   ]
  },
  {
   "cell_type": "code",
   "execution_count": 116,
   "id": "80cb4265",
   "metadata": {},
   "outputs": [
    {
     "name": "stdout",
     "output_type": "stream",
     "text": [
      "Количество пропусков: 123\n",
      "\n",
      "Доля пропусков: 0.001048852657519762 \n",
      "\n",
      "15:00:00    926\n",
      "15:30:00    799\n",
      "16:00:00    738\n",
      "18:00:00    718\n",
      "15:20:00    673\n",
      "           ... \n",
      "05:54:00      1\n",
      "04:42:00      1\n",
      "04:27:00      1\n",
      "04:21:00      1\n",
      "04:36:00      1\n",
      "Name: collision_time, Length: 1436, dtype: int64\n"
     ]
    }
   ],
   "source": [
    "cat_info('collision_time')"
   ]
  },
  {
   "cell_type": "code",
   "execution_count": 117,
   "id": "ce48f386",
   "metadata": {},
   "outputs": [],
   "source": [
    "df = df[~df['collision_time'].isna()]"
   ]
  },
  {
   "cell_type": "code",
   "execution_count": 118,
   "id": "ae1e9538",
   "metadata": {},
   "outputs": [],
   "source": [
    "df['collision_time'] = df['collision_time'].apply(lambda x: x.hour) "
   ]
  },
  {
   "cell_type": "code",
   "execution_count": 119,
   "id": "fa5218f2",
   "metadata": {},
   "outputs": [
    {
     "name": "stdout",
     "output_type": "stream",
     "text": [
      "Количество пропусков: 0\n",
      "\n",
      "Доля пропусков: 0.0 \n",
      "\n",
      "15    10734\n",
      "17     9498\n",
      "16     8920\n",
      "14     8883\n",
      "18     8310\n",
      "13     7724\n",
      "12     7092\n",
      "11     6032\n",
      "7      5639\n",
      "8      5560\n",
      "19     5387\n",
      "10     4852\n",
      "20     4470\n",
      "9      4325\n",
      "21     3741\n",
      "22     2879\n",
      "23     2447\n",
      "6      2231\n",
      "2      1854\n",
      "1      1751\n",
      "0      1716\n",
      "5      1310\n",
      "3      1038\n",
      "4       755\n",
      "Name: collision_time, dtype: int64\n"
     ]
    }
   ],
   "source": [
    "cat_info('collision_time')"
   ]
  },
  {
   "cell_type": "code",
   "execution_count": 120,
   "id": "6d34d0a5",
   "metadata": {},
   "outputs": [],
   "source": [
    "def daytime(x):\n",
    "    if 0 <= x <= 5:\n",
    "        x = 'night'\n",
    "    elif 6 <= x <= 11:\n",
    "        x = 'morning'\n",
    "    elif 12 <= x <= 17:\n",
    "        x = 'day'\n",
    "    elif 18 <= x <= 23:\n",
    "        x = 'evening'\n",
    "    return x "
   ]
  },
  {
   "cell_type": "code",
   "execution_count": 121,
   "id": "b1539072",
   "metadata": {},
   "outputs": [],
   "source": [
    "df['collision_time'] = df['collision_time'].apply(daytime) "
   ]
  },
  {
   "cell_type": "code",
   "execution_count": 122,
   "id": "e5ae7549",
   "metadata": {},
   "outputs": [
    {
     "data": {
      "image/png": "[encoded data removed]",
      "text/plain": [
       "<Figure size 576x360 with 1 Axes>"
      ]
     },
     "metadata": {
      "needs_background": "light"
     },
     "output_type": "display_data"
    }
   ],
   "source": [
    "visualize_cat('collision_time')"
   ]
  },
  {
   "cell_type": "markdown",
   "id": "e67857f8",
   "metadata": {},
   "source": [
    "Оказалось, что аварии чаще всего случаются в дневное время. Наверное, потому что поток машин наиболее плотный."
   ]
  },
  {
   "cell_type": "markdown",
   "id": "62a04ef8",
   "metadata": {},
   "source": [
    "### Подготовка признаков к обучению"
   ]
  },
  {
   "cell_type": "markdown",
   "id": "7588038d",
   "metadata": {},
   "source": [
    "Посмотрим, что у нас осталось в итоговой таблице."
   ]
  },
  {
   "cell_type": "code",
   "execution_count": 123,
   "id": "3f479956",
   "metadata": {},
   "outputs": [
    {
     "data": {
      "text/plain": [
       "Index(['case_id', 'party_number', 'at_fault', 'party_sobriety',\n",
       "       'party_drug_physical', 'county_location', 'distance', 'intersection',\n",
       "       'weather', 'collision_damage', 'party_count', 'pcf_violation_category',\n",
       "       'type_of_collision', 'motor_vehicle_involved_with', 'road_surface',\n",
       "       'road_condition', 'lighting', 'collision_time', 'vehicle_type',\n",
       "       'vehicle_age'],\n",
       "      dtype='object')"
      ]
     },
     "execution_count": 123,
     "metadata": {},
     "output_type": "execute_result"
    }
   ],
   "source": [
    "df.columns "
   ]
  },
  {
   "cell_type": "code",
   "execution_count": 124,
   "id": "662f1ae3",
   "metadata": {},
   "outputs": [
    {
     "data": {
      "text/html": [
       "<div>\n",
       "<style scoped>\n",
       "    .dataframe tbody tr th:only-of-type {\n",
       "        vertical-align: middle;\n",
       "    }\n",
       "\n",
       "    .dataframe tbody tr th {\n",
       "        vertical-align: top;\n",
       "    }\n",
       "\n",
       "    .dataframe thead th {\n",
       "        text-align: right;\n",
       "    }\n",
       "</style>\n",
       "<table border=\"1\" class=\"dataframe\">\n",
       "  <thead>\n",
       "    <tr style=\"text-align: right;\">\n",
       "      <th></th>\n",
       "      <th>case_id</th>\n",
       "      <th>party_number</th>\n",
       "      <th>at_fault</th>\n",
       "      <th>party_sobriety</th>\n",
       "      <th>party_drug_physical</th>\n",
       "      <th>county_location</th>\n",
       "      <th>distance</th>\n",
       "      <th>intersection</th>\n",
       "      <th>weather</th>\n",
       "      <th>collision_damage</th>\n",
       "      <th>party_count</th>\n",
       "      <th>pcf_violation_category</th>\n",
       "      <th>type_of_collision</th>\n",
       "      <th>motor_vehicle_involved_with</th>\n",
       "      <th>road_surface</th>\n",
       "      <th>road_condition</th>\n",
       "      <th>lighting</th>\n",
       "      <th>collision_time</th>\n",
       "      <th>vehicle_type</th>\n",
       "      <th>vehicle_age</th>\n",
       "    </tr>\n",
       "  </thead>\n",
       "  <tbody>\n",
       "    <tr>\n",
       "      <th>0</th>\n",
       "      <td>5403037</td>\n",
       "      <td>1</td>\n",
       "      <td>1</td>\n",
       "      <td>had been drinking</td>\n",
       "      <td>under influence</td>\n",
       "      <td>san benito</td>\n",
       "      <td>0.00</td>\n",
       "      <td>intersection</td>\n",
       "      <td>clear</td>\n",
       "      <td>fatal</td>\n",
       "      <td>1</td>\n",
       "      <td>dui</td>\n",
       "      <td>hit object</td>\n",
       "      <td>fixed object</td>\n",
       "      <td>dry</td>\n",
       "      <td>not normal</td>\n",
       "      <td>dark with street lights</td>\n",
       "      <td>night</td>\n",
       "      <td>sedan</td>\n",
       "      <td>3.00</td>\n",
       "    </tr>\n",
       "    <tr>\n",
       "      <th>1</th>\n",
       "      <td>5454272</td>\n",
       "      <td>1</td>\n",
       "      <td>1</td>\n",
       "      <td>had not been drinking</td>\n",
       "      <td>not under inflience</td>\n",
       "      <td>orange</td>\n",
       "      <td>36.00</td>\n",
       "      <td>not intersection</td>\n",
       "      <td>raining</td>\n",
       "      <td>small damage</td>\n",
       "      <td>2</td>\n",
       "      <td>speeding</td>\n",
       "      <td>rear end</td>\n",
       "      <td>other motor vehicle</td>\n",
       "      <td>wet</td>\n",
       "      <td>normal</td>\n",
       "      <td>daylight</td>\n",
       "      <td>morning</td>\n",
       "      <td>sedan</td>\n",
       "      <td>0.00</td>\n",
       "    </tr>\n",
       "    <tr>\n",
       "      <th>2</th>\n",
       "      <td>5454272</td>\n",
       "      <td>2</td>\n",
       "      <td>0</td>\n",
       "      <td>had not been drinking</td>\n",
       "      <td>not under inflience</td>\n",
       "      <td>orange</td>\n",
       "      <td>36.00</td>\n",
       "      <td>not intersection</td>\n",
       "      <td>raining</td>\n",
       "      <td>small damage</td>\n",
       "      <td>2</td>\n",
       "      <td>speeding</td>\n",
       "      <td>rear end</td>\n",
       "      <td>other motor vehicle</td>\n",
       "      <td>wet</td>\n",
       "      <td>normal</td>\n",
       "      <td>daylight</td>\n",
       "      <td>morning</td>\n",
       "      <td>sedan</td>\n",
       "      <td>0.00</td>\n",
       "    </tr>\n",
       "    <tr>\n",
       "      <th>3</th>\n",
       "      <td>5455652</td>\n",
       "      <td>2</td>\n",
       "      <td>0</td>\n",
       "      <td>had not been drinking</td>\n",
       "      <td>not under inflience</td>\n",
       "      <td>solano</td>\n",
       "      <td>0.00</td>\n",
       "      <td>intersection</td>\n",
       "      <td>clear</td>\n",
       "      <td>middle damage</td>\n",
       "      <td>2</td>\n",
       "      <td>pedestrian violation</td>\n",
       "      <td>other</td>\n",
       "      <td>other object</td>\n",
       "      <td>dry</td>\n",
       "      <td>normal</td>\n",
       "      <td>dark with street lights</td>\n",
       "      <td>day</td>\n",
       "      <td>hatchback</td>\n",
       "      <td>11.00</td>\n",
       "    </tr>\n",
       "    <tr>\n",
       "      <th>4</th>\n",
       "      <td>5456212</td>\n",
       "      <td>1</td>\n",
       "      <td>1</td>\n",
       "      <td>had not been drinking</td>\n",
       "      <td>not under inflience</td>\n",
       "      <td>sacramento</td>\n",
       "      <td>300.00</td>\n",
       "      <td>not intersection</td>\n",
       "      <td>clear</td>\n",
       "      <td>small damage</td>\n",
       "      <td>2</td>\n",
       "      <td>speeding</td>\n",
       "      <td>rear end</td>\n",
       "      <td>other motor vehicle</td>\n",
       "      <td>dry</td>\n",
       "      <td>normal</td>\n",
       "      <td>daylight</td>\n",
       "      <td>day</td>\n",
       "      <td>sedan</td>\n",
       "      <td>3.00</td>\n",
       "    </tr>\n",
       "  </tbody>\n",
       "</table>\n",
       "</div>"
      ],
      "text/plain": [
       "   case_id  party_number  at_fault         party_sobriety  \\\n",
       "0  5403037             1         1      had been drinking   \n",
       "1  5454272             1         1  had not been drinking   \n",
       "2  5454272             2         0  had not been drinking   \n",
       "3  5455652             2         0  had not been drinking   \n",
       "4  5456212             1         1  had not been drinking   \n",
       "\n",
       "   party_drug_physical county_location             distance      intersection  \\\n",
       "0      under influence      san benito                 0.00      intersection   \n",
       "1  not under inflience          orange                36.00  not intersection   \n",
       "2  not under inflience          orange                36.00  not intersection   \n",
       "3  not under inflience          solano                 0.00      intersection   \n",
       "4  not under inflience      sacramento               300.00  not intersection   \n",
       "\n",
       "   weather collision_damage  party_count pcf_violation_category  \\\n",
       "0    clear            fatal            1                    dui   \n",
       "1  raining     small damage            2               speeding   \n",
       "2  raining     small damage            2               speeding   \n",
       "3    clear    middle damage            2   pedestrian violation   \n",
       "4    clear     small damage            2               speeding   \n",
       "\n",
       "  type_of_collision motor_vehicle_involved_with road_surface road_condition  \\\n",
       "0        hit object                fixed object          dry     not normal   \n",
       "1          rear end         other motor vehicle          wet         normal   \n",
       "2          rear end         other motor vehicle          wet         normal   \n",
       "3             other                other object          dry         normal   \n",
       "4          rear end         other motor vehicle          dry         normal   \n",
       "\n",
       "                  lighting collision_time vehicle_type          vehicle_age  \n",
       "0  dark with street lights          night        sedan                 3.00  \n",
       "1                 daylight        morning        sedan                 0.00  \n",
       "2                 daylight        morning        sedan                 0.00  \n",
       "3  dark with street lights            day    hatchback                11.00  \n",
       "4                 daylight            day        sedan                 3.00  "
      ]
     },
     "execution_count": 124,
     "metadata": {},
     "output_type": "execute_result"
    }
   ],
   "source": [
    "df.head() "
   ]
  },
  {
   "cell_type": "code",
   "execution_count": 125,
   "id": "71741d82",
   "metadata": {},
   "outputs": [
    {
     "data": {
      "text/plain": [
       "3386"
      ]
     },
     "execution_count": 125,
     "metadata": {},
     "output_type": "execute_result"
    }
   ],
   "source": [
    "df.duplicated().sum() "
   ]
  },
  {
   "cell_type": "code",
   "execution_count": 126,
   "id": "6de42bef",
   "metadata": {},
   "outputs": [],
   "source": [
    "df = df.drop_duplicates() "
   ]
  },
  {
   "cell_type": "code",
   "execution_count": 127,
   "id": "10956975",
   "metadata": {},
   "outputs": [],
   "source": [
    "features = df.drop(columns=['case_id', 'party_number', 'at_fault'])\n",
    "target = df['at_fault']"
   ]
  },
  {
   "cell_type": "code",
   "execution_count": 128,
   "id": "198a3f5d",
   "metadata": {},
   "outputs": [],
   "source": [
    "X_train, X_test, y_train, y_test = train_test_split(features, target, test_size=0.2, random_state=42, shuffle=True) "
   ]
  },
  {
   "cell_type": "code",
   "execution_count": 129,
   "id": "e484a913",
   "metadata": {},
   "outputs": [
    {
     "name": "stdout",
     "output_type": "stream",
     "text": [
      "(91009, 17)\n",
      "(91009,)\n",
      "(22753, 17)\n",
      "(22753,)\n"
     ]
    }
   ],
   "source": [
    "print(X_train.shape)\n",
    "print(y_train.shape) \n",
    "print(X_test.shape)\n",
    "print(y_test.shape) "
   ]
  },
  {
   "cell_type": "code",
   "execution_count": 130,
   "id": "1b8e96be",
   "metadata": {},
   "outputs": [],
   "source": [
    "numeric = list(features.select_dtypes(exclude=['object']).columns) \n",
    "categorical = list(features.select_dtypes(include=['object']).columns)\n",
    "col_transformer = ColumnTransformer(\n",
    "                        transformers=[\n",
    "                            ('scaler', StandardScaler(), numeric),\n",
    "                            ('ohe', OneHotEncoder(sparse=False, drop='first'), categorical)],\n",
    "                                remainder=\"passthrough\"\n",
    "                                  )\n",
    "\n",
    "X_train_ohe = col_transformer.fit_transform(X_train)\n",
    "X_test_ohe = col_transformer.transform(X_test)"
   ]
  },
  {
   "cell_type": "markdown",
   "id": "79167494",
   "metadata": {},
   "source": [
    "## Лучшая модель"
   ]
  },
  {
   "cell_type": "markdown",
   "id": "8cc866a8",
   "metadata": {},
   "source": [
    "Для оценки качества моделей будем использовать метрику AUC, т.к. нам важно оценить предсказания вероятностей классов."
   ]
  },
  {
   "cell_type": "markdown",
   "id": "adf3d150",
   "metadata": {},
   "source": [
    "### CatBoost"
   ]
  },
  {
   "cell_type": "code",
   "execution_count": 131,
   "id": "9f5d7767",
   "metadata": {},
   "outputs": [],
   "source": [
    "kf = KFold(n_splits=5, random_state=42, shuffle=True) "
   ]
  },
  {
   "cell_type": "code",
   "execution_count": 132,
   "id": "fda62cc5",
   "metadata": {},
   "outputs": [],
   "source": [
    "# базовая модель catboost\n",
    "catb = CatBoostClassifier(random_state=42, \n",
    "                         cat_features=categorical, \n",
    "                         iterations=100,\n",
    "                         early_stopping_rounds=10,\n",
    "                         learning_rate=0.1)"
   ]
  },
  {
   "cell_type": "code",
   "execution_count": 133,
   "id": "621c621d",
   "metadata": {},
   "outputs": [
    {
     "data": {
      "text/plain": [
       "['accuracy',\n",
       " 'adjusted_mutual_info_score',\n",
       " 'adjusted_rand_score',\n",
       " 'average_precision',\n",
       " 'balanced_accuracy',\n",
       " 'completeness_score',\n",
       " 'explained_variance',\n",
       " 'f1',\n",
       " 'f1_macro',\n",
       " 'f1_micro',\n",
       " 'f1_samples',\n",
       " 'f1_weighted',\n",
       " 'fowlkes_mallows_score',\n",
       " 'homogeneity_score',\n",
       " 'jaccard',\n",
       " 'jaccard_macro',\n",
       " 'jaccard_micro',\n",
       " 'jaccard_samples',\n",
       " 'jaccard_weighted',\n",
       " 'max_error',\n",
       " 'mutual_info_score',\n",
       " 'neg_brier_score',\n",
       " 'neg_log_loss',\n",
       " 'neg_mean_absolute_error',\n",
       " 'neg_mean_absolute_percentage_error',\n",
       " 'neg_mean_gamma_deviance',\n",
       " 'neg_mean_poisson_deviance',\n",
       " 'neg_mean_squared_error',\n",
       " 'neg_mean_squared_log_error',\n",
       " 'neg_median_absolute_error',\n",
       " 'neg_root_mean_squared_error',\n",
       " 'normalized_mutual_info_score',\n",
       " 'precision',\n",
       " 'precision_macro',\n",
       " 'precision_micro',\n",
       " 'precision_samples',\n",
       " 'precision_weighted',\n",
       " 'r2',\n",
       " 'rand_score',\n",
       " 'recall',\n",
       " 'recall_macro',\n",
       " 'recall_micro',\n",
       " 'recall_samples',\n",
       " 'recall_weighted',\n",
       " 'roc_auc',\n",
       " 'roc_auc_ovo',\n",
       " 'roc_auc_ovo_weighted',\n",
       " 'roc_auc_ovr',\n",
       " 'roc_auc_ovr_weighted',\n",
       " 'top_k_accuracy',\n",
       " 'v_measure_score']"
      ]
     },
     "execution_count": 133,
     "metadata": {},
     "output_type": "execute_result"
    }
   ],
   "source": [
    "sorted(SCORERS.keys())"
   ]
  },
  {
   "cell_type": "code",
   "execution_count": 134,
   "id": "3b2a1fd5",
   "metadata": {},
   "outputs": [
    {
     "name": "stdout",
     "output_type": "stream",
     "text": [
      "CPU times: total: 1h 8min 22s\n",
      "Wall time: 15min 27s\n"
     ]
    }
   ],
   "source": [
    "%%time\n",
    "params_catb = {\n",
    "    'depth': [14, 15, 16]\n",
    "}\n",
    "\n",
    "grid_catb = GridSearchCV(catb, param_grid=params_catb, cv=kf,\n",
    "                        scoring='roc_auc').fit(X_train, y_train, verbose=False) "
   ]
  },
  {
   "cell_type": "code",
   "execution_count": 135,
   "id": "6dcef2cd",
   "metadata": {},
   "outputs": [
    {
     "name": "stdout",
     "output_type": "stream",
     "text": [
      "Fit time: 59.76615282694498\n",
      "Predict time: 0.10798045794169109\n",
      "Best AUC: 0.7625747960708195\n"
     ]
    }
   ],
   "source": [
    "results = grid_catb.cv_results_\n",
    "best_index = grid_catb.best_index_\n",
    "\n",
    "fit_time = results['mean_fit_time'].mean()\n",
    "score_time = results['mean_score_time'].mean()\n",
    "AUC = results['mean_test_score'].max()\n",
    "\n",
    "print(f\"Fit time: {fit_time}\\nPredict time: {score_time}\\nBest AUC: {AUC}\") "
   ]
  },
  {
   "cell_type": "code",
   "execution_count": 136,
   "id": "e8e28f06",
   "metadata": {},
   "outputs": [
    {
     "data": {
      "text/plain": [
       "{'depth': 14}"
      ]
     },
     "execution_count": 136,
     "metadata": {},
     "output_type": "execute_result"
    }
   ],
   "source": [
    "grid_catb.best_params_"
   ]
  },
  {
   "cell_type": "markdown",
   "id": "349505c9",
   "metadata": {},
   "source": [
    "### Нейросеть"
   ]
  },
  {
   "cell_type": "code",
   "execution_count": 137,
   "id": "a4ace941",
   "metadata": {},
   "outputs": [],
   "source": [
    "class EarlyStopping_1():\n",
    "    \"\"\"\n",
    "    Early stopping to stop the training when the loss does not improve after\n",
    "    certain epochs.\n",
    "    \"\"\"\n",
    "    def __init__(self, patience=5, min_delta=0):\n",
    "        \"\"\"\n",
    "        :param patience: how many epochs to wait before stopping when loss is\n",
    "               not improving\n",
    "        :param min_delta: minimum difference between new loss and old loss for\n",
    "               new loss to be considered as an improvement\n",
    "        \"\"\"\n",
    "        self.patience = patience\n",
    "        self.min_delta = min_delta\n",
    "        self.counter = 0\n",
    "        self.best_loss = None\n",
    "        self.early_stop = False\n",
    "    def __call__(self, val_loss):\n",
    "        if self.best_loss == None:\n",
    "            self.best_loss = val_loss\n",
    "        elif self.best_loss - val_loss > self.min_delta:\n",
    "            self.best_loss = val_loss\n",
    "            # reset counter if validation loss improves\n",
    "            self.counter = 0\n",
    "        elif self.best_loss - val_loss < self.min_delta:\n",
    "            self.counter += 1\n",
    "            print(f\"INFO: Early stopping counter {self.counter} of {self.patience}\")\n",
    "            if self.counter >= self.patience:\n",
    "                print('INFO: Early stopping')\n",
    "                self.early_stop = True "
   ]
  },
  {
   "cell_type": "code",
   "execution_count": 138,
   "id": "22b48796",
   "metadata": {},
   "outputs": [],
   "source": [
    "# гиперпараметры нейросети\n",
    "num_epochs = 200\n",
    "batch_size = 1000\n",
    "#accumulation_iteration = 5\n",
    "#num_batches = ceil(len(X_train_ohe)/batch_size)\n",
    "loss = nn.BCELoss() \n",
    "learning_rate = 0.01\n",
    "early_stopping = EarlyStopping_1() "
   ]
  },
  {
   "cell_type": "code",
   "execution_count": 139,
   "id": "5106d9ab",
   "metadata": {},
   "outputs": [],
   "source": [
    "X_train_tensor = torch.from_numpy(X_train_ohe).float()\n",
    "X_test_tensor = torch.from_numpy(X_test_ohe).float()\n",
    "\n",
    "y_train_tensor = torch.from_numpy(np.array(y_train)).float() \n",
    "y_test_tensor = torch.from_numpy(np.array(y_test)).float() \n",
    "\n",
    "dataset_train = torch.utils.data.TensorDataset(X_train_tensor, y_train_tensor) \n",
    "dataset_test = torch.utils.data.TensorDataset(X_test_tensor, y_test_tensor)  \n",
    "\n",
    "\n",
    "train_dataloader = DataLoader(dataset_train, batch_size=batch_size, shuffle=True,\n",
    "                              num_workers=0)\n",
    "test_dataloader = DataLoader(dataset_test, batch_size=batch_size, num_workers=0) "
   ]
  },
  {
   "cell_type": "code",
   "execution_count": 140,
   "id": "e5defa89",
   "metadata": {},
   "outputs": [],
   "source": [
    "class Basic_Net(nn.Module):\n",
    "    def __init__(self, n_in_neurons, n_hidden_neurons_1, n_hidden_neurons_2, n_out_neurons):\n",
    "        super(Basic_Net, self).__init__()\n",
    "        self.layer1 = nn.Linear(n_in_neurons, n_hidden_neurons_1)\n",
    "        self.layer2 = nn.Linear(n_hidden_neurons_1, n_hidden_neurons_2)\n",
    "        self.layer3 = nn.Linear(n_hidden_neurons_2, n_out_neurons)\n",
    "        \n",
    "    def forward(self, x):\n",
    "        x = self.layer1(x)\n",
    "        x = torch.tanh(x) \n",
    "        x = self.layer2(x)\n",
    "        x = torch.tanh(x) \n",
    "        x = self.layer3(x)\n",
    "        x = torch.sigmoid(x)\n",
    "        \n",
    "        return x"
   ]
  },
  {
   "cell_type": "code",
   "execution_count": 141,
   "id": "d3d6af20",
   "metadata": {},
   "outputs": [],
   "source": [
    "# инициализация весов\n",
    "def init_weights(layer):\n",
    "    if type(layer) == nn.Linear:\n",
    "        nn.init.xavier_uniform_(layer.weight)"
   ]
  },
  {
   "cell_type": "code",
   "execution_count": 142,
   "id": "b0ae25e0",
   "metadata": {},
   "outputs": [],
   "source": [
    "n_in_neurons = X_train_tensor.size(dim=1)\n",
    "n_out_neurons = 1\n",
    "n_hidden_neurons_1 = 20\n",
    "n_hidden_neurons_2 = 10"
   ]
  },
  {
   "cell_type": "code",
   "execution_count": 143,
   "id": "65d945d3",
   "metadata": {},
   "outputs": [],
   "source": [
    "basic_net = Basic_Net(n_in_neurons, n_hidden_neurons_1, n_hidden_neurons_2, n_out_neurons)\n",
    "basic_net.apply(init_weights)\n",
    "optimizer = torch.optim.Adam(basic_net.parameters(), lr=learning_rate)"
   ]
  },
  {
   "cell_type": "code",
   "execution_count": 144,
   "id": "115ab119",
   "metadata": {},
   "outputs": [],
   "source": [
    "skorch_classifier = NeuralNetClassifier(module=basic_net, \n",
    "                                      device='cpu',  \n",
    "                                      verbose=3,\n",
    "                                      batch_size=batch_size,\n",
    "                                      optimizer=torch.optim.Adam, \n",
    "                                      max_epochs=2500, \n",
    "                                      lr=learning_rate,\n",
    "                                      train_split=ValidSplit(cv=5),\n",
    "                                      criterion =nn.BCELoss,\n",
    "                                      callbacks=[\n",
    "                ('auc', EpochScoring(scoring='roc_auc', lower_is_better=False)),\n",
    "                ('estoper', EarlyStopping(lower_is_better=False, monitor='roc_auc')),\n",
    "            ],\n",
    "                                     ) "
   ]
  },
  {
   "cell_type": "code",
   "execution_count": 145,
   "id": "6b88fd17",
   "metadata": {},
   "outputs": [],
   "source": [
    "params = {\n",
    "    'module__n_in_neurons': [n_in_neurons],\n",
    "    'module__n_hidden_neurons_1': range(10, 30, 5),\n",
    "    'module__n_hidden_neurons_2': range(10, 30, 5),\n",
    "    'module__n_out_neurons': [n_out_neurons],\n",
    "    #'lr': [1e-3, 1e-4]\n",
    "}"
   ]
  },
  {
   "cell_type": "code",
   "execution_count": 146,
   "id": "45f7d828",
   "metadata": {},
   "outputs": [
    {
     "name": "stdout",
     "output_type": "stream",
     "text": [
      "Fitting 3 folds for each of 10 candidates, totalling 30 fits\n",
      "  epoch    roc_auc    train_loss    valid_acc    valid_loss     dur\n",
      "-------  ---------  ------------  -----------  ------------  ------\n",
      "      1     \u001b[36m0.7392\u001b[0m        \u001b[32m0.6110\u001b[0m       \u001b[35m0.6761\u001b[0m        \u001b[31m0.5820\u001b[0m  0.9124\n",
      "      2     \u001b[36m0.7492\u001b[0m        \u001b[32m0.5702\u001b[0m       \u001b[35m0.6794\u001b[0m        \u001b[31m0.5640\u001b[0m  1.0003\n",
      "      3     \u001b[36m0.7534\u001b[0m        \u001b[32m0.5567\u001b[0m       \u001b[35m0.6811\u001b[0m        \u001b[31m0.5531\u001b[0m  1.0220\n",
      "      4     \u001b[36m0.7569\u001b[0m        \u001b[32m0.5482\u001b[0m       \u001b[35m0.6843\u001b[0m        \u001b[31m0.5467\u001b[0m  0.7958\n",
      "      5     \u001b[36m0.7598\u001b[0m        \u001b[32m0.5432\u001b[0m       \u001b[35m0.6855\u001b[0m        \u001b[31m0.5420\u001b[0m  0.9329\n",
      "      6     \u001b[36m0.7622\u001b[0m        \u001b[32m0.5393\u001b[0m       \u001b[35m0.6860\u001b[0m        \u001b[31m0.5383\u001b[0m  0.8494\n",
      "      7     \u001b[36m0.7637\u001b[0m        \u001b[32m0.5359\u001b[0m       0.6858        \u001b[31m0.5357\u001b[0m  0.7709\n",
      "      8     \u001b[36m0.7645\u001b[0m        \u001b[32m0.5333\u001b[0m       0.6855        \u001b[31m0.5341\u001b[0m  0.8191\n",
      "      9     \u001b[36m0.7648\u001b[0m        \u001b[32m0.5314\u001b[0m       \u001b[35m0.6867\u001b[0m        \u001b[31m0.5332\u001b[0m  0.8500\n",
      "     10     0.7646        \u001b[32m0.5300\u001b[0m       \u001b[35m0.6874\u001b[0m        \u001b[31m0.5329\u001b[0m  0.8437\n",
      "     11     0.7644        \u001b[32m0.5288\u001b[0m       0.6868        \u001b[31m0.5328\u001b[0m  0.8562\n",
      "     12     0.7642        \u001b[32m0.5279\u001b[0m       0.6862        \u001b[31m0.5328\u001b[0m  0.8816\n",
      "     13     0.7639        \u001b[32m0.5270\u001b[0m       0.6862        \u001b[31m0.5327\u001b[0m  0.8278\n",
      "Stopping since roc_auc has not improved in the last 5 epochs.\n",
      "[CV 1/3] END module__n_hidden_neurons_1=15, module__n_hidden_neurons_2=10, module__n_in_neurons=125, module__n_out_neurons=1; total time=  12.7s\n",
      "  epoch    roc_auc    train_loss    valid_acc    valid_loss     dur\n",
      "-------  ---------  ------------  -----------  ------------  ------\n",
      "      1     \u001b[36m0.7426\u001b[0m        \u001b[32m0.6114\u001b[0m       \u001b[35m0.6750\u001b[0m        \u001b[31m0.5768\u001b[0m  0.8486\n",
      "      2     \u001b[36m0.7562\u001b[0m        \u001b[32m0.5650\u001b[0m       \u001b[35m0.6803\u001b[0m        \u001b[31m0.5571\u001b[0m  0.8467\n",
      "      3     \u001b[36m0.7591\u001b[0m        \u001b[32m0.5505\u001b[0m       \u001b[35m0.6817\u001b[0m        \u001b[31m0.5481\u001b[0m  0.7685\n",
      "      4     \u001b[36m0.7602\u001b[0m        \u001b[32m0.5438\u001b[0m       \u001b[35m0.6841\u001b[0m        \u001b[31m0.5447\u001b[0m  0.8691\n",
      "      5     \u001b[36m0.7616\u001b[0m        \u001b[32m0.5405\u001b[0m       \u001b[35m0.6852\u001b[0m        \u001b[31m0.5425\u001b[0m  0.8567\n",
      "      6     \u001b[36m0.7629\u001b[0m        \u001b[32m0.5380\u001b[0m       \u001b[35m0.6855\u001b[0m        \u001b[31m0.5405\u001b[0m  0.8356\n",
      "      7     \u001b[36m0.7643\u001b[0m        \u001b[32m0.5357\u001b[0m       0.6855        \u001b[31m0.5387\u001b[0m  0.9781\n",
      "      8     \u001b[36m0.7652\u001b[0m        \u001b[32m0.5336\u001b[0m       \u001b[35m0.6857\u001b[0m        \u001b[31m0.5371\u001b[0m  0.8634\n",
      "      9     \u001b[36m0.7657\u001b[0m        \u001b[32m0.5317\u001b[0m       0.6855        \u001b[31m0.5360\u001b[0m  0.9152\n",
      "     10     \u001b[36m0.7659\u001b[0m        \u001b[32m0.5302\u001b[0m       \u001b[35m0.6860\u001b[0m        \u001b[31m0.5353\u001b[0m  0.7699\n",
      "     11     \u001b[36m0.7662\u001b[0m        \u001b[32m0.5289\u001b[0m       \u001b[35m0.6863\u001b[0m        \u001b[31m0.5347\u001b[0m  0.8565\n",
      "     12     \u001b[36m0.7665\u001b[0m        \u001b[32m0.5276\u001b[0m       \u001b[35m0.6869\u001b[0m        \u001b[31m0.5341\u001b[0m  0.8624\n",
      "     13     \u001b[36m0.7667\u001b[0m        \u001b[32m0.5265\u001b[0m       \u001b[35m0.6871\u001b[0m        \u001b[31m0.5338\u001b[0m  0.8318\n",
      "     14     \u001b[36m0.7669\u001b[0m        \u001b[32m0.5256\u001b[0m       0.6865        \u001b[31m0.5337\u001b[0m  0.8167\n",
      "     15     \u001b[36m0.7670\u001b[0m        \u001b[32m0.5248\u001b[0m       0.6867        0.5337  0.8654\n",
      "     16     \u001b[36m0.7670\u001b[0m        \u001b[32m0.5241\u001b[0m       0.6869        0.5338  0.8587\n",
      "     17     0.7670        \u001b[32m0.5235\u001b[0m       \u001b[35m0.6873\u001b[0m        0.5339  0.8226\n",
      "     18     \u001b[36m0.7670\u001b[0m        \u001b[32m0.5228\u001b[0m       \u001b[35m0.6878\u001b[0m        0.5340  0.8271\n",
      "     19     \u001b[36m0.7672\u001b[0m        \u001b[32m0.5223\u001b[0m       0.6878        0.5342  0.8417\n",
      "     20     0.7671        \u001b[32m0.5217\u001b[0m       0.6874        0.5343  0.8680\n",
      "     21     0.7671        \u001b[32m0.5211\u001b[0m       0.6871        0.5344  0.9095\n",
      "     22     0.7671        \u001b[32m0.5206\u001b[0m       0.6870        0.5346  0.7669\n",
      "     23     0.7670        \u001b[32m0.5200\u001b[0m       0.6871        0.5348  0.8442\n",
      "Stopping since roc_auc has not improved in the last 5 epochs.\n",
      "[CV 2/3] END module__n_hidden_neurons_1=15, module__n_hidden_neurons_2=10, module__n_in_neurons=125, module__n_out_neurons=1; total time=  21.0s\n",
      "  epoch    roc_auc    train_loss    valid_acc    valid_loss     dur\n",
      "-------  ---------  ------------  -----------  ------------  ------\n",
      "      1     \u001b[36m0.7414\u001b[0m        \u001b[32m0.6111\u001b[0m       \u001b[35m0.6719\u001b[0m        \u001b[31m0.5754\u001b[0m  0.9575\n",
      "      2     \u001b[36m0.7555\u001b[0m        \u001b[32m0.5660\u001b[0m       \u001b[35m0.6766\u001b[0m        \u001b[31m0.5571\u001b[0m  0.9049\n",
      "      3     \u001b[36m0.7601\u001b[0m        \u001b[32m0.5530\u001b[0m       \u001b[35m0.6802\u001b[0m        \u001b[31m0.5482\u001b[0m  0.8707\n",
      "      4     \u001b[36m0.7619\u001b[0m        \u001b[32m0.5454\u001b[0m       \u001b[35m0.6830\u001b[0m        \u001b[31m0.5443\u001b[0m  0.8659\n",
      "      5     \u001b[36m0.7636\u001b[0m        \u001b[32m0.5416\u001b[0m       \u001b[35m0.6845\u001b[0m        \u001b[31m0.5426\u001b[0m  0.8594\n",
      "      6     \u001b[36m0.7654\u001b[0m        \u001b[32m0.5383\u001b[0m       \u001b[35m0.6845\u001b[0m        \u001b[31m0.5387\u001b[0m  0.8467\n",
      "      7     \u001b[36m0.7665\u001b[0m        \u001b[32m0.5348\u001b[0m       0.6845        \u001b[31m0.5364\u001b[0m  0.8396\n",
      "      8     \u001b[36m0.7670\u001b[0m        \u001b[32m0.5323\u001b[0m       \u001b[35m0.6848\u001b[0m        \u001b[31m0.5350\u001b[0m  0.8940\n",
      "      9     \u001b[36m0.7673\u001b[0m        \u001b[32m0.5304\u001b[0m       0.6803        \u001b[31m0.5346\u001b[0m  0.9165\n",
      "     10     0.7672        \u001b[32m0.5290\u001b[0m       0.6805        0.5348  0.8366\n",
      "     11     0.7671        \u001b[32m0.5280\u001b[0m       0.6808        0.5353  0.8338\n",
      "     12     0.7670        \u001b[32m0.5271\u001b[0m       0.6764        0.5356  0.8368\n",
      "     13     0.7668        \u001b[32m0.5262\u001b[0m       0.6784        0.5358  0.9763\n",
      "Stopping since roc_auc has not improved in the last 5 epochs.\n",
      "[CV 3/3] END module__n_hidden_neurons_1=15, module__n_hidden_neurons_2=10, module__n_in_neurons=125, module__n_out_neurons=1; total time=  12.8s\n",
      "  epoch    roc_auc    train_loss    valid_acc    valid_loss     dur\n",
      "-------  ---------  ------------  -----------  ------------  ------\n",
      "      1     \u001b[36m0.7403\u001b[0m        \u001b[32m0.6098\u001b[0m       \u001b[35m0.6763\u001b[0m        \u001b[31m0.5821\u001b[0m  0.8426\n",
      "      2     \u001b[36m0.7502\u001b[0m        \u001b[32m0.5689\u001b[0m       \u001b[35m0.6811\u001b[0m        \u001b[31m0.5613\u001b[0m  0.8953\n",
      "      3     \u001b[36m0.7543\u001b[0m        \u001b[32m0.5529\u001b[0m       \u001b[35m0.6836\u001b[0m        \u001b[31m0.5496\u001b[0m  0.7889\n",
      "      4     \u001b[36m0.7584\u001b[0m        \u001b[32m0.5448\u001b[0m       \u001b[35m0.6850\u001b[0m        \u001b[31m0.5432\u001b[0m  0.8392\n",
      "      5     \u001b[36m0.7614\u001b[0m        \u001b[32m0.5398\u001b[0m       \u001b[35m0.6860\u001b[0m        \u001b[31m0.5392\u001b[0m  1.0608\n",
      "      6     \u001b[36m0.7632\u001b[0m        \u001b[32m0.5356\u001b[0m       0.6857        \u001b[31m0.5366\u001b[0m  0.8717\n",
      "      7     \u001b[36m0.7637\u001b[0m        \u001b[32m0.5329\u001b[0m       0.6860        \u001b[31m0.5352\u001b[0m  0.8519\n",
      "      8     \u001b[36m0.7638\u001b[0m        \u001b[32m0.5310\u001b[0m       \u001b[35m0.6877\u001b[0m        \u001b[31m0.5348\u001b[0m  1.1155\n",
      "      9     0.7638        \u001b[32m0.5297\u001b[0m       \u001b[35m0.6886\u001b[0m        \u001b[31m0.5344\u001b[0m  0.8316\n",
      "     10     \u001b[36m0.7638\u001b[0m        \u001b[32m0.5284\u001b[0m       0.6881        \u001b[31m0.5339\u001b[0m  0.8540\n",
      "     11     \u001b[36m0.7638\u001b[0m        \u001b[32m0.5273\u001b[0m       0.6874        \u001b[31m0.5337\u001b[0m  0.8796\n",
      "     12     \u001b[36m0.7639\u001b[0m        \u001b[32m0.5263\u001b[0m       0.6869        \u001b[31m0.5335\u001b[0m  0.7997\n",
      "     13     \u001b[36m0.7639\u001b[0m        \u001b[32m0.5255\u001b[0m       0.6867        \u001b[31m0.5334\u001b[0m  0.8398\n",
      "     14     0.7639        \u001b[32m0.5247\u001b[0m       0.6868        \u001b[31m0.5334\u001b[0m  0.8587\n",
      "     15     0.7638        \u001b[32m0.5239\u001b[0m       0.6860        0.5335  0.7706\n",
      "     16     0.7635        \u001b[32m0.5231\u001b[0m       0.6867        0.5336  0.8983\n",
      "Stopping since roc_auc has not improved in the last 5 epochs.\n",
      "[CV 1/3] END module__n_hidden_neurons_1=25, module__n_hidden_neurons_2=10, module__n_in_neurons=125, module__n_out_neurons=1; total time=  15.4s\n",
      "  epoch    roc_auc    train_loss    valid_acc    valid_loss     dur\n",
      "-------  ---------  ------------  -----------  ------------  ------\n",
      "      1     \u001b[36m0.7471\u001b[0m        \u001b[32m0.6043\u001b[0m       \u001b[35m0.6747\u001b[0m        \u001b[31m0.5705\u001b[0m  0.8895\n",
      "      2     \u001b[36m0.7575\u001b[0m        \u001b[32m0.5629\u001b[0m       \u001b[35m0.6793\u001b[0m        \u001b[31m0.5538\u001b[0m  0.8697\n",
      "      3     \u001b[36m0.7609\u001b[0m        \u001b[32m0.5492\u001b[0m       \u001b[35m0.6828\u001b[0m        \u001b[31m0.5466\u001b[0m  0.8685\n",
      "      4     \u001b[36m0.7623\u001b[0m        \u001b[32m0.5422\u001b[0m       \u001b[35m0.6847\u001b[0m        \u001b[31m0.5422\u001b[0m  0.8985\n",
      "      5     \u001b[36m0.7638\u001b[0m        \u001b[32m0.5383\u001b[0m       \u001b[35m0.6859\u001b[0m        \u001b[31m0.5395\u001b[0m  1.0063\n",
      "      6     \u001b[36m0.7646\u001b[0m        \u001b[32m0.5354\u001b[0m       \u001b[35m0.6866\u001b[0m        \u001b[31m0.5371\u001b[0m  0.8317\n",
      "      7     \u001b[36m0.7650\u001b[0m        \u001b[32m0.5329\u001b[0m       0.6863        \u001b[31m0.5357\u001b[0m  0.8747\n",
      "      8     \u001b[36m0.7653\u001b[0m        \u001b[32m0.5309\u001b[0m       \u001b[35m0.6869\u001b[0m        \u001b[31m0.5352\u001b[0m  0.8517\n",
      "      9     \u001b[36m0.7655\u001b[0m        \u001b[32m0.5293\u001b[0m       0.6864        \u001b[31m0.5350\u001b[0m  0.8516\n",
      "     10     \u001b[36m0.7657\u001b[0m        \u001b[32m0.5280\u001b[0m       \u001b[35m0.6872\u001b[0m        \u001b[31m0.5349\u001b[0m  0.8594\n",
      "     11     \u001b[36m0.7658\u001b[0m        \u001b[32m0.5269\u001b[0m       \u001b[35m0.6883\u001b[0m        \u001b[31m0.5348\u001b[0m  0.7989\n",
      "     12     \u001b[36m0.7658\u001b[0m        \u001b[32m0.5260\u001b[0m       0.6879        \u001b[31m0.5348\u001b[0m  0.9061\n",
      "     13     0.7657        \u001b[32m0.5251\u001b[0m       0.6871        \u001b[31m0.5347\u001b[0m  0.7787\n",
      "     14     0.7656        \u001b[32m0.5243\u001b[0m       0.6872        0.5347  0.8477\n",
      "     15     0.7653        \u001b[32m0.5236\u001b[0m       0.6868        0.5348  0.8345\n",
      "Stopping since roc_auc has not improved in the last 5 epochs.\n",
      "[CV 2/3] END module__n_hidden_neurons_1=25, module__n_hidden_neurons_2=10, module__n_in_neurons=125, module__n_out_neurons=1; total time=  14.4s\n",
      "  epoch    roc_auc    train_loss    valid_acc    valid_loss     dur\n",
      "-------  ---------  ------------  -----------  ------------  ------\n",
      "      1     \u001b[36m0.7425\u001b[0m        \u001b[32m0.6070\u001b[0m       \u001b[35m0.6722\u001b[0m        \u001b[31m0.5762\u001b[0m  0.8593\n",
      "      2     \u001b[36m0.7547\u001b[0m        \u001b[32m0.5686\u001b[0m       \u001b[35m0.6757\u001b[0m        \u001b[31m0.5595\u001b[0m  0.8594\n",
      "      3     \u001b[36m0.7589\u001b[0m        \u001b[32m0.5546\u001b[0m       \u001b[35m0.6780\u001b[0m        \u001b[31m0.5493\u001b[0m  0.7719\n",
      "      4     \u001b[36m0.7610\u001b[0m        \u001b[32m0.5457\u001b[0m       \u001b[35m0.6827\u001b[0m        \u001b[31m0.5447\u001b[0m  0.8693\n",
      "      5     \u001b[36m0.7633\u001b[0m        \u001b[32m0.5416\u001b[0m       \u001b[35m0.6831\u001b[0m        \u001b[31m0.5419\u001b[0m  0.8554\n",
      "      6     \u001b[36m0.7657\u001b[0m        \u001b[32m0.5378\u001b[0m       0.6815        \u001b[31m0.5382\u001b[0m  0.8527\n",
      "      7     \u001b[36m0.7670\u001b[0m        \u001b[32m0.5342\u001b[0m       0.6824        \u001b[31m0.5362\u001b[0m  1.0151\n",
      "      8     \u001b[36m0.7676\u001b[0m        \u001b[32m0.5316\u001b[0m       0.6820        \u001b[31m0.5353\u001b[0m  0.8444\n",
      "      9     \u001b[36m0.7680\u001b[0m        \u001b[32m0.5298\u001b[0m       0.6783        0.5353  0.8777\n",
      "     10     \u001b[36m0.7681\u001b[0m        \u001b[32m0.5284\u001b[0m       0.6775        0.5357  0.8142\n",
      "     11     0.7680        \u001b[32m0.5272\u001b[0m       0.6801        0.5358  0.8512\n",
      "     12     0.7677        \u001b[32m0.5262\u001b[0m       0.6811        0.5359  0.8457\n",
      "     13     0.7674        \u001b[32m0.5254\u001b[0m       0.6815        0.5361  0.8495\n",
      "     14     0.7669        \u001b[32m0.5245\u001b[0m       0.6806        0.5363  0.8589\n",
      "Stopping since roc_auc has not improved in the last 5 epochs.\n",
      "[CV 3/3] END module__n_hidden_neurons_1=25, module__n_hidden_neurons_2=10, module__n_in_neurons=125, module__n_out_neurons=1; total time=  13.4s\n",
      "  epoch    roc_auc    train_loss    valid_acc    valid_loss     dur\n",
      "-------  ---------  ------------  -----------  ------------  ------\n",
      "      1     \u001b[36m0.7381\u001b[0m        \u001b[32m0.6117\u001b[0m       \u001b[35m0.6732\u001b[0m        \u001b[31m0.5786\u001b[0m  0.8610\n",
      "      2     \u001b[36m0.7485\u001b[0m        \u001b[32m0.5720\u001b[0m       \u001b[35m0.6791\u001b[0m        \u001b[31m0.5681\u001b[0m  0.8617\n",
      "      3     \u001b[36m0.7524\u001b[0m        \u001b[32m0.5605\u001b[0m       \u001b[35m0.6802\u001b[0m        \u001b[31m0.5575\u001b[0m  0.7578\n",
      "      4     \u001b[36m0.7550\u001b[0m        \u001b[32m0.5519\u001b[0m       \u001b[35m0.6830\u001b[0m        \u001b[31m0.5503\u001b[0m  0.8985\n",
      "      5     \u001b[36m0.7573\u001b[0m        \u001b[32m0.5463\u001b[0m       \u001b[35m0.6857\u001b[0m        \u001b[31m0.5463\u001b[0m  0.8457\n",
      "      6     \u001b[36m0.7595\u001b[0m        \u001b[32m0.5427\u001b[0m       0.6853        \u001b[31m0.5429\u001b[0m  0.8258\n",
      "      7     \u001b[36m0.7619\u001b[0m        \u001b[32m0.5393\u001b[0m       \u001b[35m0.6877\u001b[0m        \u001b[31m0.5391\u001b[0m  0.8529\n",
      "      8     \u001b[36m0.7636\u001b[0m        \u001b[32m0.5361\u001b[0m       0.6864        \u001b[31m0.5364\u001b[0m  0.7859\n",
      "      9     \u001b[36m0.7641\u001b[0m        \u001b[32m0.5335\u001b[0m       0.6844        \u001b[31m0.5350\u001b[0m  0.9105\n",
      "     10     0.7637        \u001b[32m0.5317\u001b[0m       0.6859        \u001b[31m0.5342\u001b[0m  0.9002\n",
      "     11     0.7631        \u001b[32m0.5303\u001b[0m       0.6868        \u001b[31m0.5339\u001b[0m  0.8996\n",
      "     12     0.7627        \u001b[32m0.5292\u001b[0m       0.6859        \u001b[31m0.5337\u001b[0m  0.8486\n",
      "     13     0.7625        \u001b[32m0.5283\u001b[0m       0.6853        \u001b[31m0.5337\u001b[0m  0.8622\n",
      "Stopping since roc_auc has not improved in the last 5 epochs.\n",
      "[CV 1/3] END module__n_hidden_neurons_1=15, module__n_hidden_neurons_2=15, module__n_in_neurons=125, module__n_out_neurons=1; total time=  12.5s\n",
      "  epoch    roc_auc    train_loss    valid_acc    valid_loss     dur\n",
      "-------  ---------  ------------  -----------  ------------  ------\n",
      "      1     \u001b[36m0.7478\u001b[0m        \u001b[32m0.6082\u001b[0m       \u001b[35m0.6742\u001b[0m        \u001b[31m0.5717\u001b[0m  0.8399\n",
      "      2     \u001b[36m0.7572\u001b[0m        \u001b[32m0.5659\u001b[0m       \u001b[35m0.6794\u001b[0m        \u001b[31m0.5581\u001b[0m  0.8557\n",
      "      3     \u001b[36m0.7597\u001b[0m        \u001b[32m0.5554\u001b[0m       \u001b[35m0.6816\u001b[0m        \u001b[31m0.5507\u001b[0m  0.8680\n",
      "      4     \u001b[36m0.7613\u001b[0m        \u001b[32m0.5476\u001b[0m       \u001b[35m0.6836\u001b[0m        \u001b[31m0.5465\u001b[0m  0.7705\n",
      "      5     \u001b[36m0.7624\u001b[0m        \u001b[32m0.5427\u001b[0m       \u001b[35m0.6838\u001b[0m        \u001b[31m0.5431\u001b[0m  0.9056\n",
      "      6     \u001b[36m0.7637\u001b[0m        \u001b[32m0.5392\u001b[0m       \u001b[35m0.6849\u001b[0m        \u001b[31m0.5407\u001b[0m  0.7560\n",
      "      7     \u001b[36m0.7651\u001b[0m        \u001b[32m0.5364\u001b[0m       \u001b[35m0.6855\u001b[0m        \u001b[31m0.5386\u001b[0m  0.8312\n",
      "      8     \u001b[36m0.7660\u001b[0m        \u001b[32m0.5339\u001b[0m       0.6853        \u001b[31m0.5369\u001b[0m  0.8208\n",
      "      9     \u001b[36m0.7665\u001b[0m        \u001b[32m0.5318\u001b[0m       0.6851        \u001b[31m0.5357\u001b[0m  0.8278\n",
      "     10     \u001b[36m0.7665\u001b[0m        \u001b[32m0.5303\u001b[0m       \u001b[35m0.6856\u001b[0m        \u001b[31m0.5348\u001b[0m  0.7749\n",
      "     11     0.7664        \u001b[32m0.5290\u001b[0m       \u001b[35m0.6862\u001b[0m        \u001b[31m0.5343\u001b[0m  0.8298\n",
      "     12     0.7661        \u001b[32m0.5279\u001b[0m       \u001b[35m0.6863\u001b[0m        \u001b[31m0.5340\u001b[0m  0.8199\n",
      "     13     0.7659        \u001b[32m0.5269\u001b[0m       \u001b[35m0.6869\u001b[0m        \u001b[31m0.5339\u001b[0m  0.8470\n",
      "Stopping since roc_auc has not improved in the last 5 epochs.\n",
      "[CV 2/3] END module__n_hidden_neurons_1=15, module__n_hidden_neurons_2=15, module__n_in_neurons=125, module__n_out_neurons=1; total time=  12.3s\n",
      "  epoch    roc_auc    train_loss    valid_acc    valid_loss     dur\n",
      "-------  ---------  ------------  -----------  ------------  ------\n",
      "      1     \u001b[36m0.7385\u001b[0m        \u001b[32m0.6152\u001b[0m       \u001b[35m0.6702\u001b[0m        \u001b[31m0.5767\u001b[0m  0.7700\n",
      "      2     \u001b[36m0.7546\u001b[0m        \u001b[32m0.5670\u001b[0m       \u001b[35m0.6770\u001b[0m        \u001b[31m0.5586\u001b[0m  0.9345\n",
      "      3     \u001b[36m0.7591\u001b[0m        \u001b[32m0.5549\u001b[0m       \u001b[35m0.6777\u001b[0m        \u001b[31m0.5508\u001b[0m  0.7590\n",
      "      4     \u001b[36m0.7611\u001b[0m        \u001b[32m0.5473\u001b[0m       \u001b[35m0.6780\u001b[0m        \u001b[31m0.5460\u001b[0m  0.8512\n",
      "      5     \u001b[36m0.7628\u001b[0m        \u001b[32m0.5423\u001b[0m       \u001b[35m0.6796\u001b[0m        \u001b[31m0.5425\u001b[0m  0.8417\n",
      "      6     \u001b[36m0.7646\u001b[0m        \u001b[32m0.5386\u001b[0m       \u001b[35m0.6842\u001b[0m        \u001b[31m0.5404\u001b[0m  0.8334\n",
      "      7     \u001b[36m0.7658\u001b[0m        \u001b[32m0.5359\u001b[0m       \u001b[35m0.6855\u001b[0m        \u001b[31m0.5387\u001b[0m  0.8305\n",
      "      8     \u001b[36m0.7663\u001b[0m        \u001b[32m0.5331\u001b[0m       0.6848        \u001b[31m0.5360\u001b[0m  0.8417\n",
      "      9     0.7662        \u001b[32m0.5306\u001b[0m       0.6853        \u001b[31m0.5351\u001b[0m  0.8357\n",
      "     10     0.7661        \u001b[32m0.5289\u001b[0m       0.6826        \u001b[31m0.5348\u001b[0m  0.8351\n",
      "     11     0.7658        \u001b[32m0.5276\u001b[0m       0.6802        0.5349  0.8318\n",
      "     12     0.7654        \u001b[32m0.5266\u001b[0m       0.6756        0.5352  0.7821\n",
      "Stopping since roc_auc has not improved in the last 5 epochs.\n",
      "[CV 3/3] END module__n_hidden_neurons_1=15, module__n_hidden_neurons_2=15, module__n_in_neurons=125, module__n_out_neurons=1; total time=  11.4s\n",
      "  epoch    roc_auc    train_loss    valid_acc    valid_loss     dur\n",
      "-------  ---------  ------------  -----------  ------------  ------\n",
      "      1     \u001b[36m0.7404\u001b[0m        \u001b[32m0.6079\u001b[0m       \u001b[35m0.6748\u001b[0m        \u001b[31m0.5781\u001b[0m  1.0057\n",
      "      2     \u001b[36m0.7493\u001b[0m        \u001b[32m0.5684\u001b[0m       \u001b[35m0.6794\u001b[0m        \u001b[31m0.5624\u001b[0m  0.8124\n",
      "      3     \u001b[36m0.7531\u001b[0m        \u001b[32m0.5549\u001b[0m       \u001b[35m0.6811\u001b[0m        \u001b[31m0.5519\u001b[0m  0.9195\n",
      "      4     \u001b[36m0.7560\u001b[0m        \u001b[32m0.5473\u001b[0m       \u001b[35m0.6846\u001b[0m        \u001b[31m0.5471\u001b[0m  0.9163\n",
      "      5     \u001b[36m0.7584\u001b[0m        \u001b[32m0.5433\u001b[0m       0.6846        \u001b[31m0.5440\u001b[0m  0.9041\n",
      "      6     \u001b[36m0.7603\u001b[0m        \u001b[32m0.5403\u001b[0m       \u001b[35m0.6853\u001b[0m        \u001b[31m0.5413\u001b[0m  0.8727\n",
      "      7     \u001b[36m0.7622\u001b[0m        \u001b[32m0.5374\u001b[0m       \u001b[35m0.6858\u001b[0m        \u001b[31m0.5386\u001b[0m  0.8562\n",
      "      8     \u001b[36m0.7630\u001b[0m        \u001b[32m0.5347\u001b[0m       0.6840        \u001b[31m0.5366\u001b[0m  0.8736\n",
      "      9     \u001b[36m0.7634\u001b[0m        \u001b[32m0.5324\u001b[0m       0.6831        \u001b[31m0.5353\u001b[0m  0.8489\n",
      "     10     \u001b[36m0.7637\u001b[0m        \u001b[32m0.5305\u001b[0m       0.6842        \u001b[31m0.5345\u001b[0m  0.8924\n",
      "     11     \u001b[36m0.7639\u001b[0m        \u001b[32m0.5291\u001b[0m       0.6853        \u001b[31m0.5341\u001b[0m  0.8250\n",
      "     12     \u001b[36m0.7639\u001b[0m        \u001b[32m0.5279\u001b[0m       \u001b[35m0.6868\u001b[0m        \u001b[31m0.5339\u001b[0m  0.8755\n",
      "     13     0.7639        \u001b[32m0.5270\u001b[0m       \u001b[35m0.6878\u001b[0m        \u001b[31m0.5338\u001b[0m  0.8362\n",
      "     14     0.7639        \u001b[32m0.5262\u001b[0m       \u001b[35m0.6883\u001b[0m        \u001b[31m0.5337\u001b[0m  0.8548\n",
      "     15     0.7638        \u001b[32m0.5254\u001b[0m       \u001b[35m0.6883\u001b[0m        \u001b[31m0.5336\u001b[0m  0.8680\n",
      "Stopping since roc_auc has not improved in the last 5 epochs.\n",
      "[CV 1/3] END module__n_hidden_neurons_1=20, module__n_hidden_neurons_2=15, module__n_in_neurons=125, module__n_out_neurons=1; total time=  14.6s\n",
      "  epoch    roc_auc    train_loss    valid_acc    valid_loss     dur\n",
      "-------  ---------  ------------  -----------  ------------  ------\n",
      "      1     \u001b[36m0.7439\u001b[0m        \u001b[32m0.6108\u001b[0m       \u001b[35m0.6756\u001b[0m        \u001b[31m0.5790\u001b[0m  0.8806\n",
      "      2     \u001b[36m0.7555\u001b[0m        \u001b[32m0.5684\u001b[0m       \u001b[35m0.6778\u001b[0m        \u001b[31m0.5590\u001b[0m  0.8357\n",
      "      3     \u001b[36m0.7596\u001b[0m        \u001b[32m0.5547\u001b[0m       \u001b[35m0.6827\u001b[0m        \u001b[31m0.5505\u001b[0m  0.7789\n",
      "      4     \u001b[36m0.7614\u001b[0m        \u001b[32m0.5457\u001b[0m       \u001b[35m0.6834\u001b[0m        \u001b[31m0.5447\u001b[0m  0.8447\n",
      "      5     \u001b[36m0.7633\u001b[0m        \u001b[32m0.5403\u001b[0m       \u001b[35m0.6845\u001b[0m        \u001b[31m0.5412\u001b[0m  0.8110\n",
      "      6     \u001b[36m0.7651\u001b[0m        \u001b[32m0.5363\u001b[0m       \u001b[35m0.6853\u001b[0m        \u001b[31m0.5383\u001b[0m  0.8551\n",
      "      7     \u001b[36m0.7660\u001b[0m        \u001b[32m0.5331\u001b[0m       \u001b[35m0.6863\u001b[0m        \u001b[31m0.5368\u001b[0m  1.0169\n",
      "      8     \u001b[36m0.7660\u001b[0m        \u001b[32m0.5310\u001b[0m       0.6860        \u001b[31m0.5360\u001b[0m  0.7654\n",
      "      9     0.7660        \u001b[32m0.5295\u001b[0m       0.6857        \u001b[31m0.5351\u001b[0m  0.8499\n",
      "     10     0.7659        \u001b[32m0.5282\u001b[0m       0.6858        \u001b[31m0.5344\u001b[0m  0.8320\n",
      "     11     0.7658        \u001b[32m0.5271\u001b[0m       0.6861        \u001b[31m0.5341\u001b[0m  0.8436\n",
      "Stopping since roc_auc has not improved in the last 5 epochs.\n",
      "[CV 2/3] END module__n_hidden_neurons_1=20, module__n_hidden_neurons_2=15, module__n_in_neurons=125, module__n_out_neurons=1; total time=  10.7s\n",
      "  epoch    roc_auc    train_loss    valid_acc    valid_loss     dur\n",
      "-------  ---------  ------------  -----------  ------------  ------\n",
      "      1     \u001b[36m0.7394\u001b[0m        \u001b[32m0.6108\u001b[0m       \u001b[35m0.6742\u001b[0m        \u001b[31m0.5773\u001b[0m  0.8543\n",
      "      2     \u001b[36m0.7546\u001b[0m        \u001b[32m0.5685\u001b[0m       \u001b[35m0.6780\u001b[0m        \u001b[31m0.5590\u001b[0m  0.8938\n",
      "      3     \u001b[36m0.7594\u001b[0m        \u001b[32m0.5552\u001b[0m       \u001b[35m0.6793\u001b[0m        \u001b[31m0.5501\u001b[0m  0.9475\n",
      "      4     \u001b[36m0.7618\u001b[0m        \u001b[32m0.5468\u001b[0m       0.6789        \u001b[31m0.5449\u001b[0m  0.7804\n",
      "      5     \u001b[36m0.7641\u001b[0m        \u001b[32m0.5412\u001b[0m       \u001b[35m0.6813\u001b[0m        \u001b[31m0.5411\u001b[0m  0.9333\n",
      "      6     \u001b[36m0.7658\u001b[0m        \u001b[32m0.5372\u001b[0m       \u001b[35m0.6836\u001b[0m        \u001b[31m0.5390\u001b[0m  0.7849\n",
      "      7     \u001b[36m0.7671\u001b[0m        \u001b[32m0.5343\u001b[0m       \u001b[35m0.6850\u001b[0m        \u001b[31m0.5367\u001b[0m  0.8322\n",
      "      8     \u001b[36m0.7678\u001b[0m        \u001b[32m0.5316\u001b[0m       0.6845        \u001b[31m0.5348\u001b[0m  0.8763\n",
      "      9     \u001b[36m0.7682\u001b[0m        \u001b[32m0.5296\u001b[0m       0.6825        \u001b[31m0.5344\u001b[0m  0.8234\n",
      "     10     \u001b[36m0.7683\u001b[0m        \u001b[32m0.5284\u001b[0m       0.6822        0.5345  0.7654\n",
      "     11     0.7682        \u001b[32m0.5274\u001b[0m       0.6820        0.5348  0.8711\n",
      "     12     0.7681        \u001b[32m0.5266\u001b[0m       0.6809        0.5352  0.9361\n",
      "     13     0.7679        \u001b[32m0.5258\u001b[0m       0.6789        0.5357  1.0534\n",
      "Stopping since roc_auc has not improved in the last 5 epochs.\n",
      "[CV 3/3] END module__n_hidden_neurons_1=20, module__n_hidden_neurons_2=15, module__n_in_neurons=125, module__n_out_neurons=1; total time=  12.9s\n",
      "  epoch    roc_auc    train_loss    valid_acc    valid_loss     dur\n",
      "-------  ---------  ------------  -----------  ------------  ------\n",
      "      1     \u001b[36m0.7384\u001b[0m        \u001b[32m0.6108\u001b[0m       \u001b[35m0.6742\u001b[0m        \u001b[31m0.5782\u001b[0m  0.8713\n",
      "      2     \u001b[36m0.7496\u001b[0m        \u001b[32m0.5675\u001b[0m       \u001b[35m0.6808\u001b[0m        \u001b[31m0.5607\u001b[0m  0.8477\n",
      "      3     \u001b[36m0.7538\u001b[0m        \u001b[32m0.5548\u001b[0m       0.6808        \u001b[31m0.5522\u001b[0m  0.7507\n",
      "      4     \u001b[36m0.7566\u001b[0m        \u001b[32m0.5473\u001b[0m       \u001b[35m0.6839\u001b[0m        \u001b[31m0.5468\u001b[0m  0.9307\n",
      "      5     \u001b[36m0.7595\u001b[0m        \u001b[32m0.5427\u001b[0m       \u001b[35m0.6853\u001b[0m        \u001b[31m0.5433\u001b[0m  0.7640\n",
      "      6     \u001b[36m0.7622\u001b[0m        \u001b[32m0.5389\u001b[0m       \u001b[35m0.6873\u001b[0m        \u001b[31m0.5400\u001b[0m  0.8598\n",
      "      7     \u001b[36m0.7637\u001b[0m        \u001b[32m0.5356\u001b[0m       0.6871        \u001b[31m0.5369\u001b[0m  0.8347\n",
      "      8     \u001b[36m0.7647\u001b[0m        \u001b[32m0.5331\u001b[0m       \u001b[35m0.6886\u001b[0m        \u001b[31m0.5346\u001b[0m  0.8537\n",
      "      9     \u001b[36m0.7649\u001b[0m        \u001b[32m0.5311\u001b[0m       0.6842        \u001b[31m0.5335\u001b[0m  0.7669\n",
      "     10     0.7648        \u001b[32m0.5296\u001b[0m       0.6834        \u001b[31m0.5330\u001b[0m  1.0995\n",
      "     11     0.7646        \u001b[32m0.5285\u001b[0m       0.6833        \u001b[31m0.5328\u001b[0m  1.1310\n",
      "     12     0.7644        \u001b[32m0.5277\u001b[0m       0.6839        \u001b[31m0.5328\u001b[0m  0.9973\n",
      "     13     0.7641        \u001b[32m0.5269\u001b[0m       0.6841        0.5328  0.9465\n",
      "Stopping since roc_auc has not improved in the last 5 epochs.\n",
      "[CV 1/3] END module__n_hidden_neurons_1=15, module__n_hidden_neurons_2=20, module__n_in_neurons=125, module__n_out_neurons=1; total time=  13.2s\n",
      "  epoch    roc_auc    train_loss    valid_acc    valid_loss     dur\n",
      "-------  ---------  ------------  -----------  ------------  ------\n",
      "      1     \u001b[36m0.7457\u001b[0m        \u001b[32m0.6099\u001b[0m       \u001b[35m0.6751\u001b[0m        \u001b[31m0.5726\u001b[0m  1.0859\n",
      "      2     \u001b[36m0.7563\u001b[0m        \u001b[32m0.5651\u001b[0m       \u001b[35m0.6779\u001b[0m        \u001b[31m0.5564\u001b[0m  0.9828\n",
      "      3     \u001b[36m0.7600\u001b[0m        \u001b[32m0.5537\u001b[0m       \u001b[35m0.6820\u001b[0m        \u001b[31m0.5495\u001b[0m  0.8362\n",
      "      4     \u001b[36m0.7622\u001b[0m        \u001b[32m0.5467\u001b[0m       \u001b[35m0.6841\u001b[0m        \u001b[31m0.5453\u001b[0m  1.0183\n",
      "      5     \u001b[36m0.7634\u001b[0m        \u001b[32m0.5416\u001b[0m       \u001b[35m0.6843\u001b[0m        \u001b[31m0.5419\u001b[0m  1.0114\n",
      "      6     \u001b[36m0.7647\u001b[0m        \u001b[32m0.5375\u001b[0m       \u001b[35m0.6856\u001b[0m        \u001b[31m0.5390\u001b[0m  0.8415\n",
      "      7     \u001b[36m0.7655\u001b[0m        \u001b[32m0.5342\u001b[0m       \u001b[35m0.6859\u001b[0m        \u001b[31m0.5371\u001b[0m  0.9601\n",
      "      8     \u001b[36m0.7656\u001b[0m        \u001b[32m0.5318\u001b[0m       \u001b[35m0.6861\u001b[0m        \u001b[31m0.5361\u001b[0m  0.9742\n",
      "      9     0.7654        \u001b[32m0.5300\u001b[0m       0.6857        \u001b[31m0.5355\u001b[0m  0.9385\n",
      "     10     0.7653        \u001b[32m0.5287\u001b[0m       0.6860        \u001b[31m0.5350\u001b[0m  0.9236\n",
      "     11     0.7654        \u001b[32m0.5275\u001b[0m       \u001b[35m0.6867\u001b[0m        \u001b[31m0.5345\u001b[0m  0.9746\n",
      "     12     0.7655        \u001b[32m0.5265\u001b[0m       0.6864        \u001b[31m0.5342\u001b[0m  0.7979\n",
      "Stopping since roc_auc has not improved in the last 5 epochs.\n",
      "[CV 2/3] END module__n_hidden_neurons_1=15, module__n_hidden_neurons_2=20, module__n_in_neurons=125, module__n_out_neurons=1; total time=  12.8s\n",
      "  epoch    roc_auc    train_loss    valid_acc    valid_loss     dur\n",
      "-------  ---------  ------------  -----------  ------------  ------\n",
      "      1     \u001b[36m0.7415\u001b[0m        \u001b[32m0.6079\u001b[0m       \u001b[35m0.6772\u001b[0m        \u001b[31m0.5765\u001b[0m  0.8687\n",
      "      2     \u001b[36m0.7546\u001b[0m        \u001b[32m0.5686\u001b[0m       0.6721        \u001b[31m0.5614\u001b[0m  0.8484\n",
      "      3     \u001b[36m0.7588\u001b[0m        \u001b[32m0.5576\u001b[0m       \u001b[35m0.6783\u001b[0m        \u001b[31m0.5525\u001b[0m  0.7880\n",
      "      4     \u001b[36m0.7615\u001b[0m        \u001b[32m0.5497\u001b[0m       \u001b[35m0.6785\u001b[0m        \u001b[31m0.5473\u001b[0m  1.0223\n",
      "      5     \u001b[36m0.7632\u001b[0m        \u001b[32m0.5438\u001b[0m       \u001b[35m0.6800\u001b[0m        \u001b[31m0.5439\u001b[0m  0.8893\n",
      "      6     \u001b[36m0.7652\u001b[0m        \u001b[32m0.5396\u001b[0m       \u001b[35m0.6824\u001b[0m        \u001b[31m0.5404\u001b[0m  0.8775\n",
      "      7     \u001b[36m0.7665\u001b[0m        \u001b[32m0.5358\u001b[0m       \u001b[35m0.6854\u001b[0m        \u001b[31m0.5374\u001b[0m  0.8547\n",
      "      8     \u001b[36m0.7671\u001b[0m        \u001b[32m0.5330\u001b[0m       \u001b[35m0.6870\u001b[0m        \u001b[31m0.5362\u001b[0m  0.8845\n",
      "      9     \u001b[36m0.7672\u001b[0m        \u001b[32m0.5312\u001b[0m       0.6864        \u001b[31m0.5354\u001b[0m  0.8899\n",
      "     10     \u001b[36m0.7674\u001b[0m        \u001b[32m0.5294\u001b[0m       0.6854        \u001b[31m0.5342\u001b[0m  0.8347\n",
      "     11     0.7673        \u001b[32m0.5279\u001b[0m       0.6836        \u001b[31m0.5341\u001b[0m  0.8341\n",
      "     12     0.7672        \u001b[32m0.5269\u001b[0m       0.6828        \u001b[31m0.5341\u001b[0m  0.8092\n",
      "     13     0.7670        \u001b[32m0.5261\u001b[0m       0.6814        0.5341  0.8450\n",
      "     14     0.7669        \u001b[32m0.5253\u001b[0m       0.6803        0.5343  0.8450\n",
      "Stopping since roc_auc has not improved in the last 5 epochs.\n",
      "[CV 3/3] END module__n_hidden_neurons_1=15, module__n_hidden_neurons_2=20, module__n_in_neurons=125, module__n_out_neurons=1; total time=  13.6s\n",
      "  epoch    roc_auc    train_loss    valid_acc    valid_loss     dur\n",
      "-------  ---------  ------------  -----------  ------------  ------\n",
      "      1     \u001b[36m0.7388\u001b[0m        \u001b[32m0.6142\u001b[0m       \u001b[35m0.6745\u001b[0m        \u001b[31m0.5815\u001b[0m  0.7593\n",
      "      2     \u001b[36m0.7492\u001b[0m        \u001b[32m0.5691\u001b[0m       \u001b[35m0.6794\u001b[0m        \u001b[31m0.5639\u001b[0m  0.8486\n",
      "      3     \u001b[36m0.7531\u001b[0m        \u001b[32m0.5583\u001b[0m       \u001b[35m0.6811\u001b[0m        \u001b[31m0.5562\u001b[0m  0.8806\n",
      "      4     \u001b[36m0.7556\u001b[0m        \u001b[32m0.5508\u001b[0m       \u001b[35m0.6825\u001b[0m        \u001b[31m0.5501\u001b[0m  0.8323\n",
      "      5     \u001b[36m0.7586\u001b[0m        \u001b[32m0.5454\u001b[0m       \u001b[35m0.6841\u001b[0m        \u001b[31m0.5461\u001b[0m  0.7825\n",
      "      6     \u001b[36m0.7613\u001b[0m        \u001b[32m0.5415\u001b[0m       \u001b[35m0.6861\u001b[0m        \u001b[31m0.5427\u001b[0m  0.8567\n",
      "      7     \u001b[36m0.7631\u001b[0m        \u001b[32m0.5382\u001b[0m       \u001b[35m0.6864\u001b[0m        \u001b[31m0.5396\u001b[0m  1.0359\n",
      "      8     \u001b[36m0.7639\u001b[0m        \u001b[32m0.5357\u001b[0m       0.6859        \u001b[31m0.5377\u001b[0m  0.7986\n",
      "      9     \u001b[36m0.7641\u001b[0m        \u001b[32m0.5336\u001b[0m       0.6856        \u001b[31m0.5366\u001b[0m  0.9055\n",
      "     10     0.7640        \u001b[32m0.5319\u001b[0m       \u001b[35m0.6866\u001b[0m        \u001b[31m0.5359\u001b[0m  0.7922\n",
      "     11     0.7637        \u001b[32m0.5306\u001b[0m       0.6853        \u001b[31m0.5354\u001b[0m  0.8667\n",
      "     12     0.7635        \u001b[32m0.5296\u001b[0m       0.6852        \u001b[31m0.5351\u001b[0m  0.8563\n",
      "     13     0.7631        \u001b[32m0.5287\u001b[0m       0.6854        \u001b[31m0.5348\u001b[0m  0.8471\n",
      "Stopping since roc_auc has not improved in the last 5 epochs.\n",
      "[CV 1/3] END module__n_hidden_neurons_1=10, module__n_hidden_neurons_2=15, module__n_in_neurons=125, module__n_out_neurons=1; total time=  12.4s\n",
      "  epoch    roc_auc    train_loss    valid_acc    valid_loss     dur\n",
      "-------  ---------  ------------  -----------  ------------  ------\n",
      "      1     \u001b[36m0.7402\u001b[0m        \u001b[32m0.6150\u001b[0m       \u001b[35m0.6738\u001b[0m        \u001b[31m0.5776\u001b[0m  0.8449\n",
      "      2     \u001b[36m0.7549\u001b[0m        \u001b[32m0.5668\u001b[0m       \u001b[35m0.6802\u001b[0m        \u001b[31m0.5582\u001b[0m  0.8452\n",
      "      3     \u001b[36m0.7593\u001b[0m        \u001b[32m0.5547\u001b[0m       \u001b[35m0.6827\u001b[0m        \u001b[31m0.5516\u001b[0m  0.8567\n",
      "      4     \u001b[36m0.7620\u001b[0m        \u001b[32m0.5477\u001b[0m       \u001b[35m0.6838\u001b[0m        \u001b[31m0.5464\u001b[0m  0.7763\n",
      "      5     \u001b[36m0.7642\u001b[0m        \u001b[32m0.5420\u001b[0m       \u001b[35m0.6851\u001b[0m        \u001b[31m0.5421\u001b[0m  0.9467\n",
      "      6     \u001b[36m0.7656\u001b[0m        \u001b[32m0.5374\u001b[0m       \u001b[35m0.6859\u001b[0m        \u001b[31m0.5392\u001b[0m  0.7779\n",
      "      7     \u001b[36m0.7663\u001b[0m        \u001b[32m0.5343\u001b[0m       \u001b[35m0.6870\u001b[0m        \u001b[31m0.5374\u001b[0m  0.8450\n",
      "      8     \u001b[36m0.7664\u001b[0m        \u001b[32m0.5322\u001b[0m       0.6867        \u001b[31m0.5365\u001b[0m  0.8662\n",
      "      9     0.7663        \u001b[32m0.5307\u001b[0m       0.6860        \u001b[31m0.5357\u001b[0m  0.9036\n",
      "     10     0.7661        \u001b[32m0.5296\u001b[0m       0.6854        \u001b[31m0.5351\u001b[0m  0.7502\n",
      "     11     0.7660        \u001b[32m0.5285\u001b[0m       0.6853        \u001b[31m0.5347\u001b[0m  1.0789\n",
      "     12     0.7658        \u001b[32m0.5276\u001b[0m       0.6850        \u001b[31m0.5346\u001b[0m  0.8316\n",
      "Stopping since roc_auc has not improved in the last 5 epochs.\n",
      "[CV 2/3] END module__n_hidden_neurons_1=10, module__n_hidden_neurons_2=15, module__n_in_neurons=125, module__n_out_neurons=1; total time=  11.7s\n",
      "  epoch    roc_auc    train_loss    valid_acc    valid_loss     dur\n",
      "-------  ---------  ------------  -----------  ------------  ------\n",
      "      1     \u001b[36m0.7399\u001b[0m        \u001b[32m0.6124\u001b[0m       \u001b[35m0.6763\u001b[0m        \u001b[31m0.5765\u001b[0m  0.8705\n",
      "      2     \u001b[36m0.7545\u001b[0m        \u001b[32m0.5682\u001b[0m       0.6742        \u001b[31m0.5607\u001b[0m  0.8691\n",
      "      3     \u001b[36m0.7579\u001b[0m        \u001b[32m0.5579\u001b[0m       \u001b[35m0.6772\u001b[0m        \u001b[31m0.5539\u001b[0m  0.8558\n",
      "      4     \u001b[36m0.7605\u001b[0m        \u001b[32m0.5517\u001b[0m       \u001b[35m0.6796\u001b[0m        \u001b[31m0.5496\u001b[0m  0.8516\n",
      "      5     \u001b[36m0.7626\u001b[0m        \u001b[32m0.5464\u001b[0m       \u001b[35m0.6812\u001b[0m        \u001b[31m0.5458\u001b[0m  0.8436\n",
      "      6     \u001b[36m0.7644\u001b[0m        \u001b[32m0.5419\u001b[0m       0.6806        \u001b[31m0.5423\u001b[0m  0.8624\n",
      "      7     \u001b[36m0.7657\u001b[0m        \u001b[32m0.5384\u001b[0m       \u001b[35m0.6844\u001b[0m        \u001b[31m0.5396\u001b[0m  0.8441\n",
      "      8     \u001b[36m0.7666\u001b[0m        \u001b[32m0.5358\u001b[0m       \u001b[35m0.6848\u001b[0m        \u001b[31m0.5387\u001b[0m  0.8536\n",
      "      9     \u001b[36m0.7670\u001b[0m        \u001b[32m0.5338\u001b[0m       0.6840        \u001b[31m0.5368\u001b[0m  0.8727\n",
      "     10     \u001b[36m0.7670\u001b[0m        \u001b[32m0.5315\u001b[0m       0.6844        \u001b[31m0.5355\u001b[0m  0.8621\n",
      "     11     0.7669        \u001b[32m0.5301\u001b[0m       \u001b[35m0.6853\u001b[0m        \u001b[31m0.5350\u001b[0m  0.8036\n",
      "     12     0.7669        \u001b[32m0.5291\u001b[0m       0.6848        \u001b[31m0.5349\u001b[0m  0.9205\n",
      "     13     0.7668        \u001b[32m0.5282\u001b[0m       0.6841        0.5349  0.7698\n",
      "Stopping since roc_auc has not improved in the last 5 epochs.\n",
      "[CV 3/3] END module__n_hidden_neurons_1=10, module__n_hidden_neurons_2=15, module__n_in_neurons=125, module__n_out_neurons=1; total time=  12.6s\n",
      "  epoch    roc_auc    train_loss    valid_acc    valid_loss     dur\n",
      "-------  ---------  ------------  -----------  ------------  ------\n",
      "      1     \u001b[36m0.7371\u001b[0m        \u001b[32m0.6126\u001b[0m       \u001b[35m0.6719\u001b[0m        \u001b[31m0.5784\u001b[0m  1.0353\n",
      "      2     \u001b[36m0.7493\u001b[0m        \u001b[32m0.5694\u001b[0m       \u001b[35m0.6808\u001b[0m        \u001b[31m0.5626\u001b[0m  0.8228\n",
      "      3     \u001b[36m0.7542\u001b[0m        \u001b[32m0.5542\u001b[0m       \u001b[35m0.6822\u001b[0m        \u001b[31m0.5507\u001b[0m  0.8677\n",
      "      4     \u001b[36m0.7574\u001b[0m        \u001b[32m0.5459\u001b[0m       \u001b[35m0.6851\u001b[0m        \u001b[31m0.5455\u001b[0m  0.8497\n",
      "      5     \u001b[36m0.7602\u001b[0m        \u001b[32m0.5415\u001b[0m       \u001b[35m0.6859\u001b[0m        \u001b[31m0.5415\u001b[0m  0.8658\n",
      "      6     \u001b[36m0.7628\u001b[0m        \u001b[32m0.5376\u001b[0m       \u001b[35m0.6869\u001b[0m        \u001b[31m0.5380\u001b[0m  0.9195\n",
      "      7     \u001b[36m0.7638\u001b[0m        \u001b[32m0.5342\u001b[0m       \u001b[35m0.6875\u001b[0m        \u001b[31m0.5358\u001b[0m  0.8498\n",
      "      8     0.7636        \u001b[32m0.5319\u001b[0m       \u001b[35m0.6878\u001b[0m        \u001b[31m0.5349\u001b[0m  0.8489\n",
      "      9     0.7633        \u001b[32m0.5303\u001b[0m       0.6877        \u001b[31m0.5346\u001b[0m  0.8806\n",
      "     10     0.7630        \u001b[32m0.5292\u001b[0m       \u001b[35m0.6880\u001b[0m        \u001b[31m0.5344\u001b[0m  0.8575\n",
      "     11     0.7629        \u001b[32m0.5281\u001b[0m       0.6871        \u001b[31m0.5341\u001b[0m  0.8089\n",
      "Stopping since roc_auc has not improved in the last 5 epochs.\n",
      "[CV 1/3] END module__n_hidden_neurons_1=20, module__n_hidden_neurons_2=10, module__n_in_neurons=125, module__n_out_neurons=1; total time=  11.0s\n",
      "  epoch    roc_auc    train_loss    valid_acc    valid_loss     dur\n",
      "-------  ---------  ------------  -----------  ------------  ------\n",
      "      1     \u001b[36m0.7463\u001b[0m        \u001b[32m0.6078\u001b[0m       \u001b[35m0.6752\u001b[0m        \u001b[31m0.5718\u001b[0m  0.8815\n",
      "      2     \u001b[36m0.7576\u001b[0m        \u001b[32m0.5622\u001b[0m       \u001b[35m0.6817\u001b[0m        \u001b[31m0.5540\u001b[0m  0.8966\n",
      "      3     \u001b[36m0.7609\u001b[0m        \u001b[32m0.5481\u001b[0m       \u001b[35m0.6830\u001b[0m        \u001b[31m0.5458\u001b[0m  0.8653\n",
      "      4     \u001b[36m0.7626\u001b[0m        \u001b[32m0.5413\u001b[0m       \u001b[35m0.6850\u001b[0m        \u001b[31m0.5419\u001b[0m  0.8505\n",
      "      5     \u001b[36m0.7643\u001b[0m        \u001b[32m0.5373\u001b[0m       \u001b[35m0.6856\u001b[0m        \u001b[31m0.5391\u001b[0m  0.8228\n",
      "      6     \u001b[36m0.7652\u001b[0m        \u001b[32m0.5342\u001b[0m       0.6852        \u001b[31m0.5367\u001b[0m  0.9150\n",
      "      7     \u001b[36m0.7661\u001b[0m        \u001b[32m0.5318\u001b[0m       0.6856        \u001b[31m0.5349\u001b[0m  1.0882\n",
      "      8     \u001b[36m0.7663\u001b[0m        \u001b[32m0.5298\u001b[0m       \u001b[35m0.6859\u001b[0m        \u001b[31m0.5342\u001b[0m  0.8788\n",
      "      9     \u001b[36m0.7663\u001b[0m        \u001b[32m0.5283\u001b[0m       \u001b[35m0.6861\u001b[0m        \u001b[31m0.5339\u001b[0m  0.8749\n",
      "     10     0.7663        \u001b[32m0.5272\u001b[0m       \u001b[35m0.6862\u001b[0m        \u001b[31m0.5338\u001b[0m  0.8457\n",
      "     11     0.7663        \u001b[32m0.5262\u001b[0m       \u001b[35m0.6865\u001b[0m        \u001b[31m0.5337\u001b[0m  0.8067\n",
      "     12     0.7662        \u001b[32m0.5253\u001b[0m       0.6865        \u001b[31m0.5337\u001b[0m  0.8832\n",
      "Stopping since roc_auc has not improved in the last 5 epochs.\n",
      "[CV 2/3] END module__n_hidden_neurons_1=20, module__n_hidden_neurons_2=10, module__n_in_neurons=125, module__n_out_neurons=1; total time=  12.0s\n",
      "  epoch    roc_auc    train_loss    valid_acc    valid_loss     dur\n",
      "-------  ---------  ------------  -----------  ------------  ------\n",
      "      1     \u001b[36m0.7444\u001b[0m        \u001b[32m0.6072\u001b[0m       \u001b[35m0.6735\u001b[0m        \u001b[31m0.5747\u001b[0m  0.9046\n",
      "      2     \u001b[36m0.7558\u001b[0m        \u001b[32m0.5667\u001b[0m       \u001b[35m0.6752\u001b[0m        \u001b[31m0.5577\u001b[0m  0.8610\n",
      "      3     \u001b[36m0.7602\u001b[0m        \u001b[32m0.5530\u001b[0m       \u001b[35m0.6795\u001b[0m        \u001b[31m0.5477\u001b[0m  0.8400\n",
      "      4     \u001b[36m0.7617\u001b[0m        \u001b[32m0.5447\u001b[0m       \u001b[35m0.6838\u001b[0m        \u001b[31m0.5440\u001b[0m  0.8447\n",
      "      5     \u001b[36m0.7638\u001b[0m        \u001b[32m0.5410\u001b[0m       0.6831        \u001b[31m0.5414\u001b[0m  0.8574\n",
      "      6     \u001b[36m0.7656\u001b[0m        \u001b[32m0.5378\u001b[0m       0.6821        \u001b[31m0.5382\u001b[0m  0.7825\n",
      "      7     \u001b[36m0.7668\u001b[0m        \u001b[32m0.5348\u001b[0m       0.6830        \u001b[31m0.5360\u001b[0m  0.8361\n",
      "      8     \u001b[36m0.7674\u001b[0m        \u001b[32m0.5324\u001b[0m       0.6827        \u001b[31m0.5349\u001b[0m  0.8848\n",
      "      9     \u001b[36m0.7678\u001b[0m        \u001b[32m0.5306\u001b[0m       0.6799        \u001b[31m0.5348\u001b[0m  0.8890\n",
      "     10     \u001b[36m0.7679\u001b[0m        \u001b[32m0.5292\u001b[0m       0.6790        0.5352  0.8693\n",
      "     11     \u001b[36m0.7679\u001b[0m        \u001b[32m0.5281\u001b[0m       0.6763        0.5358  0.9894\n",
      "     12     0.7678        \u001b[32m0.5272\u001b[0m       0.6756        0.5359  0.8542\n",
      "     13     0.7678        \u001b[32m0.5263\u001b[0m       0.6799        0.5358  0.8583\n",
      "Stopping since roc_auc has not improved in the last 5 epochs.\n",
      "[CV 3/3] END module__n_hidden_neurons_1=20, module__n_hidden_neurons_2=10, module__n_in_neurons=125, module__n_out_neurons=1; total time=  12.6s\n",
      "  epoch    roc_auc    train_loss    valid_acc    valid_loss     dur\n",
      "-------  ---------  ------------  -----------  ------------  ------\n",
      "      1     \u001b[36m0.7349\u001b[0m        \u001b[32m0.6148\u001b[0m       \u001b[35m0.6700\u001b[0m        \u001b[31m0.5776\u001b[0m  0.8563\n",
      "      2     \u001b[36m0.7486\u001b[0m        \u001b[32m0.5688\u001b[0m       \u001b[35m0.6799\u001b[0m        \u001b[31m0.5622\u001b[0m  0.8643\n",
      "      3     \u001b[36m0.7538\u001b[0m        \u001b[32m0.5564\u001b[0m       \u001b[35m0.6823\u001b[0m        \u001b[31m0.5539\u001b[0m  0.9412\n",
      "      4     \u001b[36m0.7569\u001b[0m        \u001b[32m0.5486\u001b[0m       \u001b[35m0.6834\u001b[0m        \u001b[31m0.5478\u001b[0m  0.9264\n",
      "      5     \u001b[36m0.7596\u001b[0m        \u001b[32m0.5433\u001b[0m       \u001b[35m0.6859\u001b[0m        \u001b[31m0.5440\u001b[0m  0.9264\n",
      "      6     \u001b[36m0.7620\u001b[0m        \u001b[32m0.5395\u001b[0m       \u001b[35m0.6867\u001b[0m        \u001b[31m0.5411\u001b[0m  0.7964\n",
      "      7     \u001b[36m0.7628\u001b[0m        \u001b[32m0.5365\u001b[0m       0.6864        \u001b[31m0.5382\u001b[0m  0.8629\n",
      "      8     \u001b[36m0.7632\u001b[0m        \u001b[32m0.5339\u001b[0m       0.6860        \u001b[31m0.5363\u001b[0m  0.9205\n",
      "      9     \u001b[36m0.7637\u001b[0m        \u001b[32m0.5319\u001b[0m       0.6864        \u001b[31m0.5352\u001b[0m  0.8333\n",
      "     10     \u001b[36m0.7640\u001b[0m        \u001b[32m0.5304\u001b[0m       \u001b[35m0.6869\u001b[0m        \u001b[31m0.5344\u001b[0m  0.8625\n",
      "     11     \u001b[36m0.7640\u001b[0m        \u001b[32m0.5292\u001b[0m       0.6864        \u001b[31m0.5339\u001b[0m  0.8417\n",
      "     12     0.7639        \u001b[32m0.5283\u001b[0m       0.6861        \u001b[31m0.5336\u001b[0m  0.7711\n",
      "     13     0.7638        \u001b[32m0.5276\u001b[0m       0.6861        \u001b[31m0.5335\u001b[0m  0.8396\n",
      "     14     0.7636        \u001b[32m0.5270\u001b[0m       0.6862        \u001b[31m0.5334\u001b[0m  0.8876\n",
      "Stopping since roc_auc has not improved in the last 5 epochs.\n",
      "[CV 1/3] END module__n_hidden_neurons_1=10, module__n_hidden_neurons_2=20, module__n_in_neurons=125, module__n_out_neurons=1; total time=  13.8s\n",
      "  epoch    roc_auc    train_loss    valid_acc    valid_loss     dur\n",
      "-------  ---------  ------------  -----------  ------------  ------\n",
      "      1     \u001b[36m0.7447\u001b[0m        \u001b[32m0.6089\u001b[0m       \u001b[35m0.6766\u001b[0m        \u001b[31m0.5759\u001b[0m  0.7679\n",
      "      2     \u001b[36m0.7553\u001b[0m        \u001b[32m0.5683\u001b[0m       \u001b[35m0.6781\u001b[0m        \u001b[31m0.5597\u001b[0m  0.8427\n",
      "      3     \u001b[36m0.7586\u001b[0m        \u001b[32m0.5579\u001b[0m       0.6772        \u001b[31m0.5529\u001b[0m  0.8517\n",
      "      4     \u001b[36m0.7607\u001b[0m        \u001b[32m0.5505\u001b[0m       \u001b[35m0.6831\u001b[0m        \u001b[31m0.5486\u001b[0m  0.8407\n",
      "      5     \u001b[36m0.7622\u001b[0m        \u001b[32m0.5450\u001b[0m       \u001b[35m0.6836\u001b[0m        \u001b[31m0.5450\u001b[0m  0.8246\n",
      "      6     \u001b[36m0.7637\u001b[0m        \u001b[32m0.5408\u001b[0m       \u001b[35m0.6845\u001b[0m        \u001b[31m0.5418\u001b[0m  0.8476\n",
      "      7     \u001b[36m0.7651\u001b[0m        \u001b[32m0.5375\u001b[0m       \u001b[35m0.6858\u001b[0m        \u001b[31m0.5394\u001b[0m  0.8656\n",
      "      8     \u001b[36m0.7657\u001b[0m        \u001b[32m0.5348\u001b[0m       \u001b[35m0.6864\u001b[0m        \u001b[31m0.5379\u001b[0m  0.7804\n",
      "      9     \u001b[36m0.7662\u001b[0m        \u001b[32m0.5326\u001b[0m       \u001b[35m0.6869\u001b[0m        \u001b[31m0.5367\u001b[0m  0.8577\n",
      "     10     \u001b[36m0.7665\u001b[0m        \u001b[32m0.5309\u001b[0m       0.6861        \u001b[31m0.5357\u001b[0m  0.8437\n",
      "     11     0.7665        \u001b[32m0.5295\u001b[0m       0.6859        \u001b[31m0.5348\u001b[0m  0.8612\n",
      "     12     0.7663        \u001b[32m0.5284\u001b[0m       0.6859        \u001b[31m0.5344\u001b[0m  0.8620\n",
      "     13     0.7660        \u001b[32m0.5274\u001b[0m       0.6856        \u001b[31m0.5341\u001b[0m  0.8657\n",
      "     14     0.7657        \u001b[32m0.5266\u001b[0m       0.6854        \u001b[31m0.5340\u001b[0m  0.8586\n",
      "Stopping since roc_auc has not improved in the last 5 epochs.\n",
      "[CV 2/3] END module__n_hidden_neurons_1=10, module__n_hidden_neurons_2=20, module__n_in_neurons=125, module__n_out_neurons=1; total time=  13.2s\n",
      "  epoch    roc_auc    train_loss    valid_acc    valid_loss     dur\n",
      "-------  ---------  ------------  -----------  ------------  ------\n",
      "      1     \u001b[36m0.7436\u001b[0m        \u001b[32m0.6061\u001b[0m       \u001b[35m0.6719\u001b[0m        \u001b[31m0.5744\u001b[0m  0.7654\n",
      "      2     \u001b[36m0.7557\u001b[0m        \u001b[32m0.5673\u001b[0m       \u001b[35m0.6734\u001b[0m        \u001b[31m0.5604\u001b[0m  1.0410\n",
      "      3     \u001b[36m0.7594\u001b[0m        \u001b[32m0.5578\u001b[0m       \u001b[35m0.6774\u001b[0m        \u001b[31m0.5529\u001b[0m  0.9106\n",
      "      4     \u001b[36m0.7625\u001b[0m        \u001b[32m0.5505\u001b[0m       \u001b[35m0.6779\u001b[0m        \u001b[31m0.5475\u001b[0m  0.8384\n",
      "      5     \u001b[36m0.7645\u001b[0m        \u001b[32m0.5444\u001b[0m       \u001b[35m0.6801\u001b[0m        \u001b[31m0.5431\u001b[0m  0.8744\n",
      "      6     \u001b[36m0.7660\u001b[0m        \u001b[32m0.5395\u001b[0m       \u001b[35m0.6815\u001b[0m        \u001b[31m0.5388\u001b[0m  0.7799\n",
      "      7     \u001b[36m0.7669\u001b[0m        \u001b[32m0.5356\u001b[0m       \u001b[35m0.6849\u001b[0m        \u001b[31m0.5359\u001b[0m  0.9194\n",
      "      8     \u001b[36m0.7672\u001b[0m        \u001b[32m0.5330\u001b[0m       \u001b[35m0.6865\u001b[0m        \u001b[31m0.5349\u001b[0m  0.8127\n",
      "      9     \u001b[36m0.7672\u001b[0m        \u001b[32m0.5313\u001b[0m       0.6864        \u001b[31m0.5340\u001b[0m  0.8368\n",
      "     10     \u001b[36m0.7674\u001b[0m        \u001b[32m0.5295\u001b[0m       0.6856        \u001b[31m0.5331\u001b[0m  0.8270\n",
      "     11     \u001b[36m0.7674\u001b[0m        \u001b[32m0.5282\u001b[0m       0.6817        \u001b[31m0.5330\u001b[0m  0.8583\n",
      "     12     0.7672        \u001b[32m0.5273\u001b[0m       0.6828        0.5333  0.7938\n",
      "     13     0.7670        \u001b[32m0.5266\u001b[0m       0.6810        0.5336  0.8273\n",
      "     14     0.7668        \u001b[32m0.5260\u001b[0m       0.6785        0.5340  0.9013\n",
      "Stopping since roc_auc has not improved in the last 5 epochs.\n",
      "[CV 3/3] END module__n_hidden_neurons_1=10, module__n_hidden_neurons_2=20, module__n_in_neurons=125, module__n_out_neurons=1; total time=  13.4s\n",
      "  epoch    roc_auc    train_loss    valid_acc    valid_loss     dur\n",
      "-------  ---------  ------------  -----------  ------------  ------\n",
      "      1     \u001b[36m0.7375\u001b[0m        \u001b[32m0.6097\u001b[0m       \u001b[35m0.6740\u001b[0m        \u001b[31m0.5774\u001b[0m  0.8883\n",
      "      2     \u001b[36m0.7487\u001b[0m        \u001b[32m0.5711\u001b[0m       \u001b[35m0.6789\u001b[0m        \u001b[31m0.5679\u001b[0m  0.8637\n",
      "      3     \u001b[36m0.7525\u001b[0m        \u001b[32m0.5623\u001b[0m       \u001b[35m0.6817\u001b[0m        \u001b[31m0.5610\u001b[0m  0.8562\n",
      "      4     \u001b[36m0.7541\u001b[0m        \u001b[32m0.5542\u001b[0m       \u001b[35m0.6827\u001b[0m        \u001b[31m0.5528\u001b[0m  0.8850\n",
      "      5     \u001b[36m0.7571\u001b[0m        \u001b[32m0.5479\u001b[0m       \u001b[35m0.6848\u001b[0m        \u001b[31m0.5470\u001b[0m  1.0382\n",
      "      6     \u001b[36m0.7587\u001b[0m        \u001b[32m0.5436\u001b[0m       \u001b[35m0.6852\u001b[0m        \u001b[31m0.5444\u001b[0m  0.8207\n",
      "      7     \u001b[36m0.7616\u001b[0m        \u001b[32m0.5406\u001b[0m       0.6852        \u001b[31m0.5412\u001b[0m  0.8597\n",
      "      8     \u001b[36m0.7635\u001b[0m        \u001b[32m0.5371\u001b[0m       \u001b[35m0.6866\u001b[0m        \u001b[31m0.5377\u001b[0m  0.8812\n",
      "      9     \u001b[36m0.7643\u001b[0m        \u001b[32m0.5339\u001b[0m       0.6866        \u001b[31m0.5354\u001b[0m  0.8875\n",
      "     10     0.7641        \u001b[32m0.5316\u001b[0m       0.6841        \u001b[31m0.5345\u001b[0m  0.8757\n",
      "     11     0.7637        \u001b[32m0.5300\u001b[0m       0.6841        \u001b[31m0.5342\u001b[0m  0.7891\n",
      "     12     0.7633        \u001b[32m0.5289\u001b[0m       0.6822        \u001b[31m0.5341\u001b[0m  0.9547\n",
      "     13     0.7631        \u001b[32m0.5280\u001b[0m       0.6831        \u001b[31m0.5339\u001b[0m  0.7929\n",
      "Stopping since roc_auc has not improved in the last 5 epochs.\n",
      "[CV 1/3] END module__n_hidden_neurons_1=15, module__n_hidden_neurons_2=25, module__n_in_neurons=125, module__n_out_neurons=1; total time=  12.8s\n",
      "  epoch    roc_auc    train_loss    valid_acc    valid_loss     dur\n",
      "-------  ---------  ------------  -----------  ------------  ------\n",
      "      1     \u001b[36m0.7456\u001b[0m        \u001b[32m0.6062\u001b[0m       \u001b[35m0.6743\u001b[0m        \u001b[31m0.5732\u001b[0m  0.8867\n",
      "      2     \u001b[36m0.7562\u001b[0m        \u001b[32m0.5667\u001b[0m       \u001b[35m0.6781\u001b[0m        \u001b[31m0.5585\u001b[0m  0.7838\n",
      "      3     \u001b[36m0.7596\u001b[0m        \u001b[32m0.5542\u001b[0m       \u001b[35m0.6815\u001b[0m        \u001b[31m0.5493\u001b[0m  0.8813\n",
      "      4     \u001b[36m0.7613\u001b[0m        \u001b[32m0.5461\u001b[0m       \u001b[35m0.6835\u001b[0m        \u001b[31m0.5450\u001b[0m  0.8637\n",
      "      5     \u001b[36m0.7630\u001b[0m        \u001b[32m0.5414\u001b[0m       \u001b[35m0.6842\u001b[0m        \u001b[31m0.5419\u001b[0m  0.8441\n",
      "      6     \u001b[36m0.7647\u001b[0m        \u001b[32m0.5381\u001b[0m       \u001b[35m0.6851\u001b[0m        \u001b[31m0.5394\u001b[0m  0.8830\n",
      "      7     \u001b[36m0.7656\u001b[0m        \u001b[32m0.5353\u001b[0m       \u001b[35m0.6860\u001b[0m        \u001b[31m0.5375\u001b[0m  0.8656\n",
      "      8     \u001b[36m0.7661\u001b[0m        \u001b[32m0.5329\u001b[0m       0.6855        \u001b[31m0.5364\u001b[0m  0.8718\n",
      "      9     0.7660        \u001b[32m0.5310\u001b[0m       0.6856        \u001b[31m0.5359\u001b[0m  0.9781\n",
      "     10     0.7658        \u001b[32m0.5295\u001b[0m       0.6856        \u001b[31m0.5354\u001b[0m  0.8776\n",
      "     11     0.7657        \u001b[32m0.5284\u001b[0m       \u001b[35m0.6863\u001b[0m        \u001b[31m0.5350\u001b[0m  0.7932\n",
      "     12     0.7657        \u001b[32m0.5274\u001b[0m       \u001b[35m0.6870\u001b[0m        \u001b[31m0.5347\u001b[0m  0.8753\n",
      "Stopping since roc_auc has not improved in the last 5 epochs.\n",
      "[CV 2/3] END module__n_hidden_neurons_1=15, module__n_hidden_neurons_2=25, module__n_in_neurons=125, module__n_out_neurons=1; total time=  11.8s\n",
      "  epoch    roc_auc    train_loss    valid_acc    valid_loss     dur\n",
      "-------  ---------  ------------  -----------  ------------  ------\n",
      "      1     \u001b[36m0.7433\u001b[0m        \u001b[32m0.6049\u001b[0m       \u001b[35m0.6712\u001b[0m        \u001b[31m0.5745\u001b[0m  0.9275\n",
      "      2     \u001b[36m0.7555\u001b[0m        \u001b[32m0.5672\u001b[0m       \u001b[35m0.6718\u001b[0m        \u001b[31m0.5595\u001b[0m  0.8517\n",
      "      3     \u001b[36m0.7595\u001b[0m        \u001b[32m0.5558\u001b[0m       \u001b[35m0.6786\u001b[0m        \u001b[31m0.5508\u001b[0m  0.8567\n",
      "      4     \u001b[36m0.7621\u001b[0m        \u001b[32m0.5480\u001b[0m       0.6785        \u001b[31m0.5455\u001b[0m  0.9025\n",
      "      5     \u001b[36m0.7636\u001b[0m        \u001b[32m0.5428\u001b[0m       \u001b[35m0.6806\u001b[0m        \u001b[31m0.5425\u001b[0m  0.8487\n",
      "      6     \u001b[36m0.7648\u001b[0m        \u001b[32m0.5394\u001b[0m       \u001b[35m0.6832\u001b[0m        \u001b[31m0.5400\u001b[0m  0.7754\n",
      "      7     \u001b[36m0.7658\u001b[0m        \u001b[32m0.5364\u001b[0m       \u001b[35m0.6857\u001b[0m        \u001b[31m0.5383\u001b[0m  0.8710\n",
      "      8     \u001b[36m0.7662\u001b[0m        \u001b[32m0.5340\u001b[0m       \u001b[35m0.6868\u001b[0m        \u001b[31m0.5371\u001b[0m  0.8617\n",
      "      9     \u001b[36m0.7670\u001b[0m        \u001b[32m0.5319\u001b[0m       0.6856        \u001b[31m0.5359\u001b[0m  0.8410\n",
      "     10     \u001b[36m0.7673\u001b[0m        \u001b[32m0.5302\u001b[0m       0.6836        \u001b[31m0.5357\u001b[0m  0.8588\n",
      "     11     0.7673        \u001b[32m0.5290\u001b[0m       0.6803        0.5359  0.7899\n",
      "     12     \u001b[36m0.7673\u001b[0m        \u001b[32m0.5280\u001b[0m       0.6814        0.5362  0.8923\n",
      "     13     \u001b[36m0.7675\u001b[0m        \u001b[32m0.5271\u001b[0m       0.6789        0.5366  0.9242\n",
      "     14     0.7675        \u001b[32m0.5264\u001b[0m       0.6780        0.5370  1.0189\n",
      "     15     0.7674        \u001b[32m0.5257\u001b[0m       0.6747        0.5375  0.8857\n",
      "     16     0.7672        \u001b[32m0.5250\u001b[0m       0.6731        0.5380  0.8757\n",
      "     17     0.7667        \u001b[32m0.5244\u001b[0m       0.6733        0.5384  0.8077\n",
      "Stopping since roc_auc has not improved in the last 5 epochs.\n",
      "[CV 3/3] END module__n_hidden_neurons_1=15, module__n_hidden_neurons_2=25, module__n_in_neurons=125, module__n_out_neurons=1; total time=  16.3s\n",
      "  epoch    roc_auc    train_loss    valid_acc    valid_loss     dur\n",
      "-------  ---------  ------------  -----------  ------------  ------\n",
      "      1     \u001b[36m0.7396\u001b[0m        \u001b[32m0.6049\u001b[0m       \u001b[35m0.6765\u001b[0m        \u001b[31m0.5767\u001b[0m  0.8929\n",
      "      2     \u001b[36m0.7497\u001b[0m        \u001b[32m0.5699\u001b[0m       \u001b[35m0.6799\u001b[0m        \u001b[31m0.5634\u001b[0m  0.8658\n",
      "      3     \u001b[36m0.7536\u001b[0m        \u001b[32m0.5573\u001b[0m       \u001b[35m0.6812\u001b[0m        \u001b[31m0.5542\u001b[0m  0.8137\n",
      "      4     \u001b[36m0.7571\u001b[0m        \u001b[32m0.5479\u001b[0m       \u001b[35m0.6840\u001b[0m        \u001b[31m0.5467\u001b[0m  0.9157\n",
      "      5     \u001b[36m0.7592\u001b[0m        \u001b[32m0.5432\u001b[0m       \u001b[35m0.6850\u001b[0m        \u001b[31m0.5437\u001b[0m  0.8054\n",
      "      6     \u001b[36m0.7609\u001b[0m        \u001b[32m0.5398\u001b[0m       \u001b[35m0.6855\u001b[0m        \u001b[31m0.5412\u001b[0m  0.8527\n",
      "      7     \u001b[36m0.7623\u001b[0m        \u001b[32m0.5366\u001b[0m       \u001b[35m0.6859\u001b[0m        \u001b[31m0.5381\u001b[0m  0.8496\n",
      "      8     \u001b[36m0.7634\u001b[0m        \u001b[32m0.5336\u001b[0m       0.6857        \u001b[31m0.5359\u001b[0m  0.8458\n",
      "      9     \u001b[36m0.7636\u001b[0m        \u001b[32m0.5314\u001b[0m       \u001b[35m0.6860\u001b[0m        \u001b[31m0.5350\u001b[0m  0.8088\n",
      "     10     0.7635        \u001b[32m0.5298\u001b[0m       0.6857        \u001b[31m0.5344\u001b[0m  0.8704\n",
      "     11     0.7635        \u001b[32m0.5287\u001b[0m       0.6852        \u001b[31m0.5339\u001b[0m  0.8700\n",
      "     12     \u001b[36m0.7636\u001b[0m        \u001b[32m0.5277\u001b[0m       0.6846        \u001b[31m0.5336\u001b[0m  0.9006\n",
      "     13     \u001b[36m0.7637\u001b[0m        \u001b[32m0.5269\u001b[0m       0.6845        \u001b[31m0.5334\u001b[0m  1.2082\n",
      "     14     \u001b[36m0.7637\u001b[0m        \u001b[32m0.5261\u001b[0m       0.6848        \u001b[31m0.5333\u001b[0m  0.8421\n",
      "     15     \u001b[36m0.7638\u001b[0m        \u001b[32m0.5253\u001b[0m       0.6857        \u001b[31m0.5333\u001b[0m  0.9136\n",
      "     16     0.7637        \u001b[32m0.5246\u001b[0m       0.6860        0.5333  0.7927\n",
      "     17     0.7636        \u001b[32m0.5239\u001b[0m       \u001b[35m0.6863\u001b[0m        0.5334  0.9169\n",
      "Stopping since roc_auc has not improved in the last 5 epochs.\n",
      "[CV 1/3] END module__n_hidden_neurons_1=25, module__n_hidden_neurons_2=25, module__n_in_neurons=125, module__n_out_neurons=1; total time=  16.5s\n",
      "  epoch    roc_auc    train_loss    valid_acc    valid_loss     dur\n",
      "-------  ---------  ------------  -----------  ------------  ------\n",
      "      1     \u001b[36m0.7473\u001b[0m        \u001b[32m0.6055\u001b[0m       \u001b[35m0.6761\u001b[0m        \u001b[31m0.5694\u001b[0m  0.8340\n",
      "      2     \u001b[36m0.7574\u001b[0m        \u001b[32m0.5634\u001b[0m       \u001b[35m0.6785\u001b[0m        \u001b[31m0.5535\u001b[0m  0.8647\n",
      "      3     \u001b[36m0.7609\u001b[0m        \u001b[32m0.5498\u001b[0m       \u001b[35m0.6828\u001b[0m        \u001b[31m0.5466\u001b[0m  0.9446\n",
      "      4     \u001b[36m0.7622\u001b[0m        \u001b[32m0.5435\u001b[0m       \u001b[35m0.6831\u001b[0m        \u001b[31m0.5438\u001b[0m  0.8775\n",
      "      5     \u001b[36m0.7634\u001b[0m        \u001b[32m0.5400\u001b[0m       \u001b[35m0.6843\u001b[0m        \u001b[31m0.5413\u001b[0m  0.8946\n",
      "      6     \u001b[36m0.7646\u001b[0m        \u001b[32m0.5372\u001b[0m       \u001b[35m0.6856\u001b[0m        \u001b[31m0.5394\u001b[0m  0.9029\n",
      "      7     \u001b[36m0.7654\u001b[0m        \u001b[32m0.5346\u001b[0m       \u001b[35m0.6868\u001b[0m        \u001b[31m0.5376\u001b[0m  0.8717\n",
      "      8     \u001b[36m0.7655\u001b[0m        \u001b[32m0.5321\u001b[0m       \u001b[35m0.6872\u001b[0m        \u001b[31m0.5365\u001b[0m  0.8492\n",
      "      9     0.7655        \u001b[32m0.5301\u001b[0m       0.6871        \u001b[31m0.5359\u001b[0m  0.7975\n",
      "     10     0.7655        \u001b[32m0.5286\u001b[0m       0.6868        \u001b[31m0.5353\u001b[0m  0.9215\n",
      "     11     \u001b[36m0.7655\u001b[0m        \u001b[32m0.5273\u001b[0m       0.6870        \u001b[31m0.5347\u001b[0m  0.8606\n",
      "     12     \u001b[36m0.7658\u001b[0m        \u001b[32m0.5262\u001b[0m       0.6864        \u001b[31m0.5343\u001b[0m  1.0984\n",
      "     13     \u001b[36m0.7659\u001b[0m        \u001b[32m0.5253\u001b[0m       0.6868        \u001b[31m0.5341\u001b[0m  0.8876\n",
      "     14     0.7659        \u001b[32m0.5243\u001b[0m       \u001b[35m0.6877\u001b[0m        0.5341  0.7668\n",
      "     15     0.7658        \u001b[32m0.5235\u001b[0m       0.6873        0.5342  0.9349\n",
      "     16     0.7658        \u001b[32m0.5227\u001b[0m       \u001b[35m0.6878\u001b[0m        0.5344  0.7959\n",
      "     17     0.7659        \u001b[32m0.5220\u001b[0m       0.6877        0.5346  0.8594\n",
      "Stopping since roc_auc has not improved in the last 5 epochs.\n",
      "[CV 2/3] END module__n_hidden_neurons_1=25, module__n_hidden_neurons_2=25, module__n_in_neurons=125, module__n_out_neurons=1; total time=  16.5s\n",
      "  epoch    roc_auc    train_loss    valid_acc    valid_loss     dur\n",
      "-------  ---------  ------------  -----------  ------------  ------\n",
      "      1     \u001b[36m0.7440\u001b[0m        \u001b[32m0.6056\u001b[0m       \u001b[35m0.6658\u001b[0m        \u001b[31m0.5761\u001b[0m  0.8161\n",
      "      2     \u001b[36m0.7553\u001b[0m        \u001b[32m0.5673\u001b[0m       \u001b[35m0.6768\u001b[0m        \u001b[31m0.5586\u001b[0m  0.9009\n",
      "      3     \u001b[36m0.7593\u001b[0m        \u001b[32m0.5547\u001b[0m       \u001b[35m0.6782\u001b[0m        \u001b[31m0.5497\u001b[0m  0.8747\n",
      "      4     \u001b[36m0.7616\u001b[0m        \u001b[32m0.5458\u001b[0m       \u001b[35m0.6791\u001b[0m        \u001b[31m0.5442\u001b[0m  0.8559\n",
      "      5     \u001b[36m0.7638\u001b[0m        \u001b[32m0.5407\u001b[0m       \u001b[35m0.6803\u001b[0m        \u001b[31m0.5406\u001b[0m  0.8706\n",
      "      6     \u001b[36m0.7652\u001b[0m        \u001b[32m0.5370\u001b[0m       \u001b[35m0.6844\u001b[0m        \u001b[31m0.5384\u001b[0m  0.7959\n",
      "      7     \u001b[36m0.7661\u001b[0m        \u001b[32m0.5343\u001b[0m       \u001b[35m0.6850\u001b[0m        \u001b[31m0.5372\u001b[0m  0.9078\n",
      "      8     \u001b[36m0.7670\u001b[0m        \u001b[32m0.5320\u001b[0m       \u001b[35m0.6865\u001b[0m        \u001b[31m0.5353\u001b[0m  0.8023\n",
      "      9     \u001b[36m0.7679\u001b[0m        \u001b[32m0.5299\u001b[0m       0.6841        \u001b[31m0.5346\u001b[0m  0.8677\n",
      "     10     \u001b[36m0.7683\u001b[0m        \u001b[32m0.5285\u001b[0m       0.6836        \u001b[31m0.5345\u001b[0m  0.8489\n",
      "     11     0.7683        \u001b[32m0.5273\u001b[0m       0.6837        0.5346  0.9730\n",
      "     12     0.7683        \u001b[32m0.5263\u001b[0m       0.6826        0.5350  0.8865\n",
      "     13     0.7682        \u001b[32m0.5254\u001b[0m       0.6832        0.5356  0.8835\n",
      "     14     0.7679        \u001b[32m0.5245\u001b[0m       0.6787        0.5364  0.8956\n",
      "Stopping since roc_auc has not improved in the last 5 epochs.\n",
      "[CV 3/3] END module__n_hidden_neurons_1=25, module__n_hidden_neurons_2=25, module__n_in_neurons=125, module__n_out_neurons=1; total time=  13.6s\n",
      "  epoch    roc_auc    train_loss    valid_acc    valid_loss     dur\n",
      "-------  ---------  ------------  -----------  ------------  ------\n",
      "      1     \u001b[36m0.7528\u001b[0m        \u001b[32m0.5983\u001b[0m       \u001b[35m0.6778\u001b[0m        \u001b[31m0.5633\u001b[0m  1.3985\n",
      "      2     \u001b[36m0.7596\u001b[0m        \u001b[32m0.5586\u001b[0m       \u001b[35m0.6845\u001b[0m        \u001b[31m0.5492\u001b[0m  1.1924\n",
      "      3     \u001b[36m0.7624\u001b[0m        \u001b[32m0.5465\u001b[0m       \u001b[35m0.6857\u001b[0m        \u001b[31m0.5413\u001b[0m  1.3195\n",
      "      4     \u001b[36m0.7658\u001b[0m        \u001b[32m0.5410\u001b[0m       \u001b[35m0.6872\u001b[0m        \u001b[31m0.5368\u001b[0m  1.2863\n",
      "      5     \u001b[36m0.7692\u001b[0m        \u001b[32m0.5368\u001b[0m       \u001b[35m0.6891\u001b[0m        \u001b[31m0.5331\u001b[0m  1.2716\n",
      "      6     \u001b[36m0.7702\u001b[0m        \u001b[32m0.5332\u001b[0m       0.6888        \u001b[31m0.5312\u001b[0m  1.7038\n",
      "      7     \u001b[36m0.7706\u001b[0m        \u001b[32m0.5310\u001b[0m       0.6879        \u001b[31m0.5299\u001b[0m  1.6308\n",
      "      8     \u001b[36m0.7708\u001b[0m        \u001b[32m0.5296\u001b[0m       0.6883        \u001b[31m0.5292\u001b[0m  1.3734\n",
      "      9     \u001b[36m0.7710\u001b[0m        \u001b[32m0.5285\u001b[0m       0.6861        \u001b[31m0.5288\u001b[0m  1.4556\n",
      "     10     \u001b[36m0.7710\u001b[0m        \u001b[32m0.5277\u001b[0m       0.6853        \u001b[31m0.5287\u001b[0m  1.3324\n",
      "     11     0.7709        \u001b[32m0.5269\u001b[0m       0.6852        \u001b[31m0.5287\u001b[0m  1.3780\n",
      "     12     0.7709        \u001b[32m0.5261\u001b[0m       0.6865        \u001b[31m0.5287\u001b[0m  1.2726\n",
      "     13     0.7707        \u001b[32m0.5253\u001b[0m       0.6881        0.5287  1.2608\n",
      "Stopping since roc_auc has not improved in the last 5 epochs.\n"
     ]
    },
    {
     "data": {
      "text/plain": [
       "RandomizedSearchCV(cv=3,\n",
       "                   estimator=<class 'skorch.classifier.NeuralNetClassifier'>[uninitialized](\n",
       "  module=Basic_Net(\n",
       "    (layer1): Linear(in_features=125, out_features=20, bias=True)\n",
       "    (layer2): Linear(in_features=20, out_features=10, bias=True)\n",
       "    (layer3): Linear(in_features=10, out_features=1, bias=True)\n",
       "  ),\n",
       "),\n",
       "                   param_distributions={'module__n_hidden_neurons_1': range(10, 30, 5),\n",
       "                                        'module__n_hidden_neurons_2': range(10, 30, 5),\n",
       "                                        'module__n_in_neurons': [125],\n",
       "                                        'module__n_out_neurons': [1]},\n",
       "                   scoring='roc_auc', verbose=3)"
      ]
     },
     "execution_count": 146,
     "metadata": {},
     "output_type": "execute_result"
    }
   ],
   "source": [
    "grid = RandomizedSearchCV(skorch_classifier, params, cv=3, scoring=\"roc_auc\", verbose=3) \n",
    "grid.fit(X_train_tensor, y_train_tensor.reshape(-1,1)) "
   ]
  },
  {
   "cell_type": "code",
   "execution_count": 147,
   "id": "713975e7",
   "metadata": {},
   "outputs": [
    {
     "data": {
      "text/plain": [
       "{'module__n_out_neurons': 1,\n",
       " 'module__n_in_neurons': 125,\n",
       " 'module__n_hidden_neurons_2': 10,\n",
       " 'module__n_hidden_neurons_1': 20}"
      ]
     },
     "execution_count": 147,
     "metadata": {},
     "output_type": "execute_result"
    }
   ],
   "source": [
    "grid.best_params_ "
   ]
  },
  {
   "cell_type": "code",
   "execution_count": 148,
   "id": "1d7e7e02",
   "metadata": {},
   "outputs": [
    {
     "data": {
      "text/plain": [
       "0.7664172677889862"
      ]
     },
     "execution_count": 148,
     "metadata": {},
     "output_type": "execute_result"
    }
   ],
   "source": [
    "grid.best_score_"
   ]
  },
  {
   "cell_type": "code",
   "execution_count": 151,
   "id": "d0831d7a",
   "metadata": {},
   "outputs": [],
   "source": [
    "basic_net = Basic_Net(n_in_neurons, 10, 20, n_out_neurons)\n",
    "basic_net.apply(init_weights)\n",
    "optimizer = torch.optim.Adam(basic_net.parameters(), lr=learning_rate) \n",
    "num_epochs = 200 "
   ]
  },
  {
   "cell_type": "code",
   "execution_count": 152,
   "id": "b55c32ba",
   "metadata": {},
   "outputs": [
    {
     "name": "stdout",
     "output_type": "stream",
     "text": [
      "INFO: Early stopping counter 6 of 5\n",
      "INFO: Early stopping\n",
      "epoch:0, AUC test: 0.7573175315171947\n",
      "Early Stopping!!!\n"
     ]
    }
   ],
   "source": [
    "for epoch in range(num_epochs):\n",
    "    basic_net.train() \n",
    "    for batch in train_dataloader:\n",
    "        data_train, target_train = batch   # просто выгружаем данные \n",
    "        optimizer.zero_grad() \n",
    "        preds = basic_net.forward(data_train).flatten()\n",
    "        loss_value = loss(preds, target_train)\n",
    "        loss_value.backward()\n",
    "        optimizer.step()\n",
    "\n",
    "    if epoch % 10 == 0:\n",
    "        predicted_temp = [] \n",
    "        with torch.no_grad():\n",
    "            basic_net.eval()\n",
    "            for batch in test_dataloader:\n",
    "                data_test, target_test = batch # просто выгружаем данные\n",
    "\n",
    "                test_preds = basic_net.forward(data_test).flatten()\n",
    "                predicted_temp.append(test_preds)\n",
    "                BCE_loss = loss(test_preds, target_test) \n",
    "\n",
    "        predicted_temp = torch.cat(predicted_temp).detach().numpy()\n",
    "        AUC = roc_auc_score(y_test, predicted_temp)\n",
    "        early_stopping(AUC)\n",
    "        print(f\"epoch:{epoch}, AUC test: {AUC}\")\n",
    "\n",
    "        if early_stopping.early_stop:\n",
    "            print('Early Stopping!!!')\n",
    "            break "
   ]
  }
 ],
 "metadata": {
  "kernelspec": {
   "display_name": "Python 3 (ipykernel)",
   "language": "python",
   "name": "python3"
  },
  "language_info": {
   "codemirror_mode": {
    "name": "ipython",
    "version": 3
   },
   "file_extension": ".py",
   "mimetype": "text/x-python",
   "name": "python",
   "nbconvert_exporter": "python",
   "pygments_lexer": "ipython3",
   "version": "3.9.12"
  },
  "toc": {
   "base_numbering": 1,
   "nav_menu": {},
   "number_sections": true,
   "sideBar": true,
   "skip_h1_title": false,
   "title_cell": "Table of Contents",
   "title_sidebar": "Contents",
   "toc_cell": false,
   "toc_position": {
    "height": "calc(100% - 180px)",
    "left": "10px",
    "top": "150px",
    "width": "204.094px"
   },
   "toc_section_display": true,
   "toc_window_display": true
  }
 },
 "nbformat": 4,
 "nbformat_minor": 5
}
